{
  "nbformat": 4,
  "nbformat_minor": 0,
  "metadata": {
    "colab": {
      "provenance": [],
      "authorship_tag": "ABX9TyNqEMABoIdiZX3ReCz/DYlI",
      "include_colab_link": true
    },
    "kernelspec": {
      "name": "python3",
      "display_name": "Python 3"
    },
    "language_info": {
      "name": "python"
    }
  },
  "cells": [
    {
      "cell_type": "markdown",
      "metadata": {
        "id": "view-in-github",
        "colab_type": "text"
      },
      "source": [
        "<a href=\"https://colab.research.google.com/github/MattWroclaw/neural-networks/blob/main/02_basics/05_regression_metrics.ipynb\" target=\"_parent\"><img src=\"https://colab.research.google.com/assets/colab-badge.svg\" alt=\"Open In Colab\"/></a>"
      ]
    },
    {
      "cell_type": "markdown",
      "source": [
        "### Metryki - Problem regresji:\n",
        "1. [Import bibliotek](#a0)\n",
        "2. [Metryki](#a1)\n",
        "    1. [Interpretacja graficzna](#a2)\n",
        "    2. [Mean Absolute Error - MAE](#a3)\n",
        "    3. [Mean Squared Error - MSE](#a4)\n",
        "    4. [Root Mean Squared Error - RMSE](#a5)\n",
        "    5. [Max Error](#a6)\n",
        "    6. [R2 score - współczynnik determinacji](#a7)\n",
        "\n",
        "    "
      ],
      "metadata": {
        "id": "zNbPY7l5Ne5B"
      }
    },
    {
      "cell_type": "code",
      "execution_count": 1,
      "metadata": {
        "colab": {
          "base_uri": "https://localhost:8080/",
          "height": 35
        },
        "id": "SeWEKtEY9U-K",
        "outputId": "544bddfb-f0cb-4174-914c-dd00a896d75c"
      },
      "outputs": [
        {
          "output_type": "execute_result",
          "data": {
            "text/plain": [
              "'2.17.0'"
            ],
            "application/vnd.google.colaboratory.intrinsic+json": {
              "type": "string"
            }
          },
          "metadata": {},
          "execution_count": 1
        }
      ],
      "source": [
        "import numpy as np\n",
        "import pandas as pd\n",
        "import plotly.express as px\n",
        "import plotly.graph_objects as go\n",
        "import tensorflow as tf\n",
        "tf.__version__\n",
        "\n"
      ]
    },
    {
      "cell_type": "code",
      "source": [
        "y_true = 100 + 20 * np.random.randn(50)\n",
        "y_true"
      ],
      "metadata": {
        "colab": {
          "base_uri": "https://localhost:8080/"
        },
        "id": "x9WZ-33m9bcG",
        "outputId": "d58aa30f-1a76-42a1-82c3-12834d74cf9f"
      },
      "execution_count": 2,
      "outputs": [
        {
          "output_type": "execute_result",
          "data": {
            "text/plain": [
              "array([ 75.61843209,  76.55609789,  73.69892473,  92.84927315,\n",
              "        99.08945519,  97.5539587 , 115.15012833,  89.95042247,\n",
              "        61.51887152,  93.03040711,  98.96966059, 118.40601441,\n",
              "       118.44329025,  64.26982682, 147.16919394, 109.71540184,\n",
              "       107.04569904,  87.6752742 , 105.29255287, 111.96006321,\n",
              "        67.23318499, 141.86407215, 114.81097098,  89.74344089,\n",
              "       101.99720171, 125.63580728, 114.42799502,  81.10642202,\n",
              "       103.33141233, 123.69151764, 120.68365695,  82.98918134,\n",
              "       106.48431621,  89.5863333 ,  84.82401618,  90.21317608,\n",
              "       120.40967519,  72.50412377,  67.43316976,  93.98148459,\n",
              "       152.03584106, 109.59814922, 103.18807599,  96.71373523,\n",
              "       108.3633136 ,  88.77140807,  98.69181552, 119.30636902,\n",
              "        97.46184935, 104.68407934])"
            ]
          },
          "metadata": {},
          "execution_count": 2
        }
      ]
    },
    {
      "cell_type": "code",
      "source": [
        "y_pred = y_true + 10 * np.random.randn(50)\n",
        "y_pred"
      ],
      "metadata": {
        "colab": {
          "base_uri": "https://localhost:8080/"
        },
        "id": "Xiw93FLG_N8n",
        "outputId": "83f14b52-47c2-4841-9af2-41660a71aac9"
      },
      "execution_count": 3,
      "outputs": [
        {
          "output_type": "execute_result",
          "data": {
            "text/plain": [
              "array([ 68.30997211,  71.32378267,  78.18502028,  65.15137361,\n",
              "       104.82105476,  96.29467704, 115.29953652,  91.28148893,\n",
              "        65.42444446,  87.45747258, 107.80334547, 105.34856544,\n",
              "       125.09117211,  61.88141623, 166.1418625 , 115.58751023,\n",
              "        97.07286532,  84.73061788, 103.97234351, 111.71349523,\n",
              "        64.68685957, 141.81802945, 119.43389102,  81.17958658,\n",
              "        98.83284127, 109.93133825, 116.13648932,  89.71124065,\n",
              "       116.43571396, 141.37562623, 114.61238447,  76.8973456 ,\n",
              "        95.92448456,  71.67404721,  69.67580735,  89.949282  ,\n",
              "       123.93717161,  73.6408973 ,  85.00208613, 104.37886472,\n",
              "       161.55711139,  96.9464432 , 100.27807514, 106.54190924,\n",
              "        96.18281385, 100.44375827, 101.47601856, 112.08648315,\n",
              "        95.25493499, 101.3267392 ])"
            ]
          },
          "metadata": {},
          "execution_count": 3
        }
      ]
    },
    {
      "cell_type": "code",
      "source": [
        "results = pd.DataFrame({'y_true': y_true, 'y_pred': y_pred})\n",
        "results.head()"
      ],
      "metadata": {
        "colab": {
          "base_uri": "https://localhost:8080/",
          "height": 206
        },
        "id": "Hdtj20XM_RA2",
        "outputId": "7b576b19-ea48-4ac3-ba54-0ead2ff1ddb5"
      },
      "execution_count": 4,
      "outputs": [
        {
          "output_type": "execute_result",
          "data": {
            "text/plain": [
              "      y_true      y_pred\n",
              "0  75.618432   68.309972\n",
              "1  76.556098   71.323783\n",
              "2  73.698925   78.185020\n",
              "3  92.849273   65.151374\n",
              "4  99.089455  104.821055"
            ],
            "text/html": [
              "\n",
              "  <div id=\"df-94a89519-06c7-477e-b2cf-54e4419f5387\" class=\"colab-df-container\">\n",
              "    <div>\n",
              "<style scoped>\n",
              "    .dataframe tbody tr th:only-of-type {\n",
              "        vertical-align: middle;\n",
              "    }\n",
              "\n",
              "    .dataframe tbody tr th {\n",
              "        vertical-align: top;\n",
              "    }\n",
              "\n",
              "    .dataframe thead th {\n",
              "        text-align: right;\n",
              "    }\n",
              "</style>\n",
              "<table border=\"1\" class=\"dataframe\">\n",
              "  <thead>\n",
              "    <tr style=\"text-align: right;\">\n",
              "      <th></th>\n",
              "      <th>y_true</th>\n",
              "      <th>y_pred</th>\n",
              "    </tr>\n",
              "  </thead>\n",
              "  <tbody>\n",
              "    <tr>\n",
              "      <th>0</th>\n",
              "      <td>75.618432</td>\n",
              "      <td>68.309972</td>\n",
              "    </tr>\n",
              "    <tr>\n",
              "      <th>1</th>\n",
              "      <td>76.556098</td>\n",
              "      <td>71.323783</td>\n",
              "    </tr>\n",
              "    <tr>\n",
              "      <th>2</th>\n",
              "      <td>73.698925</td>\n",
              "      <td>78.185020</td>\n",
              "    </tr>\n",
              "    <tr>\n",
              "      <th>3</th>\n",
              "      <td>92.849273</td>\n",
              "      <td>65.151374</td>\n",
              "    </tr>\n",
              "    <tr>\n",
              "      <th>4</th>\n",
              "      <td>99.089455</td>\n",
              "      <td>104.821055</td>\n",
              "    </tr>\n",
              "  </tbody>\n",
              "</table>\n",
              "</div>\n",
              "    <div class=\"colab-df-buttons\">\n",
              "\n",
              "  <div class=\"colab-df-container\">\n",
              "    <button class=\"colab-df-convert\" onclick=\"convertToInteractive('df-94a89519-06c7-477e-b2cf-54e4419f5387')\"\n",
              "            title=\"Convert this dataframe to an interactive table.\"\n",
              "            style=\"display:none;\">\n",
              "\n",
              "  <svg xmlns=\"http://www.w3.org/2000/svg\" height=\"24px\" viewBox=\"0 -960 960 960\">\n",
              "    <path d=\"M120-120v-720h720v720H120Zm60-500h600v-160H180v160Zm220 220h160v-160H400v160Zm0 220h160v-160H400v160ZM180-400h160v-160H180v160Zm440 0h160v-160H620v160ZM180-180h160v-160H180v160Zm440 0h160v-160H620v160Z\"/>\n",
              "  </svg>\n",
              "    </button>\n",
              "\n",
              "  <style>\n",
              "    .colab-df-container {\n",
              "      display:flex;\n",
              "      gap: 12px;\n",
              "    }\n",
              "\n",
              "    .colab-df-convert {\n",
              "      background-color: #E8F0FE;\n",
              "      border: none;\n",
              "      border-radius: 50%;\n",
              "      cursor: pointer;\n",
              "      display: none;\n",
              "      fill: #1967D2;\n",
              "      height: 32px;\n",
              "      padding: 0 0 0 0;\n",
              "      width: 32px;\n",
              "    }\n",
              "\n",
              "    .colab-df-convert:hover {\n",
              "      background-color: #E2EBFA;\n",
              "      box-shadow: 0px 1px 2px rgba(60, 64, 67, 0.3), 0px 1px 3px 1px rgba(60, 64, 67, 0.15);\n",
              "      fill: #174EA6;\n",
              "    }\n",
              "\n",
              "    .colab-df-buttons div {\n",
              "      margin-bottom: 4px;\n",
              "    }\n",
              "\n",
              "    [theme=dark] .colab-df-convert {\n",
              "      background-color: #3B4455;\n",
              "      fill: #D2E3FC;\n",
              "    }\n",
              "\n",
              "    [theme=dark] .colab-df-convert:hover {\n",
              "      background-color: #434B5C;\n",
              "      box-shadow: 0px 1px 3px 1px rgba(0, 0, 0, 0.15);\n",
              "      filter: drop-shadow(0px 1px 2px rgba(0, 0, 0, 0.3));\n",
              "      fill: #FFFFFF;\n",
              "    }\n",
              "  </style>\n",
              "\n",
              "    <script>\n",
              "      const buttonEl =\n",
              "        document.querySelector('#df-94a89519-06c7-477e-b2cf-54e4419f5387 button.colab-df-convert');\n",
              "      buttonEl.style.display =\n",
              "        google.colab.kernel.accessAllowed ? 'block' : 'none';\n",
              "\n",
              "      async function convertToInteractive(key) {\n",
              "        const element = document.querySelector('#df-94a89519-06c7-477e-b2cf-54e4419f5387');\n",
              "        const dataTable =\n",
              "          await google.colab.kernel.invokeFunction('convertToInteractive',\n",
              "                                                    [key], {});\n",
              "        if (!dataTable) return;\n",
              "\n",
              "        const docLinkHtml = 'Like what you see? Visit the ' +\n",
              "          '<a target=\"_blank\" href=https://colab.research.google.com/notebooks/data_table.ipynb>data table notebook</a>'\n",
              "          + ' to learn more about interactive tables.';\n",
              "        element.innerHTML = '';\n",
              "        dataTable['output_type'] = 'display_data';\n",
              "        await google.colab.output.renderOutput(dataTable, element);\n",
              "        const docLink = document.createElement('div');\n",
              "        docLink.innerHTML = docLinkHtml;\n",
              "        element.appendChild(docLink);\n",
              "      }\n",
              "    </script>\n",
              "  </div>\n",
              "\n",
              "\n",
              "<div id=\"df-c7999bc7-b816-462c-be63-4cf54586edf0\">\n",
              "  <button class=\"colab-df-quickchart\" onclick=\"quickchart('df-c7999bc7-b816-462c-be63-4cf54586edf0')\"\n",
              "            title=\"Suggest charts\"\n",
              "            style=\"display:none;\">\n",
              "\n",
              "<svg xmlns=\"http://www.w3.org/2000/svg\" height=\"24px\"viewBox=\"0 0 24 24\"\n",
              "     width=\"24px\">\n",
              "    <g>\n",
              "        <path d=\"M19 3H5c-1.1 0-2 .9-2 2v14c0 1.1.9 2 2 2h14c1.1 0 2-.9 2-2V5c0-1.1-.9-2-2-2zM9 17H7v-7h2v7zm4 0h-2V7h2v10zm4 0h-2v-4h2v4z\"/>\n",
              "    </g>\n",
              "</svg>\n",
              "  </button>\n",
              "\n",
              "<style>\n",
              "  .colab-df-quickchart {\n",
              "      --bg-color: #E8F0FE;\n",
              "      --fill-color: #1967D2;\n",
              "      --hover-bg-color: #E2EBFA;\n",
              "      --hover-fill-color: #174EA6;\n",
              "      --disabled-fill-color: #AAA;\n",
              "      --disabled-bg-color: #DDD;\n",
              "  }\n",
              "\n",
              "  [theme=dark] .colab-df-quickchart {\n",
              "      --bg-color: #3B4455;\n",
              "      --fill-color: #D2E3FC;\n",
              "      --hover-bg-color: #434B5C;\n",
              "      --hover-fill-color: #FFFFFF;\n",
              "      --disabled-bg-color: #3B4455;\n",
              "      --disabled-fill-color: #666;\n",
              "  }\n",
              "\n",
              "  .colab-df-quickchart {\n",
              "    background-color: var(--bg-color);\n",
              "    border: none;\n",
              "    border-radius: 50%;\n",
              "    cursor: pointer;\n",
              "    display: none;\n",
              "    fill: var(--fill-color);\n",
              "    height: 32px;\n",
              "    padding: 0;\n",
              "    width: 32px;\n",
              "  }\n",
              "\n",
              "  .colab-df-quickchart:hover {\n",
              "    background-color: var(--hover-bg-color);\n",
              "    box-shadow: 0 1px 2px rgba(60, 64, 67, 0.3), 0 1px 3px 1px rgba(60, 64, 67, 0.15);\n",
              "    fill: var(--button-hover-fill-color);\n",
              "  }\n",
              "\n",
              "  .colab-df-quickchart-complete:disabled,\n",
              "  .colab-df-quickchart-complete:disabled:hover {\n",
              "    background-color: var(--disabled-bg-color);\n",
              "    fill: var(--disabled-fill-color);\n",
              "    box-shadow: none;\n",
              "  }\n",
              "\n",
              "  .colab-df-spinner {\n",
              "    border: 2px solid var(--fill-color);\n",
              "    border-color: transparent;\n",
              "    border-bottom-color: var(--fill-color);\n",
              "    animation:\n",
              "      spin 1s steps(1) infinite;\n",
              "  }\n",
              "\n",
              "  @keyframes spin {\n",
              "    0% {\n",
              "      border-color: transparent;\n",
              "      border-bottom-color: var(--fill-color);\n",
              "      border-left-color: var(--fill-color);\n",
              "    }\n",
              "    20% {\n",
              "      border-color: transparent;\n",
              "      border-left-color: var(--fill-color);\n",
              "      border-top-color: var(--fill-color);\n",
              "    }\n",
              "    30% {\n",
              "      border-color: transparent;\n",
              "      border-left-color: var(--fill-color);\n",
              "      border-top-color: var(--fill-color);\n",
              "      border-right-color: var(--fill-color);\n",
              "    }\n",
              "    40% {\n",
              "      border-color: transparent;\n",
              "      border-right-color: var(--fill-color);\n",
              "      border-top-color: var(--fill-color);\n",
              "    }\n",
              "    60% {\n",
              "      border-color: transparent;\n",
              "      border-right-color: var(--fill-color);\n",
              "    }\n",
              "    80% {\n",
              "      border-color: transparent;\n",
              "      border-right-color: var(--fill-color);\n",
              "      border-bottom-color: var(--fill-color);\n",
              "    }\n",
              "    90% {\n",
              "      border-color: transparent;\n",
              "      border-bottom-color: var(--fill-color);\n",
              "    }\n",
              "  }\n",
              "</style>\n",
              "\n",
              "  <script>\n",
              "    async function quickchart(key) {\n",
              "      const quickchartButtonEl =\n",
              "        document.querySelector('#' + key + ' button');\n",
              "      quickchartButtonEl.disabled = true;  // To prevent multiple clicks.\n",
              "      quickchartButtonEl.classList.add('colab-df-spinner');\n",
              "      try {\n",
              "        const charts = await google.colab.kernel.invokeFunction(\n",
              "            'suggestCharts', [key], {});\n",
              "      } catch (error) {\n",
              "        console.error('Error during call to suggestCharts:', error);\n",
              "      }\n",
              "      quickchartButtonEl.classList.remove('colab-df-spinner');\n",
              "      quickchartButtonEl.classList.add('colab-df-quickchart-complete');\n",
              "    }\n",
              "    (() => {\n",
              "      let quickchartButtonEl =\n",
              "        document.querySelector('#df-c7999bc7-b816-462c-be63-4cf54586edf0 button');\n",
              "      quickchartButtonEl.style.display =\n",
              "        google.colab.kernel.accessAllowed ? 'block' : 'none';\n",
              "    })();\n",
              "  </script>\n",
              "</div>\n",
              "\n",
              "    </div>\n",
              "  </div>\n"
            ],
            "application/vnd.google.colaboratory.intrinsic+json": {
              "type": "dataframe",
              "variable_name": "results",
              "summary": "{\n  \"name\": \"results\",\n  \"rows\": 50,\n  \"fields\": [\n    {\n      \"column\": \"y_true\",\n      \"properties\": {\n        \"dtype\": \"number\",\n        \"std\": 20.318706336683373,\n        \"min\": 61.51887152334425,\n        \"max\": 152.03584106073058,\n        \"num_unique_values\": 50,\n        \"samples\": [\n          64.26982681725933,\n          93.98148459241129,\n          120.6836569527305\n        ],\n        \"semantic_type\": \"\",\n        \"description\": \"\"\n      }\n    },\n    {\n      \"column\": \"y_pred\",\n      \"properties\": {\n        \"dtype\": \"number\",\n        \"std\": 23.341687462114898,\n        \"min\": 61.881416225403186,\n        \"max\": 166.14186250469896,\n        \"num_unique_values\": 50,\n        \"samples\": [\n          61.881416225403186,\n          104.37886472414161,\n          114.61238446711923\n        ],\n        \"semantic_type\": \"\",\n        \"description\": \"\"\n      }\n    }\n  ]\n}"
            }
          },
          "metadata": {},
          "execution_count": 4
        }
      ]
    },
    {
      "cell_type": "code",
      "source": [
        "results = pd.DataFrame({'y_true': y_true, 'y_pred': y_pred})\n",
        "results.head()"
      ],
      "metadata": {
        "colab": {
          "base_uri": "https://localhost:8080/",
          "height": 206
        },
        "id": "1tGUj5Hf_Xux",
        "outputId": "c09c9d02-9610-442c-adbe-6342393cc054"
      },
      "execution_count": 5,
      "outputs": [
        {
          "output_type": "execute_result",
          "data": {
            "text/plain": [
              "      y_true      y_pred\n",
              "0  75.618432   68.309972\n",
              "1  76.556098   71.323783\n",
              "2  73.698925   78.185020\n",
              "3  92.849273   65.151374\n",
              "4  99.089455  104.821055"
            ],
            "text/html": [
              "\n",
              "  <div id=\"df-7dbcd04f-00d1-46b1-b0e8-947cc8a478be\" class=\"colab-df-container\">\n",
              "    <div>\n",
              "<style scoped>\n",
              "    .dataframe tbody tr th:only-of-type {\n",
              "        vertical-align: middle;\n",
              "    }\n",
              "\n",
              "    .dataframe tbody tr th {\n",
              "        vertical-align: top;\n",
              "    }\n",
              "\n",
              "    .dataframe thead th {\n",
              "        text-align: right;\n",
              "    }\n",
              "</style>\n",
              "<table border=\"1\" class=\"dataframe\">\n",
              "  <thead>\n",
              "    <tr style=\"text-align: right;\">\n",
              "      <th></th>\n",
              "      <th>y_true</th>\n",
              "      <th>y_pred</th>\n",
              "    </tr>\n",
              "  </thead>\n",
              "  <tbody>\n",
              "    <tr>\n",
              "      <th>0</th>\n",
              "      <td>75.618432</td>\n",
              "      <td>68.309972</td>\n",
              "    </tr>\n",
              "    <tr>\n",
              "      <th>1</th>\n",
              "      <td>76.556098</td>\n",
              "      <td>71.323783</td>\n",
              "    </tr>\n",
              "    <tr>\n",
              "      <th>2</th>\n",
              "      <td>73.698925</td>\n",
              "      <td>78.185020</td>\n",
              "    </tr>\n",
              "    <tr>\n",
              "      <th>3</th>\n",
              "      <td>92.849273</td>\n",
              "      <td>65.151374</td>\n",
              "    </tr>\n",
              "    <tr>\n",
              "      <th>4</th>\n",
              "      <td>99.089455</td>\n",
              "      <td>104.821055</td>\n",
              "    </tr>\n",
              "  </tbody>\n",
              "</table>\n",
              "</div>\n",
              "    <div class=\"colab-df-buttons\">\n",
              "\n",
              "  <div class=\"colab-df-container\">\n",
              "    <button class=\"colab-df-convert\" onclick=\"convertToInteractive('df-7dbcd04f-00d1-46b1-b0e8-947cc8a478be')\"\n",
              "            title=\"Convert this dataframe to an interactive table.\"\n",
              "            style=\"display:none;\">\n",
              "\n",
              "  <svg xmlns=\"http://www.w3.org/2000/svg\" height=\"24px\" viewBox=\"0 -960 960 960\">\n",
              "    <path d=\"M120-120v-720h720v720H120Zm60-500h600v-160H180v160Zm220 220h160v-160H400v160Zm0 220h160v-160H400v160ZM180-400h160v-160H180v160Zm440 0h160v-160H620v160ZM180-180h160v-160H180v160Zm440 0h160v-160H620v160Z\"/>\n",
              "  </svg>\n",
              "    </button>\n",
              "\n",
              "  <style>\n",
              "    .colab-df-container {\n",
              "      display:flex;\n",
              "      gap: 12px;\n",
              "    }\n",
              "\n",
              "    .colab-df-convert {\n",
              "      background-color: #E8F0FE;\n",
              "      border: none;\n",
              "      border-radius: 50%;\n",
              "      cursor: pointer;\n",
              "      display: none;\n",
              "      fill: #1967D2;\n",
              "      height: 32px;\n",
              "      padding: 0 0 0 0;\n",
              "      width: 32px;\n",
              "    }\n",
              "\n",
              "    .colab-df-convert:hover {\n",
              "      background-color: #E2EBFA;\n",
              "      box-shadow: 0px 1px 2px rgba(60, 64, 67, 0.3), 0px 1px 3px 1px rgba(60, 64, 67, 0.15);\n",
              "      fill: #174EA6;\n",
              "    }\n",
              "\n",
              "    .colab-df-buttons div {\n",
              "      margin-bottom: 4px;\n",
              "    }\n",
              "\n",
              "    [theme=dark] .colab-df-convert {\n",
              "      background-color: #3B4455;\n",
              "      fill: #D2E3FC;\n",
              "    }\n",
              "\n",
              "    [theme=dark] .colab-df-convert:hover {\n",
              "      background-color: #434B5C;\n",
              "      box-shadow: 0px 1px 3px 1px rgba(0, 0, 0, 0.15);\n",
              "      filter: drop-shadow(0px 1px 2px rgba(0, 0, 0, 0.3));\n",
              "      fill: #FFFFFF;\n",
              "    }\n",
              "  </style>\n",
              "\n",
              "    <script>\n",
              "      const buttonEl =\n",
              "        document.querySelector('#df-7dbcd04f-00d1-46b1-b0e8-947cc8a478be button.colab-df-convert');\n",
              "      buttonEl.style.display =\n",
              "        google.colab.kernel.accessAllowed ? 'block' : 'none';\n",
              "\n",
              "      async function convertToInteractive(key) {\n",
              "        const element = document.querySelector('#df-7dbcd04f-00d1-46b1-b0e8-947cc8a478be');\n",
              "        const dataTable =\n",
              "          await google.colab.kernel.invokeFunction('convertToInteractive',\n",
              "                                                    [key], {});\n",
              "        if (!dataTable) return;\n",
              "\n",
              "        const docLinkHtml = 'Like what you see? Visit the ' +\n",
              "          '<a target=\"_blank\" href=https://colab.research.google.com/notebooks/data_table.ipynb>data table notebook</a>'\n",
              "          + ' to learn more about interactive tables.';\n",
              "        element.innerHTML = '';\n",
              "        dataTable['output_type'] = 'display_data';\n",
              "        await google.colab.output.renderOutput(dataTable, element);\n",
              "        const docLink = document.createElement('div');\n",
              "        docLink.innerHTML = docLinkHtml;\n",
              "        element.appendChild(docLink);\n",
              "      }\n",
              "    </script>\n",
              "  </div>\n",
              "\n",
              "\n",
              "<div id=\"df-3836557c-6ca3-46da-8b3b-363bbe727197\">\n",
              "  <button class=\"colab-df-quickchart\" onclick=\"quickchart('df-3836557c-6ca3-46da-8b3b-363bbe727197')\"\n",
              "            title=\"Suggest charts\"\n",
              "            style=\"display:none;\">\n",
              "\n",
              "<svg xmlns=\"http://www.w3.org/2000/svg\" height=\"24px\"viewBox=\"0 0 24 24\"\n",
              "     width=\"24px\">\n",
              "    <g>\n",
              "        <path d=\"M19 3H5c-1.1 0-2 .9-2 2v14c0 1.1.9 2 2 2h14c1.1 0 2-.9 2-2V5c0-1.1-.9-2-2-2zM9 17H7v-7h2v7zm4 0h-2V7h2v10zm4 0h-2v-4h2v4z\"/>\n",
              "    </g>\n",
              "</svg>\n",
              "  </button>\n",
              "\n",
              "<style>\n",
              "  .colab-df-quickchart {\n",
              "      --bg-color: #E8F0FE;\n",
              "      --fill-color: #1967D2;\n",
              "      --hover-bg-color: #E2EBFA;\n",
              "      --hover-fill-color: #174EA6;\n",
              "      --disabled-fill-color: #AAA;\n",
              "      --disabled-bg-color: #DDD;\n",
              "  }\n",
              "\n",
              "  [theme=dark] .colab-df-quickchart {\n",
              "      --bg-color: #3B4455;\n",
              "      --fill-color: #D2E3FC;\n",
              "      --hover-bg-color: #434B5C;\n",
              "      --hover-fill-color: #FFFFFF;\n",
              "      --disabled-bg-color: #3B4455;\n",
              "      --disabled-fill-color: #666;\n",
              "  }\n",
              "\n",
              "  .colab-df-quickchart {\n",
              "    background-color: var(--bg-color);\n",
              "    border: none;\n",
              "    border-radius: 50%;\n",
              "    cursor: pointer;\n",
              "    display: none;\n",
              "    fill: var(--fill-color);\n",
              "    height: 32px;\n",
              "    padding: 0;\n",
              "    width: 32px;\n",
              "  }\n",
              "\n",
              "  .colab-df-quickchart:hover {\n",
              "    background-color: var(--hover-bg-color);\n",
              "    box-shadow: 0 1px 2px rgba(60, 64, 67, 0.3), 0 1px 3px 1px rgba(60, 64, 67, 0.15);\n",
              "    fill: var(--button-hover-fill-color);\n",
              "  }\n",
              "\n",
              "  .colab-df-quickchart-complete:disabled,\n",
              "  .colab-df-quickchart-complete:disabled:hover {\n",
              "    background-color: var(--disabled-bg-color);\n",
              "    fill: var(--disabled-fill-color);\n",
              "    box-shadow: none;\n",
              "  }\n",
              "\n",
              "  .colab-df-spinner {\n",
              "    border: 2px solid var(--fill-color);\n",
              "    border-color: transparent;\n",
              "    border-bottom-color: var(--fill-color);\n",
              "    animation:\n",
              "      spin 1s steps(1) infinite;\n",
              "  }\n",
              "\n",
              "  @keyframes spin {\n",
              "    0% {\n",
              "      border-color: transparent;\n",
              "      border-bottom-color: var(--fill-color);\n",
              "      border-left-color: var(--fill-color);\n",
              "    }\n",
              "    20% {\n",
              "      border-color: transparent;\n",
              "      border-left-color: var(--fill-color);\n",
              "      border-top-color: var(--fill-color);\n",
              "    }\n",
              "    30% {\n",
              "      border-color: transparent;\n",
              "      border-left-color: var(--fill-color);\n",
              "      border-top-color: var(--fill-color);\n",
              "      border-right-color: var(--fill-color);\n",
              "    }\n",
              "    40% {\n",
              "      border-color: transparent;\n",
              "      border-right-color: var(--fill-color);\n",
              "      border-top-color: var(--fill-color);\n",
              "    }\n",
              "    60% {\n",
              "      border-color: transparent;\n",
              "      border-right-color: var(--fill-color);\n",
              "    }\n",
              "    80% {\n",
              "      border-color: transparent;\n",
              "      border-right-color: var(--fill-color);\n",
              "      border-bottom-color: var(--fill-color);\n",
              "    }\n",
              "    90% {\n",
              "      border-color: transparent;\n",
              "      border-bottom-color: var(--fill-color);\n",
              "    }\n",
              "  }\n",
              "</style>\n",
              "\n",
              "  <script>\n",
              "    async function quickchart(key) {\n",
              "      const quickchartButtonEl =\n",
              "        document.querySelector('#' + key + ' button');\n",
              "      quickchartButtonEl.disabled = true;  // To prevent multiple clicks.\n",
              "      quickchartButtonEl.classList.add('colab-df-spinner');\n",
              "      try {\n",
              "        const charts = await google.colab.kernel.invokeFunction(\n",
              "            'suggestCharts', [key], {});\n",
              "      } catch (error) {\n",
              "        console.error('Error during call to suggestCharts:', error);\n",
              "      }\n",
              "      quickchartButtonEl.classList.remove('colab-df-spinner');\n",
              "      quickchartButtonEl.classList.add('colab-df-quickchart-complete');\n",
              "    }\n",
              "    (() => {\n",
              "      let quickchartButtonEl =\n",
              "        document.querySelector('#df-3836557c-6ca3-46da-8b3b-363bbe727197 button');\n",
              "      quickchartButtonEl.style.display =\n",
              "        google.colab.kernel.accessAllowed ? 'block' : 'none';\n",
              "    })();\n",
              "  </script>\n",
              "</div>\n",
              "\n",
              "    </div>\n",
              "  </div>\n"
            ],
            "application/vnd.google.colaboratory.intrinsic+json": {
              "type": "dataframe",
              "variable_name": "results",
              "summary": "{\n  \"name\": \"results\",\n  \"rows\": 50,\n  \"fields\": [\n    {\n      \"column\": \"y_true\",\n      \"properties\": {\n        \"dtype\": \"number\",\n        \"std\": 20.318706336683373,\n        \"min\": 61.51887152334425,\n        \"max\": 152.03584106073058,\n        \"num_unique_values\": 50,\n        \"samples\": [\n          64.26982681725933,\n          93.98148459241129,\n          120.6836569527305\n        ],\n        \"semantic_type\": \"\",\n        \"description\": \"\"\n      }\n    },\n    {\n      \"column\": \"y_pred\",\n      \"properties\": {\n        \"dtype\": \"number\",\n        \"std\": 23.341687462114898,\n        \"min\": 61.881416225403186,\n        \"max\": 166.14186250469896,\n        \"num_unique_values\": 50,\n        \"samples\": [\n          61.881416225403186,\n          104.37886472414161,\n          114.61238446711923\n        ],\n        \"semantic_type\": \"\",\n        \"description\": \"\"\n      }\n    }\n  ]\n}"
            }
          },
          "metadata": {},
          "execution_count": 5
        }
      ]
    },
    {
      "cell_type": "markdown",
      "source": [
        "### <a name='a1'></a> 2. Metryki\n",
        "### <a name='a2'></a> 2.1 Interpretacja graficzna"
      ],
      "metadata": {
        "id": "YFX6j7ME_dXl"
      }
    },
    {
      "cell_type": "code",
      "source": [
        "def plot_regression_results(y_true, y_pred):\n",
        "    results = pd.DataFrame({'y_true': y_true, 'y_pred': y_pred})\n",
        "    min = results[['y_true', 'y_pred']].min().min()\n",
        "    print(min)\n",
        "    max = results[['y_true', 'y_pred']].max().max()\n",
        "    print(max)\n",
        "\n",
        "    fig = go.Figure(data=[go.Scatter(x=results['y_true'], y=results['y_pred'], mode='markers')\n",
        "    ,\n",
        "                    go.Scatter(x=[min, max], y=[min, max])\n",
        "                    # ,go.Scatter(x=[20, 100], y=[40, 140], mode='lines')\n",
        "                    ],\n",
        "                    layout=go.Layout(showlegend=False, width=800,\n",
        "                                     xaxis_title='y_true',\n",
        "                                     yaxis_title='y_pred',\n",
        "                                     title='Regression results'))\n",
        "    fig.show()\n",
        "plot_regression_results(y_true, y_pred)"
      ],
      "metadata": {
        "colab": {
          "base_uri": "https://localhost:8080/",
          "height": 597
        },
        "id": "vCGADA7u_hvH",
        "outputId": "9d7e6c8f-58ed-4ad7-a2fd-3ea5cf5eb3d3"
      },
      "execution_count": 6,
      "outputs": [
        {
          "output_type": "stream",
          "name": "stdout",
          "text": [
            "61.51887152334425\n",
            "166.14186250469896\n"
          ]
        },
        {
          "output_type": "display_data",
          "data": {
            "text/html": [
              "<html>\n",
              "<head><meta charset=\"utf-8\" /></head>\n",
              "<body>\n",
              "    <div>            <script src=\"https://cdnjs.cloudflare.com/ajax/libs/mathjax/2.7.5/MathJax.js?config=TeX-AMS-MML_SVG\"></script><script type=\"text/javascript\">if (window.MathJax && window.MathJax.Hub && window.MathJax.Hub.Config) {window.MathJax.Hub.Config({SVG: {font: \"STIX-Web\"}});}</script>                <script type=\"text/javascript\">window.PlotlyConfig = {MathJaxConfig: 'local'};</script>\n",
              "        <script charset=\"utf-8\" src=\"https://cdn.plot.ly/plotly-2.35.2.min.js\"></script>                <div id=\"50dd6bc5-264c-4635-9593-9c0a110d743a\" class=\"plotly-graph-div\" style=\"height:525px; width:800px;\"></div>            <script type=\"text/javascript\">                                    window.PLOTLYENV=window.PLOTLYENV || {};                                    if (document.getElementById(\"50dd6bc5-264c-4635-9593-9c0a110d743a\")) {                    Plotly.newPlot(                        \"50dd6bc5-264c-4635-9593-9c0a110d743a\",                        [{\"mode\":\"markers\",\"x\":[75.61843208833443,76.55609789299369,73.69892473417416,92.84927314843632,99.08945519128666,97.55395869968905,115.15012832602014,89.95042247003244,61.51887152334425,93.03040710575459,98.96966059191175,118.4060144079493,118.44329024898423,64.26982681725933,147.16919394176114,109.71540184039159,107.04569904151316,87.67527420187889,105.29255286654765,111.96006320648281,67.23318498604834,141.86407215468697,114.81097098008577,89.74344088687313,101.99720170862943,125.63580728129814,114.42799502384689,81.1064220177042,103.33141233201285,123.69151764435752,120.6836569527305,82.98918134397161,106.48431621049485,89.58633330308878,84.82401617516335,90.21317608296462,120.4096751933478,72.50412376758322,67.43316975710988,93.98148459241129,152.03584106073058,109.59814921960646,103.18807598863351,96.7137352254269,108.36331360421566,88.77140807100827,98.69181551729051,119.30636902293637,97.46184935186315,104.6840793377885],\"y\":[68.3099721133104,71.32378266984982,78.18502027901063,65.15137361024249,104.82105476047697,96.29467704030708,115.2995365170437,91.28148893350276,65.42444445822714,87.45747257833102,107.80334547474934,105.3485654431028,125.09117210926937,61.881416225403186,166.14186250469896,115.58751023312745,97.0728653224472,84.73061788410658,103.9723435082956,111.71349523179715,64.68685956932256,141.81802945259093,119.43389101940396,81.17958658101252,98.83284126826437,109.9313382471811,116.1364893177165,89.71124065187223,116.43571395709448,141.3756262299071,114.61238446711923,76.89734560138797,95.92448455800533,71.67404721386885,69.67580735209809,89.94928199538515,123.93717160951576,73.64089730124674,85.00208613125187,104.37886472414161,161.55711139135465,96.94644320032293,100.27807513503974,106.54190924288758,96.18281384745221,100.44375827257636,101.47601856362871,112.0864831522364,95.25493498837723,101.32673920188378],\"type\":\"scatter\"},{\"x\":[61.51887152334425,166.14186250469896],\"y\":[61.51887152334425,166.14186250469896],\"type\":\"scatter\"}],                        {\"showlegend\":false,\"title\":{\"text\":\"Regression results\"},\"width\":800,\"xaxis\":{\"title\":{\"text\":\"y_true\"}},\"yaxis\":{\"title\":{\"text\":\"y_pred\"}},\"template\":{\"data\":{\"histogram2dcontour\":[{\"type\":\"histogram2dcontour\",\"colorbar\":{\"outlinewidth\":0,\"ticks\":\"\"},\"colorscale\":[[0.0,\"#0d0887\"],[0.1111111111111111,\"#46039f\"],[0.2222222222222222,\"#7201a8\"],[0.3333333333333333,\"#9c179e\"],[0.4444444444444444,\"#bd3786\"],[0.5555555555555556,\"#d8576b\"],[0.6666666666666666,\"#ed7953\"],[0.7777777777777778,\"#fb9f3a\"],[0.8888888888888888,\"#fdca26\"],[1.0,\"#f0f921\"]]}],\"choropleth\":[{\"type\":\"choropleth\",\"colorbar\":{\"outlinewidth\":0,\"ticks\":\"\"}}],\"histogram2d\":[{\"type\":\"histogram2d\",\"colorbar\":{\"outlinewidth\":0,\"ticks\":\"\"},\"colorscale\":[[0.0,\"#0d0887\"],[0.1111111111111111,\"#46039f\"],[0.2222222222222222,\"#7201a8\"],[0.3333333333333333,\"#9c179e\"],[0.4444444444444444,\"#bd3786\"],[0.5555555555555556,\"#d8576b\"],[0.6666666666666666,\"#ed7953\"],[0.7777777777777778,\"#fb9f3a\"],[0.8888888888888888,\"#fdca26\"],[1.0,\"#f0f921\"]]}],\"heatmap\":[{\"type\":\"heatmap\",\"colorbar\":{\"outlinewidth\":0,\"ticks\":\"\"},\"colorscale\":[[0.0,\"#0d0887\"],[0.1111111111111111,\"#46039f\"],[0.2222222222222222,\"#7201a8\"],[0.3333333333333333,\"#9c179e\"],[0.4444444444444444,\"#bd3786\"],[0.5555555555555556,\"#d8576b\"],[0.6666666666666666,\"#ed7953\"],[0.7777777777777778,\"#fb9f3a\"],[0.8888888888888888,\"#fdca26\"],[1.0,\"#f0f921\"]]}],\"heatmapgl\":[{\"type\":\"heatmapgl\",\"colorbar\":{\"outlinewidth\":0,\"ticks\":\"\"},\"colorscale\":[[0.0,\"#0d0887\"],[0.1111111111111111,\"#46039f\"],[0.2222222222222222,\"#7201a8\"],[0.3333333333333333,\"#9c179e\"],[0.4444444444444444,\"#bd3786\"],[0.5555555555555556,\"#d8576b\"],[0.6666666666666666,\"#ed7953\"],[0.7777777777777778,\"#fb9f3a\"],[0.8888888888888888,\"#fdca26\"],[1.0,\"#f0f921\"]]}],\"contourcarpet\":[{\"type\":\"contourcarpet\",\"colorbar\":{\"outlinewidth\":0,\"ticks\":\"\"}}],\"contour\":[{\"type\":\"contour\",\"colorbar\":{\"outlinewidth\":0,\"ticks\":\"\"},\"colorscale\":[[0.0,\"#0d0887\"],[0.1111111111111111,\"#46039f\"],[0.2222222222222222,\"#7201a8\"],[0.3333333333333333,\"#9c179e\"],[0.4444444444444444,\"#bd3786\"],[0.5555555555555556,\"#d8576b\"],[0.6666666666666666,\"#ed7953\"],[0.7777777777777778,\"#fb9f3a\"],[0.8888888888888888,\"#fdca26\"],[1.0,\"#f0f921\"]]}],\"surface\":[{\"type\":\"surface\",\"colorbar\":{\"outlinewidth\":0,\"ticks\":\"\"},\"colorscale\":[[0.0,\"#0d0887\"],[0.1111111111111111,\"#46039f\"],[0.2222222222222222,\"#7201a8\"],[0.3333333333333333,\"#9c179e\"],[0.4444444444444444,\"#bd3786\"],[0.5555555555555556,\"#d8576b\"],[0.6666666666666666,\"#ed7953\"],[0.7777777777777778,\"#fb9f3a\"],[0.8888888888888888,\"#fdca26\"],[1.0,\"#f0f921\"]]}],\"mesh3d\":[{\"type\":\"mesh3d\",\"colorbar\":{\"outlinewidth\":0,\"ticks\":\"\"}}],\"scatter\":[{\"fillpattern\":{\"fillmode\":\"overlay\",\"size\":10,\"solidity\":0.2},\"type\":\"scatter\"}],\"parcoords\":[{\"type\":\"parcoords\",\"line\":{\"colorbar\":{\"outlinewidth\":0,\"ticks\":\"\"}}}],\"scatterpolargl\":[{\"type\":\"scatterpolargl\",\"marker\":{\"colorbar\":{\"outlinewidth\":0,\"ticks\":\"\"}}}],\"bar\":[{\"error_x\":{\"color\":\"#2a3f5f\"},\"error_y\":{\"color\":\"#2a3f5f\"},\"marker\":{\"line\":{\"color\":\"#E5ECF6\",\"width\":0.5},\"pattern\":{\"fillmode\":\"overlay\",\"size\":10,\"solidity\":0.2}},\"type\":\"bar\"}],\"scattergeo\":[{\"type\":\"scattergeo\",\"marker\":{\"colorbar\":{\"outlinewidth\":0,\"ticks\":\"\"}}}],\"scatterpolar\":[{\"type\":\"scatterpolar\",\"marker\":{\"colorbar\":{\"outlinewidth\":0,\"ticks\":\"\"}}}],\"histogram\":[{\"marker\":{\"pattern\":{\"fillmode\":\"overlay\",\"size\":10,\"solidity\":0.2}},\"type\":\"histogram\"}],\"scattergl\":[{\"type\":\"scattergl\",\"marker\":{\"colorbar\":{\"outlinewidth\":0,\"ticks\":\"\"}}}],\"scatter3d\":[{\"type\":\"scatter3d\",\"line\":{\"colorbar\":{\"outlinewidth\":0,\"ticks\":\"\"}},\"marker\":{\"colorbar\":{\"outlinewidth\":0,\"ticks\":\"\"}}}],\"scattermapbox\":[{\"type\":\"scattermapbox\",\"marker\":{\"colorbar\":{\"outlinewidth\":0,\"ticks\":\"\"}}}],\"scatterternary\":[{\"type\":\"scatterternary\",\"marker\":{\"colorbar\":{\"outlinewidth\":0,\"ticks\":\"\"}}}],\"scattercarpet\":[{\"type\":\"scattercarpet\",\"marker\":{\"colorbar\":{\"outlinewidth\":0,\"ticks\":\"\"}}}],\"carpet\":[{\"aaxis\":{\"endlinecolor\":\"#2a3f5f\",\"gridcolor\":\"white\",\"linecolor\":\"white\",\"minorgridcolor\":\"white\",\"startlinecolor\":\"#2a3f5f\"},\"baxis\":{\"endlinecolor\":\"#2a3f5f\",\"gridcolor\":\"white\",\"linecolor\":\"white\",\"minorgridcolor\":\"white\",\"startlinecolor\":\"#2a3f5f\"},\"type\":\"carpet\"}],\"table\":[{\"cells\":{\"fill\":{\"color\":\"#EBF0F8\"},\"line\":{\"color\":\"white\"}},\"header\":{\"fill\":{\"color\":\"#C8D4E3\"},\"line\":{\"color\":\"white\"}},\"type\":\"table\"}],\"barpolar\":[{\"marker\":{\"line\":{\"color\":\"#E5ECF6\",\"width\":0.5},\"pattern\":{\"fillmode\":\"overlay\",\"size\":10,\"solidity\":0.2}},\"type\":\"barpolar\"}],\"pie\":[{\"automargin\":true,\"type\":\"pie\"}]},\"layout\":{\"autotypenumbers\":\"strict\",\"colorway\":[\"#636efa\",\"#EF553B\",\"#00cc96\",\"#ab63fa\",\"#FFA15A\",\"#19d3f3\",\"#FF6692\",\"#B6E880\",\"#FF97FF\",\"#FECB52\"],\"font\":{\"color\":\"#2a3f5f\"},\"hovermode\":\"closest\",\"hoverlabel\":{\"align\":\"left\"},\"paper_bgcolor\":\"white\",\"plot_bgcolor\":\"#E5ECF6\",\"polar\":{\"bgcolor\":\"#E5ECF6\",\"angularaxis\":{\"gridcolor\":\"white\",\"linecolor\":\"white\",\"ticks\":\"\"},\"radialaxis\":{\"gridcolor\":\"white\",\"linecolor\":\"white\",\"ticks\":\"\"}},\"ternary\":{\"bgcolor\":\"#E5ECF6\",\"aaxis\":{\"gridcolor\":\"white\",\"linecolor\":\"white\",\"ticks\":\"\"},\"baxis\":{\"gridcolor\":\"white\",\"linecolor\":\"white\",\"ticks\":\"\"},\"caxis\":{\"gridcolor\":\"white\",\"linecolor\":\"white\",\"ticks\":\"\"}},\"coloraxis\":{\"colorbar\":{\"outlinewidth\":0,\"ticks\":\"\"}},\"colorscale\":{\"sequential\":[[0.0,\"#0d0887\"],[0.1111111111111111,\"#46039f\"],[0.2222222222222222,\"#7201a8\"],[0.3333333333333333,\"#9c179e\"],[0.4444444444444444,\"#bd3786\"],[0.5555555555555556,\"#d8576b\"],[0.6666666666666666,\"#ed7953\"],[0.7777777777777778,\"#fb9f3a\"],[0.8888888888888888,\"#fdca26\"],[1.0,\"#f0f921\"]],\"sequentialminus\":[[0.0,\"#0d0887\"],[0.1111111111111111,\"#46039f\"],[0.2222222222222222,\"#7201a8\"],[0.3333333333333333,\"#9c179e\"],[0.4444444444444444,\"#bd3786\"],[0.5555555555555556,\"#d8576b\"],[0.6666666666666666,\"#ed7953\"],[0.7777777777777778,\"#fb9f3a\"],[0.8888888888888888,\"#fdca26\"],[1.0,\"#f0f921\"]],\"diverging\":[[0,\"#8e0152\"],[0.1,\"#c51b7d\"],[0.2,\"#de77ae\"],[0.3,\"#f1b6da\"],[0.4,\"#fde0ef\"],[0.5,\"#f7f7f7\"],[0.6,\"#e6f5d0\"],[0.7,\"#b8e186\"],[0.8,\"#7fbc41\"],[0.9,\"#4d9221\"],[1,\"#276419\"]]},\"xaxis\":{\"gridcolor\":\"white\",\"linecolor\":\"white\",\"ticks\":\"\",\"title\":{\"standoff\":15},\"zerolinecolor\":\"white\",\"automargin\":true,\"zerolinewidth\":2},\"yaxis\":{\"gridcolor\":\"white\",\"linecolor\":\"white\",\"ticks\":\"\",\"title\":{\"standoff\":15},\"zerolinecolor\":\"white\",\"automargin\":true,\"zerolinewidth\":2},\"scene\":{\"xaxis\":{\"backgroundcolor\":\"#E5ECF6\",\"gridcolor\":\"white\",\"linecolor\":\"white\",\"showbackground\":true,\"ticks\":\"\",\"zerolinecolor\":\"white\",\"gridwidth\":2},\"yaxis\":{\"backgroundcolor\":\"#E5ECF6\",\"gridcolor\":\"white\",\"linecolor\":\"white\",\"showbackground\":true,\"ticks\":\"\",\"zerolinecolor\":\"white\",\"gridwidth\":2},\"zaxis\":{\"backgroundcolor\":\"#E5ECF6\",\"gridcolor\":\"white\",\"linecolor\":\"white\",\"showbackground\":true,\"ticks\":\"\",\"zerolinecolor\":\"white\",\"gridwidth\":2}},\"shapedefaults\":{\"line\":{\"color\":\"#2a3f5f\"}},\"annotationdefaults\":{\"arrowcolor\":\"#2a3f5f\",\"arrowhead\":0,\"arrowwidth\":1},\"geo\":{\"bgcolor\":\"white\",\"landcolor\":\"#E5ECF6\",\"subunitcolor\":\"white\",\"showland\":true,\"showlakes\":true,\"lakecolor\":\"white\"},\"title\":{\"x\":0.05},\"mapbox\":{\"style\":\"light\"}}}},                        {\"responsive\": true}                    ).then(function(){\n",
              "                            \n",
              "var gd = document.getElementById('50dd6bc5-264c-4635-9593-9c0a110d743a');\n",
              "var x = new MutationObserver(function (mutations, observer) {{\n",
              "        var display = window.getComputedStyle(gd).display;\n",
              "        if (!display || display === 'none') {{\n",
              "            console.log([gd, 'removed!']);\n",
              "            Plotly.purge(gd);\n",
              "            observer.disconnect();\n",
              "        }}\n",
              "}});\n",
              "\n",
              "// Listen for the removal of the full notebook cells\n",
              "var notebookContainer = gd.closest('#notebook-container');\n",
              "if (notebookContainer) {{\n",
              "    x.observe(notebookContainer, {childList: true});\n",
              "}}\n",
              "\n",
              "// Listen for the clearing of the current output cell\n",
              "var outputEl = gd.closest('.output');\n",
              "if (outputEl) {{\n",
              "    x.observe(outputEl, {childList: true});\n",
              "}}\n",
              "\n",
              "                        })                };                            </script>        </div>\n",
              "</body>\n",
              "</html>"
            ]
          },
          "metadata": {}
        }
      ]
    },
    {
      "cell_type": "code",
      "source": [
        "y_true = 100 + 20 * np.random.randn(1000)\n",
        "y_pred = y_true + 10 * np.random.randn(1000)\n",
        "results = pd.DataFrame({'y_true': y_true, 'y_pred': y_pred})\n",
        "results['error'] = results['y_true'] - results['y_pred']\n",
        "\n",
        "px.histogram(results, x='error', nbins=50, width=800)"
      ],
      "metadata": {
        "colab": {
          "base_uri": "https://localhost:8080/",
          "height": 562
        },
        "id": "fxnnvZG__lZj",
        "outputId": "159efab7-db06-43ac-f81e-24745aec5c0f"
      },
      "execution_count": 7,
      "outputs": [
        {
          "output_type": "display_data",
          "data": {
            "text/html": [
              "<html>\n",
              "<head><meta charset=\"utf-8\" /></head>\n",
              "<body>\n",
              "    <div>            <script src=\"https://cdnjs.cloudflare.com/ajax/libs/mathjax/2.7.5/MathJax.js?config=TeX-AMS-MML_SVG\"></script><script type=\"text/javascript\">if (window.MathJax && window.MathJax.Hub && window.MathJax.Hub.Config) {window.MathJax.Hub.Config({SVG: {font: \"STIX-Web\"}});}</script>                <script type=\"text/javascript\">window.PlotlyConfig = {MathJaxConfig: 'local'};</script>\n",
              "        <script charset=\"utf-8\" src=\"https://cdn.plot.ly/plotly-2.35.2.min.js\"></script>                <div id=\"3a326795-c194-4bc5-9c9a-02d26c3aa223\" class=\"plotly-graph-div\" style=\"height:525px; width:800px;\"></div>            <script type=\"text/javascript\">                                    window.PLOTLYENV=window.PLOTLYENV || {};                                    if (document.getElementById(\"3a326795-c194-4bc5-9c9a-02d26c3aa223\")) {                    Plotly.newPlot(                        \"3a326795-c194-4bc5-9c9a-02d26c3aa223\",                        [{\"alignmentgroup\":\"True\",\"bingroup\":\"x\",\"hovertemplate\":\"error=%{x}\\u003cbr\\u003ecount=%{y}\\u003cextra\\u003e\\u003c\\u002fextra\\u003e\",\"legendgroup\":\"\",\"marker\":{\"color\":\"#636efa\",\"pattern\":{\"shape\":\"\"}},\"name\":\"\",\"nbinsx\":50,\"offsetgroup\":\"\",\"orientation\":\"v\",\"showlegend\":false,\"x\":[-14.398891912298183,12.275917303279286,-1.7813959815847369,-5.9914220524100585,14.2288234282463,-7.075296630905584,-0.2705262633036227,-2.462764444774237,6.037055884384856,-5.396391580376459,-18.716506148083624,-13.046164434660653,-0.7949854247331132,-7.2428132435398425,-2.4803129957921612,19.143487165910514,7.422302197865591,-5.203316963439931,3.4544063709222996,4.808761650866245,-4.047877570093789,-7.255440840175112,1.8531660579691334,9.636384133541611,2.4878173081935557,8.284613923785983,-7.874158618377251,-0.9579315439521068,-13.94018676238619,-8.159361582702772,-3.6287950595936564,-3.452273819355028,-10.634314383396273,-6.549392351228619,-2.437900920211291,-11.767063828623677,-5.497616429934396,-9.585799885175135,27.593048623099847,8.369949429609576,3.214574868755136,-6.937200851815106,-5.120056497171063,-5.561311154743308,13.171795374751866,9.870124792572625,-2.173954852945357,10.506119652022363,-12.174305266350856,4.888054252543824,1.8883718025385292,-8.178662414095143,3.0002382599185182,0.23845579981241372,-11.072041898345176,5.357044654418615,7.740715796464855,13.637964747027226,1.6505482490813392,-1.9942766157313514,-11.347669235982508,-8.454717965385399,-5.093509616815751,1.7460054609654918,-2.3439880877778876,0.6532312534598077,-3.417037471913133,-13.442768550514621,-0.028340233961856143,23.9961464655439,17.535732546657727,-1.2884353482584316,7.771484259560168,8.891952301658065,8.41936229523101,-15.919745723198162,-9.22720570928577,13.311167621661738,-9.626865986571147,-13.048483999939705,7.744028047196906,8.521888625044639,17.523578573951042,12.235266925253214,4.606489713388569,2.26645035588011,-12.141399514802572,-14.72834487223669,2.4189200880519337,14.453053398321657,4.648228502066651,-19.755181274822405,7.389654620699503,-1.833244787266736,8.612922183654561,-4.20011669231306,2.189447898269705,3.0605679037404343,-23.81935669625993,3.6140448693037683,-14.47022614988144,-7.132419216331542,2.9247473851195167,2.8416541763864416,-1.1116543729685162,-14.721830308105496,-4.395761145683053,4.617124904826738,-5.924347096710434,3.652879115860671,-4.428663133842406,-22.138437759647374,12.498150013026049,12.996330754840741,-2.0220485729080337,-16.404461481672968,-20.54970447842453,-4.69685847925723,7.182018083196155,-9.367886456997766,0.6294685295685127,7.994617759633869,-8.476059190329636,8.384867122643861,-4.5340006661571834,1.7469431748604052,9.119295252363429,-0.4221584508244973,4.027470623937475,3.7002406035171447,2.7761971340155043,-2.086355538465895,-3.9464251324107096,-1.3565454587651828,-6.139068672835066,-0.8658490811280188,-0.6598438289244513,-0.5319839601286418,15.050257404417891,11.281106879108023,-0.8648344045640215,-4.299499992845,5.802616541950002,-5.144626542980063,12.743094404759276,-4.3601286017846945,7.444359082945155,-1.1168707368404966,-14.582574041383694,-7.678042205114977,7.588830264325551,16.93636462006215,-4.189113673998833,-4.817052077165528,13.590288521520677,9.152799307524944,-17.759753382155054,14.906093742311057,-15.888980941124572,-7.977549074599963,-32.207859330880595,1.8952668396114376,9.474986139333652,4.362351695701406,-14.612381724114286,-12.825096036469915,11.744717131878403,2.9599131054959287,-7.115944039529438,15.48187545687513,-12.955602146574392,-1.8320729824480253,-6.499907645947459,-5.07186568496995,-8.956955197058562,-11.627573269972416,11.813314680529018,12.757305205910669,-13.347101866111949,-18.250581047805753,7.746372916673721,-1.8213738498224359,-1.2274741377817833,-15.869154456913762,-13.30976698707616,1.5198019162847913,1.5814693330403173,-8.44622049846889,-10.370709090340299,4.415665495749522,-1.0912410657719391,-1.4936064555755593,15.624543647134928,8.690323093717396,-7.949889587878815,10.13411318618276,-12.98932839498795,-6.974085974413342,-2.5468338344580417,-7.8711588189984525,-12.803655127785802,9.203775410529332,-5.13394778347849,-20.058282964666674,-8.239774789680737,-17.78681095220479,-0.740427761170281,-6.764403885908536,-17.43263931616633,11.349941572789177,-4.335399264934068,7.578780599913216,-3.916690908862492,6.157874916644758,12.307398162324859,17.288442297935944,-9.535748603047722,9.251299587515916,-6.351487892573644,-13.635322025832465,8.58156464101981,0.7363544467137757,10.581659579438451,-8.056041050960872,-7.494803146514954,8.33590764219366,-9.985319887869906,-13.597963678878727,-0.3431800488762349,-3.7631608458090113,-10.202230186336422,-3.4783190215061097,-19.951388618179692,-13.170545937875204,-23.883015306008986,19.474020995906358,-7.762834477084738,0.07376149149624212,-6.464691652871252,-24.85179265660409,7.064408442890084,7.4522211672531995,12.063399376161726,9.37705614795727,3.469548841806926,10.576607738325777,-12.345384661468813,-4.747151575762587,16.200878294769623,9.396801394314437,7.164631869710462,-8.531907269318765,5.232361423204111,-8.838257399883318,-9.020392609940373,-8.466311784710214,7.964372553683589,12.607700235676106,-7.891053517914472,0.23019396588220786,-6.905330482653611,1.9067338692377547,-4.53699318656858,6.095694390648205,-9.432543167464146,5.616729551946847,1.3703330267850191,10.23342589885904,-11.01535997344807,12.663332174828824,-0.1360535625344852,-4.77475699105436,-14.597343149429747,14.456993036635602,-10.668305508707434,-14.710932298824488,-24.131811015710483,-27.045811146589713,-0.03202152556403348,5.071546247476746,-6.154661125306674,17.838615740452127,7.085619907759039,-2.536491439833952,0.797389546739609,-9.577716620633836,20.013266619342744,8.414096906511915,-9.944845363957938,-14.243981027365336,-5.50208713095698,-3.9924217290766535,0.6497182798240289,7.1488255519033,9.09923604592241,21.902991448878595,9.540420226514414,10.411762616068373,-1.16599360840749,-3.5426613366283846,-21.37564998937134,-14.210634490363532,6.14229876412864,-0.4518547192423483,-24.38980337656315,-11.878494546326465,6.444723428839993,-15.53952930975015,3.1902736359801196,-0.14577120470207205,-14.452147559176993,-10.001324328612526,3.3951697390575077,-9.194395508013315,-12.829698540954126,-2.6339357776034262,-16.05326984665504,-16.35231067386981,-15.815327505737642,12.008309317975773,0.3253433884065089,-4.082138166864922,1.147986471990059,-1.8683875240363648,1.6480275150845287,7.064628586969633,3.9764379941680943,-14.495182458773016,4.149149884110827,9.057757470561697,3.6938356198278086,-11.080027623117417,-13.786737029589787,11.483215448706218,-14.927306427866057,5.317277847981046,-16.36857471696132,-3.6673939368534008,-1.2317879630596167,14.532472783372413,10.578975361294312,-11.568487089756388,3.2209737994819676,14.466465879528485,1.5232772322450927,0.7058536268882563,-2.8814876950699784,-8.131132115751797,-3.9428151600223913,-7.6176616041045975,-8.45278116282637,0.5512637789360184,-5.437552766517598,-19.718938513089554,-8.06156260565453,8.39435186816867,6.655276801650771,-2.0131322901542603,9.36048993726348,6.6988023132731485,-5.750833584668484,-17.049344288179498,-20.33709286025615,-12.825905819818246,-17.494973895641465,-4.507334248823923,-0.447629896197526,-7.479946314470467,20.10576321462449,5.799359589362155,4.359011295168237,-5.031819795541651,20.604482959455638,4.726918938184454,-7.547376021081391,-9.814808048441108,-1.564961281145031,6.836054033350052,-11.182047496267174,13.87042621437547,6.5799615896299315,-7.2640527299212465,-3.2489084391011716,-7.038507902784033,1.9844820988223972,2.975429670555073,6.0115446901531016,13.021289674469926,-5.492341396533504,15.643080773738248,-10.608638837506518,7.7186989336255465,0.43829599545190945,15.007953684468475,-14.593688724049258,5.881079012813942,-2.7200945814948057,-2.257048858896752,-15.692550083571547,2.4259303925466895,-6.4997930628885285,5.175264583420756,0.4167017541308411,-12.16792582760496,5.906850845107073,-5.254829163004473,-9.717527913010613,-0.18567585502188422,-20.070162537239696,-5.579915361856536,-0.7327978688817467,-0.7451790518853301,24.083442377408417,-9.537078659680716,9.308056212880004,10.085288010266595,2.9779102211942075,-17.812739728785672,-7.784931466839836,-7.95159989424495,9.246225524096772,-5.676261762243328,8.090816665951934,-9.545040589359331,-4.712078041202844,2.449059420776848,-12.06060206757445,5.636585861968911,-4.649044095549726,7.0149823819553205,-11.624991852153386,-3.9764392044937154,1.2730945386865358,10.74667906875105,-0.5931459819972957,8.67165402895482,2.8093560483031013,10.320676066115539,-4.286360100137458,8.32061832208447,2.879602589381193,-11.498956822222041,-1.9314608760331708,-6.125892983515328,-4.972981893634568,-5.565214030635502,5.4558668932529315,21.68775529946059,1.088709367142485,-3.7433787170757,-13.586043462664676,-8.725523428514208,-5.395869903242001,-8.18821360921369,-3.9402769200377037,6.847170900823201,8.336481372640122,-1.795254879657314,3.052778188758907,-8.276712197576316,20.148218833269453,0.8095782701986707,2.279709905472515,-6.018626685778827,-8.291489724353525,-18.701194476959188,1.7113177080887851,-8.836736103618861,1.8687769073219442,5.398813356591091,-1.0088743809142358,-28.988502040902873,-7.485732938093918,8.385840630574364,-4.542807504100637,-8.331118090003159,20.301396467438778,4.216120032182076,-8.819472204155218,-2.33255791810096,17.774630765953958,-2.1636275660478788,11.339862367244109,-3.9602060568999065,-1.7428328848402401,-5.420605617251624,6.685261604937921,4.1430631280258865,-7.812636294852922,-4.304651516980755,-5.880380960537437,-6.229234293494017,9.065969004458417,-10.704270036201564,-12.454239670121993,4.514544447315998,7.355160430876396,13.343985527420728,10.33279477134002,14.630116730621154,5.836086491135902,16.63240563432089,-2.281580667884839,-20.73494587803576,13.915021486301171,-15.234791751730143,-3.285605586504502,-10.428288921453927,-13.002340296020435,-11.882253480909839,6.075583014988183,-13.639484491494514,8.376771904149237,3.5858997848667826,8.88491787886872,-6.802379771876417,-8.005173602378704,3.9899620830863256,5.806953228716381,4.271306946969105,5.025903906058744,-19.99677137357739,-4.697539882458926,-15.9140901942896,8.121714454177706,-3.4209519615719586,-21.61021578076,-5.098818832496789,8.422616773333843,17.895329037759907,-10.243162235932928,-7.811362957998199,5.840198446485417,7.76655911903967,1.132728127556561,-4.801161267690787,-1.6708323562865388,23.787358809318206,12.89490605399186,-6.436508704720168,-6.209933340359086,22.370149988842442,11.01031664209799,-6.333485984476056,4.224681744997341,-14.217882335945376,-5.133084309129728,-0.9800123701058538,19.125650258124423,-8.837934125985825,1.4775595058851536,-7.5883381425191345,-10.263184941602148,-12.070719044077208,5.649851306857784,6.227345705490677,-6.197279140358944,17.187527413143414,-0.8807997432591748,0.11564460990913972,-0.7981278435413941,-17.87551579355764,-9.12206891454413,9.666531469319409,23.602388228588367,-6.844522119003599,3.7798326257905472,-12.11487501469881,-2.4191816159786868,3.6151821370931714,2.3273191388333743,-17.469947931258773,5.874387123727459,-20.059859327195653,-0.3622330916053329,-5.065317101098842,0.8391226236371097,-2.624504455848836,22.337610911587205,-3.618394700879037,-6.662565092403668,-0.22692980154576503,-1.441099921987032,8.188873109453354,28.603812678936883,16.17265611645098,-0.28921544992785186,-10.254564141947156,16.550285343117253,-14.061523722409433,-1.2544864132595706,14.20252571331632,-7.588147427713906,7.8822903492734895,-7.507127383406029,-1.9625538874812634,7.580791309552112,5.482262882995556,1.3887661066821977,-4.343139306580753,-14.689453275688265,2.592108060615402,9.55266301094494,22.887061687544346,-7.9863836417205505,-8.571625761260947,-2.7870981367624807,-5.916934460545519,2.9133914534656924,8.371823130833988,-3.607817890503469,-7.685764814301649,-28.77782467188939,4.197083455614688,7.077621500326927,9.33135803497062,0.7208751127246558,-12.485066917544302,-2.9598359347886998,3.7692754956398886,-2.992323664682857,-25.228443584149545,-1.847324032988837,5.013769699610592,11.594337621200012,7.610820985447106,6.755542953035899,9.036250545717309,-13.905554064583043,1.192323286048861,-11.854155244971068,7.554960760411092,-5.689888755758844,-16.25622807540472,-9.025692354327418,-3.5146722757842213,-12.804205406112374,17.9833108739533,10.092517873231373,-14.871061158501874,-9.065021673788863,5.6935804778626675,6.228471007959058,-5.303057069400225,-3.6488943346102616,9.081693481780292,-8.407040502100472,-18.016720354400505,0.010741336404961999,5.951486011205432,-12.911667058518894,4.108626850454144,11.991062843696156,6.821934173116972,-3.7254289782125625,19.322169536706,-2.677208768391992,10.768644081877909,-10.136139781678366,2.7032381788442876,21.701865623951278,17.326689446984417,14.510776510398898,-10.682091731574289,5.839686379460559,6.883333208698488,-15.264934952279248,-8.957871988923742,3.318116802721576,-5.936162266757421,-5.015240447751822,11.859661846447167,5.895011078172388,-13.626146027416993,14.369864018956022,12.884079903688885,13.214018587528102,-4.399186104725345,9.406208699973433,2.5424304350695763,-5.104722058131813,-14.791150638750793,-10.331857704817551,-7.1020549660103995,-11.124474014465932,0.23701650827969445,-13.784076850951834,-0.896836708703276,9.104789301729383,8.391189549841386,13.17622571610012,1.5509480848652544,6.1961987374139085,11.84464592093461,-5.844005362315471,-13.836156967797791,-0.5841132704337326,2.6125787706980645,-4.283212350464353,-18.12331383466079,-19.905556757374654,4.605384330929738,-0.4165794957311988,-11.37506584751489,-3.0993304603688756,-4.10013986905949,-8.102640190457308,-15.440175573708686,-13.024153509758719,-6.0026879760370235,10.95156057025271,2.2648106102300076,-10.433156157761843,-4.312728875022188,1.2115241632880895,-5.712720576693599,-0.9909075845853295,13.404383916253394,8.483276875465663,-7.1796139196754325,3.15994917017715,-9.573940876044972,-3.3690704339068134,-5.230568967484629,-7.762732207450057,9.309740112634302,-13.54519546136305,-1.2281522947637598,3.4617907777659127,-5.132226982481683,-1.5133764027189898,7.509685999884496,-7.45347617312666,20.881624399189633,-4.503183585746356,15.33150020946222,-9.360973217298877,-16.865333983210036,-1.37527220665892,23.80371606300004,10.311079764398102,-0.1753818554078208,11.161014199298464,-2.665106928053504,-6.595989412374962,1.7782018712830592,-24.612281113188544,7.910180295993044,-0.7177974680394641,-1.882601866715575,-3.1143788355181243,11.689520814995348,31.528595986056374,9.343113303412139,-4.551270368152842,7.677617301897669,-1.639785274895921,2.445330371568602,0.45319405928802325,2.9943485696043126,-13.817819030826172,7.599719600133014,10.000884084933631,-1.1548525677947623,15.179675513423348,-1.765237384466829,13.924357407557792,-1.738630898372179,3.9015573470599634,-17.081864851224566,-4.010905103010799,-2.7876827749038,3.2625032584267046,-15.600334025290437,3.0438133783222696,4.7637563368136,6.099720606308466,-2.5534264447884993,-0.21563192703018785,-9.561179906444579,-13.11802403978973,-5.257386613257523,4.181272453748377,-1.1389891989484653,-13.984278401042616,1.4138563434387947,1.4137285297110225,1.6625484710597078,-7.8178406834976215,11.4949281668017,-14.557867972992042,17.24127460441116,9.094722289041073,0.7142566662534904,-1.004130065336767,6.543351221282549,-5.560446442817806,14.384536814332705,-1.0716926065383632,11.478779204306676,2.4110703313384363,-11.03450531862876,8.52398373729109,-17.322567986514656,8.513797503861625,-11.414179455060491,-3.0899625904704067,10.486440563192744,10.977591001432614,2.712470953468113,17.77319287982219,8.5756149726203,-3.934974761233022,-13.36559408335144,13.273648099516052,13.844592314106023,6.57191532701313,-11.085976887776795,-4.440619929595499,-4.386373463648795,-4.593617391260594,0.07402403215417053,5.74914059577695,-1.9038856936433604,17.213509400809386,6.745306182920146,-2.65182674146169,-1.9863281005939228,-19.24472211732106,9.626130054705712,6.111720076817193,8.396113958293583,16.216634723157554,-5.92023301892398,0.21782414281582874,-2.0058749000106673,6.882138821581805,8.670867766569145,-15.996239368202154,10.377972473283663,6.864490462189352,11.160201271436463,-21.018785840718664,4.05292595284434,11.180931217570603,-14.929171568099903,15.216026103768783,15.115293554765941,8.296691766419855,-7.788758439387877,3.8499089258403316,9.413966631419271,-3.01164997833024,-4.2434346454494545,-5.689727147380154,4.008480547769963,18.28249734816187,-3.228107720694581,0.09968257976598238,9.15273973022041,2.955563237097593,-1.9640444328176727,-29.39521595801338,6.328050182456295,-7.281012467442494,-0.2696376640409568,7.48728309411355,-13.875268351257915,5.321483153583827,-0.270841283912425,21.708689539143094,0.7512335295683243,-1.50898236795053,17.16783231134076,-5.862794852998306,-9.84574137005076,-9.497139844909555,2.9381228132611454,8.169973970657125,19.887509248906213,9.293602346470763,3.508441186066733,-11.810508605848582,-12.740021653116102,1.3585899406653823,-12.465014107922755,3.676061347927984,8.467565396868125,9.079628105922808,13.628260315715764,6.59084100527933,20.8618345234149,18.433092378748,-18.927066089558124,7.893457976313343,-8.113204530117471,-8.049995795228625,-5.629841720827557,-0.20908840799400252,-14.148777498212297,-8.05250561295017,-4.526736514203492,5.437581623074237,-8.92179356733331,4.936494457433,6.734076995778153,-11.599179032304164,5.03918713123403,13.1038909686485,-0.5532091973145441,-14.266675057673353,1.867779442585018,-3.4965382207895175,5.920331637632216,-6.6389357871578625,-0.9172102466460785,-3.4052194280409367,30.506495650557,-14.918128553387135,-5.878302868199796,-0.02878259671614103,22.912524879704407,7.015895479171746,6.22306013528565,8.272143866700702,-2.6823177190515253,6.128366699929785,8.364011475179396,-1.2869301053765838,1.357290440566615,-5.6172778094021965,-7.008240032349306,2.374800183139868,4.715664914879866,6.831563975995607,16.06181028567582,6.812862704056087,-14.982498833979278,-15.192345550307081,1.9903296937129795,0.7096179706331753,-3.4585766125730117,2.7937184441705654,-0.21095886631127314,-14.297337221164014,11.14010530940071,-9.192592852234228,11.182869717340594,4.292275366485825,-10.260680876985717,8.305838001243075,-1.2813165552039578,12.95341556713133,4.697819278948145,7.0687887879794715,2.935556216326546,0.28795352221183634,-16.53881555604383,19.02715782062613,2.839124648040624,-7.1788092425307894,6.299575866383634,6.540288411747298,-5.30633736296852,-2.8816195982201123,-2.0954509449507555,-3.1761104943289524,-6.514172863339795,4.54572621954631,-12.78142411738628,4.551736394081573,-8.013071942038223,1.532067109177234,-7.886294694842718,4.403716279861314,-6.066985744542038,-3.7431061142299598,-7.795293393968137,7.07613331839373,7.1277578649633,6.56649820667333,0.1574654795423669,-16.861453207531028,4.781265888592614,-12.92858199204872,-12.354943859531161,20.259218759757786,-7.702619335410276,11.286624652091874,-11.67769566851041,-21.30457573358271,-2.7177806506039843,14.738069539742241,10.054178996918026,-12.973582571604084,-9.249515638125217,-8.167476135866465,7.910385838899927,13.589587938965053,-11.387134836300433],\"xaxis\":\"x\",\"yaxis\":\"y\",\"type\":\"histogram\"}],                        {\"template\":{\"data\":{\"histogram2dcontour\":[{\"type\":\"histogram2dcontour\",\"colorbar\":{\"outlinewidth\":0,\"ticks\":\"\"},\"colorscale\":[[0.0,\"#0d0887\"],[0.1111111111111111,\"#46039f\"],[0.2222222222222222,\"#7201a8\"],[0.3333333333333333,\"#9c179e\"],[0.4444444444444444,\"#bd3786\"],[0.5555555555555556,\"#d8576b\"],[0.6666666666666666,\"#ed7953\"],[0.7777777777777778,\"#fb9f3a\"],[0.8888888888888888,\"#fdca26\"],[1.0,\"#f0f921\"]]}],\"choropleth\":[{\"type\":\"choropleth\",\"colorbar\":{\"outlinewidth\":0,\"ticks\":\"\"}}],\"histogram2d\":[{\"type\":\"histogram2d\",\"colorbar\":{\"outlinewidth\":0,\"ticks\":\"\"},\"colorscale\":[[0.0,\"#0d0887\"],[0.1111111111111111,\"#46039f\"],[0.2222222222222222,\"#7201a8\"],[0.3333333333333333,\"#9c179e\"],[0.4444444444444444,\"#bd3786\"],[0.5555555555555556,\"#d8576b\"],[0.6666666666666666,\"#ed7953\"],[0.7777777777777778,\"#fb9f3a\"],[0.8888888888888888,\"#fdca26\"],[1.0,\"#f0f921\"]]}],\"heatmap\":[{\"type\":\"heatmap\",\"colorbar\":{\"outlinewidth\":0,\"ticks\":\"\"},\"colorscale\":[[0.0,\"#0d0887\"],[0.1111111111111111,\"#46039f\"],[0.2222222222222222,\"#7201a8\"],[0.3333333333333333,\"#9c179e\"],[0.4444444444444444,\"#bd3786\"],[0.5555555555555556,\"#d8576b\"],[0.6666666666666666,\"#ed7953\"],[0.7777777777777778,\"#fb9f3a\"],[0.8888888888888888,\"#fdca26\"],[1.0,\"#f0f921\"]]}],\"heatmapgl\":[{\"type\":\"heatmapgl\",\"colorbar\":{\"outlinewidth\":0,\"ticks\":\"\"},\"colorscale\":[[0.0,\"#0d0887\"],[0.1111111111111111,\"#46039f\"],[0.2222222222222222,\"#7201a8\"],[0.3333333333333333,\"#9c179e\"],[0.4444444444444444,\"#bd3786\"],[0.5555555555555556,\"#d8576b\"],[0.6666666666666666,\"#ed7953\"],[0.7777777777777778,\"#fb9f3a\"],[0.8888888888888888,\"#fdca26\"],[1.0,\"#f0f921\"]]}],\"contourcarpet\":[{\"type\":\"contourcarpet\",\"colorbar\":{\"outlinewidth\":0,\"ticks\":\"\"}}],\"contour\":[{\"type\":\"contour\",\"colorbar\":{\"outlinewidth\":0,\"ticks\":\"\"},\"colorscale\":[[0.0,\"#0d0887\"],[0.1111111111111111,\"#46039f\"],[0.2222222222222222,\"#7201a8\"],[0.3333333333333333,\"#9c179e\"],[0.4444444444444444,\"#bd3786\"],[0.5555555555555556,\"#d8576b\"],[0.6666666666666666,\"#ed7953\"],[0.7777777777777778,\"#fb9f3a\"],[0.8888888888888888,\"#fdca26\"],[1.0,\"#f0f921\"]]}],\"surface\":[{\"type\":\"surface\",\"colorbar\":{\"outlinewidth\":0,\"ticks\":\"\"},\"colorscale\":[[0.0,\"#0d0887\"],[0.1111111111111111,\"#46039f\"],[0.2222222222222222,\"#7201a8\"],[0.3333333333333333,\"#9c179e\"],[0.4444444444444444,\"#bd3786\"],[0.5555555555555556,\"#d8576b\"],[0.6666666666666666,\"#ed7953\"],[0.7777777777777778,\"#fb9f3a\"],[0.8888888888888888,\"#fdca26\"],[1.0,\"#f0f921\"]]}],\"mesh3d\":[{\"type\":\"mesh3d\",\"colorbar\":{\"outlinewidth\":0,\"ticks\":\"\"}}],\"scatter\":[{\"fillpattern\":{\"fillmode\":\"overlay\",\"size\":10,\"solidity\":0.2},\"type\":\"scatter\"}],\"parcoords\":[{\"type\":\"parcoords\",\"line\":{\"colorbar\":{\"outlinewidth\":0,\"ticks\":\"\"}}}],\"scatterpolargl\":[{\"type\":\"scatterpolargl\",\"marker\":{\"colorbar\":{\"outlinewidth\":0,\"ticks\":\"\"}}}],\"bar\":[{\"error_x\":{\"color\":\"#2a3f5f\"},\"error_y\":{\"color\":\"#2a3f5f\"},\"marker\":{\"line\":{\"color\":\"#E5ECF6\",\"width\":0.5},\"pattern\":{\"fillmode\":\"overlay\",\"size\":10,\"solidity\":0.2}},\"type\":\"bar\"}],\"scattergeo\":[{\"type\":\"scattergeo\",\"marker\":{\"colorbar\":{\"outlinewidth\":0,\"ticks\":\"\"}}}],\"scatterpolar\":[{\"type\":\"scatterpolar\",\"marker\":{\"colorbar\":{\"outlinewidth\":0,\"ticks\":\"\"}}}],\"histogram\":[{\"marker\":{\"pattern\":{\"fillmode\":\"overlay\",\"size\":10,\"solidity\":0.2}},\"type\":\"histogram\"}],\"scattergl\":[{\"type\":\"scattergl\",\"marker\":{\"colorbar\":{\"outlinewidth\":0,\"ticks\":\"\"}}}],\"scatter3d\":[{\"type\":\"scatter3d\",\"line\":{\"colorbar\":{\"outlinewidth\":0,\"ticks\":\"\"}},\"marker\":{\"colorbar\":{\"outlinewidth\":0,\"ticks\":\"\"}}}],\"scattermapbox\":[{\"type\":\"scattermapbox\",\"marker\":{\"colorbar\":{\"outlinewidth\":0,\"ticks\":\"\"}}}],\"scatterternary\":[{\"type\":\"scatterternary\",\"marker\":{\"colorbar\":{\"outlinewidth\":0,\"ticks\":\"\"}}}],\"scattercarpet\":[{\"type\":\"scattercarpet\",\"marker\":{\"colorbar\":{\"outlinewidth\":0,\"ticks\":\"\"}}}],\"carpet\":[{\"aaxis\":{\"endlinecolor\":\"#2a3f5f\",\"gridcolor\":\"white\",\"linecolor\":\"white\",\"minorgridcolor\":\"white\",\"startlinecolor\":\"#2a3f5f\"},\"baxis\":{\"endlinecolor\":\"#2a3f5f\",\"gridcolor\":\"white\",\"linecolor\":\"white\",\"minorgridcolor\":\"white\",\"startlinecolor\":\"#2a3f5f\"},\"type\":\"carpet\"}],\"table\":[{\"cells\":{\"fill\":{\"color\":\"#EBF0F8\"},\"line\":{\"color\":\"white\"}},\"header\":{\"fill\":{\"color\":\"#C8D4E3\"},\"line\":{\"color\":\"white\"}},\"type\":\"table\"}],\"barpolar\":[{\"marker\":{\"line\":{\"color\":\"#E5ECF6\",\"width\":0.5},\"pattern\":{\"fillmode\":\"overlay\",\"size\":10,\"solidity\":0.2}},\"type\":\"barpolar\"}],\"pie\":[{\"automargin\":true,\"type\":\"pie\"}]},\"layout\":{\"autotypenumbers\":\"strict\",\"colorway\":[\"#636efa\",\"#EF553B\",\"#00cc96\",\"#ab63fa\",\"#FFA15A\",\"#19d3f3\",\"#FF6692\",\"#B6E880\",\"#FF97FF\",\"#FECB52\"],\"font\":{\"color\":\"#2a3f5f\"},\"hovermode\":\"closest\",\"hoverlabel\":{\"align\":\"left\"},\"paper_bgcolor\":\"white\",\"plot_bgcolor\":\"#E5ECF6\",\"polar\":{\"bgcolor\":\"#E5ECF6\",\"angularaxis\":{\"gridcolor\":\"white\",\"linecolor\":\"white\",\"ticks\":\"\"},\"radialaxis\":{\"gridcolor\":\"white\",\"linecolor\":\"white\",\"ticks\":\"\"}},\"ternary\":{\"bgcolor\":\"#E5ECF6\",\"aaxis\":{\"gridcolor\":\"white\",\"linecolor\":\"white\",\"ticks\":\"\"},\"baxis\":{\"gridcolor\":\"white\",\"linecolor\":\"white\",\"ticks\":\"\"},\"caxis\":{\"gridcolor\":\"white\",\"linecolor\":\"white\",\"ticks\":\"\"}},\"coloraxis\":{\"colorbar\":{\"outlinewidth\":0,\"ticks\":\"\"}},\"colorscale\":{\"sequential\":[[0.0,\"#0d0887\"],[0.1111111111111111,\"#46039f\"],[0.2222222222222222,\"#7201a8\"],[0.3333333333333333,\"#9c179e\"],[0.4444444444444444,\"#bd3786\"],[0.5555555555555556,\"#d8576b\"],[0.6666666666666666,\"#ed7953\"],[0.7777777777777778,\"#fb9f3a\"],[0.8888888888888888,\"#fdca26\"],[1.0,\"#f0f921\"]],\"sequentialminus\":[[0.0,\"#0d0887\"],[0.1111111111111111,\"#46039f\"],[0.2222222222222222,\"#7201a8\"],[0.3333333333333333,\"#9c179e\"],[0.4444444444444444,\"#bd3786\"],[0.5555555555555556,\"#d8576b\"],[0.6666666666666666,\"#ed7953\"],[0.7777777777777778,\"#fb9f3a\"],[0.8888888888888888,\"#fdca26\"],[1.0,\"#f0f921\"]],\"diverging\":[[0,\"#8e0152\"],[0.1,\"#c51b7d\"],[0.2,\"#de77ae\"],[0.3,\"#f1b6da\"],[0.4,\"#fde0ef\"],[0.5,\"#f7f7f7\"],[0.6,\"#e6f5d0\"],[0.7,\"#b8e186\"],[0.8,\"#7fbc41\"],[0.9,\"#4d9221\"],[1,\"#276419\"]]},\"xaxis\":{\"gridcolor\":\"white\",\"linecolor\":\"white\",\"ticks\":\"\",\"title\":{\"standoff\":15},\"zerolinecolor\":\"white\",\"automargin\":true,\"zerolinewidth\":2},\"yaxis\":{\"gridcolor\":\"white\",\"linecolor\":\"white\",\"ticks\":\"\",\"title\":{\"standoff\":15},\"zerolinecolor\":\"white\",\"automargin\":true,\"zerolinewidth\":2},\"scene\":{\"xaxis\":{\"backgroundcolor\":\"#E5ECF6\",\"gridcolor\":\"white\",\"linecolor\":\"white\",\"showbackground\":true,\"ticks\":\"\",\"zerolinecolor\":\"white\",\"gridwidth\":2},\"yaxis\":{\"backgroundcolor\":\"#E5ECF6\",\"gridcolor\":\"white\",\"linecolor\":\"white\",\"showbackground\":true,\"ticks\":\"\",\"zerolinecolor\":\"white\",\"gridwidth\":2},\"zaxis\":{\"backgroundcolor\":\"#E5ECF6\",\"gridcolor\":\"white\",\"linecolor\":\"white\",\"showbackground\":true,\"ticks\":\"\",\"zerolinecolor\":\"white\",\"gridwidth\":2}},\"shapedefaults\":{\"line\":{\"color\":\"#2a3f5f\"}},\"annotationdefaults\":{\"arrowcolor\":\"#2a3f5f\",\"arrowhead\":0,\"arrowwidth\":1},\"geo\":{\"bgcolor\":\"white\",\"landcolor\":\"#E5ECF6\",\"subunitcolor\":\"white\",\"showland\":true,\"showlakes\":true,\"lakecolor\":\"white\"},\"title\":{\"x\":0.05},\"mapbox\":{\"style\":\"light\"}}},\"xaxis\":{\"anchor\":\"y\",\"domain\":[0.0,1.0],\"title\":{\"text\":\"error\"}},\"yaxis\":{\"anchor\":\"x\",\"domain\":[0.0,1.0],\"title\":{\"text\":\"count\"}},\"legend\":{\"tracegroupgap\":0},\"margin\":{\"t\":60},\"barmode\":\"relative\",\"width\":800},                        {\"responsive\": true}                    ).then(function(){\n",
              "                            \n",
              "var gd = document.getElementById('3a326795-c194-4bc5-9c9a-02d26c3aa223');\n",
              "var x = new MutationObserver(function (mutations, observer) {{\n",
              "        var display = window.getComputedStyle(gd).display;\n",
              "        if (!display || display === 'none') {{\n",
              "            console.log([gd, 'removed!']);\n",
              "            Plotly.purge(gd);\n",
              "            observer.disconnect();\n",
              "        }}\n",
              "}});\n",
              "\n",
              "// Listen for the removal of the full notebook cells\n",
              "var notebookContainer = gd.closest('#notebook-container');\n",
              "if (notebookContainer) {{\n",
              "    x.observe(notebookContainer, {childList: true});\n",
              "}}\n",
              "\n",
              "// Listen for the clearing of the current output cell\n",
              "var outputEl = gd.closest('.output');\n",
              "if (outputEl) {{\n",
              "    x.observe(outputEl, {childList: true});\n",
              "}}\n",
              "\n",
              "                        })                };                            </script>        </div>\n",
              "</body>\n",
              "</html>"
            ]
          },
          "metadata": {}
        }
      ]
    },
    {
      "cell_type": "markdown",
      "source": [
        "### <a name='a3'></a> 2.2 Mean Absolute Error\n",
        "### $$MAE = \\frac{1}{n}\\sum_{i=1}^{N}|y_{true} - y_{pred}|$$"
      ],
      "metadata": {
        "id": "c42Gda6MCBCw"
      }
    },
    {
      "cell_type": "code",
      "source": [
        "def mean_absolute_error(y_true, y_pred):\n",
        "    return abs(y_true - y_pred).sum() / len(y_true)\n",
        "\n",
        "mean_absolute_error(y_true, y_pred)"
      ],
      "metadata": {
        "colab": {
          "base_uri": "https://localhost:8080/"
        },
        "id": "zROMT1t6CD-K",
        "outputId": "d6249c24-c102-43df-9213-ebfae5487322"
      },
      "execution_count": 8,
      "outputs": [
        {
          "output_type": "execute_result",
          "data": {
            "text/plain": [
              "8.268404487595205"
            ]
          },
          "metadata": {},
          "execution_count": 8
        }
      ]
    },
    {
      "cell_type": "code",
      "source": [
        "from tensorflow.keras.losses import mean_absolute_error\n",
        "mean_absolute_error(y_true, y_pred)"
      ],
      "metadata": {
        "colab": {
          "base_uri": "https://localhost:8080/",
          "height": 367
        },
        "id": "x9T68efdCLpq",
        "outputId": "95c1c188-e3af-4196-84ab-d75bd0ae2210"
      },
      "execution_count": 9,
      "outputs": [
        {
          "output_type": "error",
          "ename": "ImportError",
          "evalue": "cannot import name 'mean_absolute_error' from 'tensorflow.keras.losses' (/usr/local/lib/python3.10/dist-packages/keras/_tf_keras/keras/losses/__init__.py)",
          "traceback": [
            "\u001b[0;31m---------------------------------------------------------------------------\u001b[0m",
            "\u001b[0;31mImportError\u001b[0m                               Traceback (most recent call last)",
            "\u001b[0;32m<ipython-input-9-a073012d3d75>\u001b[0m in \u001b[0;36m<cell line: 1>\u001b[0;34m()\u001b[0m\n\u001b[0;32m----> 1\u001b[0;31m \u001b[0;32mfrom\u001b[0m \u001b[0mtensorflow\u001b[0m\u001b[0;34m.\u001b[0m\u001b[0mkeras\u001b[0m\u001b[0;34m.\u001b[0m\u001b[0mlosses\u001b[0m \u001b[0;32mimport\u001b[0m \u001b[0mmean_absolute_error\u001b[0m\u001b[0;34m\u001b[0m\u001b[0;34m\u001b[0m\u001b[0m\n\u001b[0m\u001b[1;32m      2\u001b[0m \u001b[0mmean_absolute_error\u001b[0m\u001b[0;34m(\u001b[0m\u001b[0my_true\u001b[0m\u001b[0;34m,\u001b[0m \u001b[0my_pred\u001b[0m\u001b[0;34m)\u001b[0m\u001b[0;34m\u001b[0m\u001b[0;34m\u001b[0m\u001b[0m\n",
            "\u001b[0;31mImportError\u001b[0m: cannot import name 'mean_absolute_error' from 'tensorflow.keras.losses' (/usr/local/lib/python3.10/dist-packages/keras/_tf_keras/keras/losses/__init__.py)",
            "",
            "\u001b[0;31m---------------------------------------------------------------------------\u001b[0;32m\nNOTE: If your import is failing due to a missing package, you can\nmanually install dependencies using either !pip or !apt.\n\nTo view examples of installing some common dependencies, click the\n\"Open Examples\" button below.\n\u001b[0;31m---------------------------------------------------------------------------\u001b[0m\n"
          ],
          "errorDetails": {
            "actions": [
              {
                "action": "open_url",
                "actionText": "Open Examples",
                "url": "/notebooks/snippets/importing_libraries.ipynb"
              }
            ]
          }
        }
      ]
    },
    {
      "cell_type": "code",
      "source": [
        "from sklearn.metrics import mean_absolute_error\n",
        "mean_absolute_error(y_true, y_pred)"
      ],
      "metadata": {
        "colab": {
          "base_uri": "https://localhost:8080/"
        },
        "id": "JL8l5iztCXqL",
        "outputId": "6906a455-cc50-45fe-e2db-54b1f98a4499"
      },
      "execution_count": 10,
      "outputs": [
        {
          "output_type": "execute_result",
          "data": {
            "text/plain": [
              "8.268404487595205"
            ]
          },
          "metadata": {},
          "execution_count": 10
        }
      ]
    },
    {
      "cell_type": "markdown",
      "source": [
        "### <a name='a4'></a> 2.3 Mean Squared Error\n",
        "### $$MSE = \\frac{1}{n}\\sum_{i=1}^{N}(y_{true} - y_{pred})^{2}$$"
      ],
      "metadata": {
        "id": "pMT8pWp9CXH3"
      }
    },
    {
      "cell_type": "code",
      "source": [
        "def mean_squared_error(y_true, y_pred):\n",
        "    return ((y_true - y_pred) ** 2).sum() / len(y_true)\n",
        "\n",
        "mean_squared_error(y_true, y_pred)"
      ],
      "metadata": {
        "colab": {
          "base_uri": "https://localhost:8080/"
        },
        "id": "hn_JB7lHCezC",
        "outputId": "05128965-99d9-49de-a58f-c63ed906158c"
      },
      "execution_count": 11,
      "outputs": [
        {
          "output_type": "execute_result",
          "data": {
            "text/plain": [
              "103.25127454859495"
            ]
          },
          "metadata": {},
          "execution_count": 11
        }
      ]
    },
    {
      "cell_type": "code",
      "source": [
        "from tensorflow.keras.metrics import mean_squared_error # The mean_squared_error function was mistakenly imported from tensorflow.keras.losses. The correct module to import from is tensorflow.keras.metrics\n",
        "mean_squared_error(y_true, y_pred)"
      ],
      "metadata": {
        "colab": {
          "base_uri": "https://localhost:8080/",
          "height": 402
        },
        "id": "UkoGtgY9CjoY",
        "outputId": "bca5515d-c7cd-49f2-ce93-a4db675b2b8a"
      },
      "execution_count": 14,
      "outputs": [
        {
          "output_type": "error",
          "ename": "ImportError",
          "evalue": "cannot import name 'mean_squared_error' from 'tensorflow.keras.metrics' (/usr/local/lib/python3.10/dist-packages/keras/_tf_keras/keras/metrics/__init__.py)",
          "traceback": [
            "\u001b[0;31m---------------------------------------------------------------------------\u001b[0m",
            "\u001b[0;31mImportError\u001b[0m                               Traceback (most recent call last)",
            "\u001b[0;32m<ipython-input-14-3a061d4310c4>\u001b[0m in \u001b[0;36m<cell line: 1>\u001b[0;34m()\u001b[0m\n\u001b[0;32m----> 1\u001b[0;31m \u001b[0;32mfrom\u001b[0m \u001b[0mtensorflow\u001b[0m\u001b[0;34m.\u001b[0m\u001b[0mkeras\u001b[0m\u001b[0;34m.\u001b[0m\u001b[0mmetrics\u001b[0m \u001b[0;32mimport\u001b[0m \u001b[0mmean_squared_error\u001b[0m \u001b[0;31m# The mean_squared_error function was mistakenly imported from tensorflow.keras.losses. The correct module to import from is tensorflow.keras.metrics\u001b[0m\u001b[0;34m\u001b[0m\u001b[0;34m\u001b[0m\u001b[0m\n\u001b[0m\u001b[1;32m      2\u001b[0m \u001b[0mmean_squared_error\u001b[0m\u001b[0;34m(\u001b[0m\u001b[0my_true\u001b[0m\u001b[0;34m,\u001b[0m \u001b[0my_pred\u001b[0m\u001b[0;34m)\u001b[0m\u001b[0;34m\u001b[0m\u001b[0;34m\u001b[0m\u001b[0m\n",
            "\u001b[0;31mImportError\u001b[0m: cannot import name 'mean_squared_error' from 'tensorflow.keras.metrics' (/usr/local/lib/python3.10/dist-packages/keras/_tf_keras/keras/metrics/__init__.py)",
            "",
            "\u001b[0;31m---------------------------------------------------------------------------\u001b[0;32m\nNOTE: If your import is failing due to a missing package, you can\nmanually install dependencies using either !pip or !apt.\n\nTo view examples of installing some common dependencies, click the\n\"Open Examples\" button below.\n\u001b[0;31m---------------------------------------------------------------------------\u001b[0m\n"
          ],
          "errorDetails": {
            "actions": [
              {
                "action": "open_url",
                "actionText": "Open Examples",
                "url": "/notebooks/snippets/importing_libraries.ipynb"
              }
            ]
          }
        }
      ]
    },
    {
      "cell_type": "code",
      "source": [
        "from sklearn.metrics import mean_squared_error\n",
        "\n",
        "mean_squared_error(y_true, y_pred)"
      ],
      "metadata": {
        "colab": {
          "base_uri": "https://localhost:8080/"
        },
        "id": "oXIMMoXZCp4O",
        "outputId": "04a26b80-75a5-476f-9ba2-cd7c1c462524"
      },
      "execution_count": 13,
      "outputs": [
        {
          "output_type": "execute_result",
          "data": {
            "text/plain": [
              "103.25127454859495"
            ]
          },
          "metadata": {},
          "execution_count": 13
        }
      ]
    },
    {
      "cell_type": "markdown",
      "source": [
        "### <a name='a5'></a> 2.4 Root Mean Squared Error\n",
        "### $$RMSE = \\sqrt{MSE}$$"
      ],
      "metadata": {
        "id": "15AWR5yaC82w"
      }
    },
    {
      "cell_type": "code",
      "source": [
        "def root_mean_squared_error(y_true, y_pred):\n",
        "    return np.sqrt(((y_true - y_pred) ** 2).sum() / len(y_true))\n",
        "\n",
        "root_mean_squared_error(y_true, y_pred)"
      ],
      "metadata": {
        "colab": {
          "base_uri": "https://localhost:8080/"
        },
        "id": "vPrCefedC_NP",
        "outputId": "8080c666-d771-48a6-c77f-9f350b9ddafe"
      },
      "execution_count": 15,
      "outputs": [
        {
          "output_type": "execute_result",
          "data": {
            "text/plain": [
              "10.161263432693541"
            ]
          },
          "metadata": {},
          "execution_count": 15
        }
      ]
    },
    {
      "cell_type": "code",
      "source": [
        "np.sqrt(mean_squared_error(y_true, y_pred))"
      ],
      "metadata": {
        "colab": {
          "base_uri": "https://localhost:8080/"
        },
        "id": "nHpgac03DCon",
        "outputId": "079fcb65-c61f-4467-f591-85a2fcb662e1"
      },
      "execution_count": 16,
      "outputs": [
        {
          "output_type": "execute_result",
          "data": {
            "text/plain": [
              "10.161263432693541"
            ]
          },
          "metadata": {},
          "execution_count": 16
        }
      ]
    },
    {
      "cell_type": "markdown",
      "source": [
        "### <a name='a6'></a> 2.5 Max Error"
      ],
      "metadata": {
        "id": "fnMdlRHcDFPh"
      }
    },
    {
      "cell_type": "code",
      "source": [
        "def max_error(y_true, y_pred):\n",
        "    return abs(y_true - y_pred).max()"
      ],
      "metadata": {
        "id": "POef4Cg5DHQs"
      },
      "execution_count": 17,
      "outputs": []
    },
    {
      "cell_type": "code",
      "source": [
        "max_error(y_true, y_pred)"
      ],
      "metadata": {
        "colab": {
          "base_uri": "https://localhost:8080/"
        },
        "id": "hWdNn2vODJg5",
        "outputId": "e3d3867c-309e-43be-cadd-8a703de57a18"
      },
      "execution_count": 18,
      "outputs": [
        {
          "output_type": "execute_result",
          "data": {
            "text/plain": [
              "32.207859330880595"
            ]
          },
          "metadata": {},
          "execution_count": 18
        }
      ]
    },
    {
      "cell_type": "code",
      "source": [
        "from sklearn.metrics import max_error\n",
        "\n",
        "max_error(y_true, y_pred)"
      ],
      "metadata": {
        "colab": {
          "base_uri": "https://localhost:8080/"
        },
        "id": "dKznPJwHDMJ-",
        "outputId": "00edd817-b271-4d17-873a-51143bca4a80"
      },
      "execution_count": 19,
      "outputs": [
        {
          "output_type": "execute_result",
          "data": {
            "text/plain": [
              "32.207859330880595"
            ]
          },
          "metadata": {},
          "execution_count": 19
        }
      ]
    },
    {
      "cell_type": "markdown",
      "source": [
        "### <a name='a7'></a> 2.6 R2 score - współczynnik determinacji\n",
        "### $$R2\\_score = 1 - \\frac{\\sum_{i=1}^{N}(y_{true} - y_{pred})^{2}}{\\sum_{i=1}^{N}(y_{true} - \\overline{y_{true}})^{2}}$$"
      ],
      "metadata": {
        "id": "1IUfHVo7DO0Z"
      }
    },
    {
      "cell_type": "code",
      "source": [
        "from sklearn.metrics import r2_score\n",
        "\n",
        "r2_score(y_true, y_pred)"
      ],
      "metadata": {
        "colab": {
          "base_uri": "https://localhost:8080/"
        },
        "id": "Op_FEQU8DRqu",
        "outputId": "bf86eb7f-9af8-45e7-b15f-6d9b9e597f6d"
      },
      "execution_count": 20,
      "outputs": [
        {
          "output_type": "execute_result",
          "data": {
            "text/plain": [
              "0.7306689407350901"
            ]
          },
          "metadata": {},
          "execution_count": 20
        }
      ]
    },
    {
      "cell_type": "code",
      "source": [
        "def r2_score(y_true, y_pred):\n",
        "    numerator = ((y_true - y_pred) ** 2).sum()\n",
        "    denominator = ((y_true - y_true.mean()) ** 2).sum()\n",
        "    try:\n",
        "        r2 = 1 - numerator / denominator\n",
        "    except ZeroDivisionError:\n",
        "        print('Dzielenie przez zero')\n",
        "    return r2"
      ],
      "metadata": {
        "id": "AM6cG27uDTq6"
      },
      "execution_count": 21,
      "outputs": []
    },
    {
      "cell_type": "code",
      "source": [
        "r2_score(y_true, y_pred)"
      ],
      "metadata": {
        "colab": {
          "base_uri": "https://localhost:8080/"
        },
        "id": "r18BDKSYDWm_",
        "outputId": "3ac20368-f75e-41db-a818-061de6796a71"
      },
      "execution_count": 22,
      "outputs": [
        {
          "output_type": "execute_result",
          "data": {
            "text/plain": [
              "0.7306689407350901"
            ]
          },
          "metadata": {},
          "execution_count": 22
        }
      ]
    }
  ]
}