{
  "nbformat": 4,
  "nbformat_minor": 0,
  "metadata": {
    "colab": {
      "provenance": [],
      "authorship_tag": "ABX9TyO0wiwd43SasMyj3Oih6isw",
      "include_colab_link": true
    },
    "kernelspec": {
      "name": "python3",
      "display_name": "Python 3"
    },
    "language_info": {
      "name": "python"
    }
  },
  "cells": [
    {
      "cell_type": "markdown",
      "metadata": {
        "id": "view-in-github",
        "colab_type": "text"
      },
      "source": [
        "<a href=\"https://colab.research.google.com/github/MattWroclaw/neural-networks/blob/main/03_keras/01_kasyfikacja_binarna_wieloklasowa_regresja.ipynb\" target=\"_parent\"><img src=\"https://colab.research.google.com/assets/colab-badge.svg\" alt=\"Open In Colab\"/></a>"
      ]
    },
    {
      "cell_type": "markdown",
      "source": [
        "### Model sekwencjny (Sequential Model):\n",
        "1. [Wprowadzenie - pierwszy model](#a0)\n",
        "2. [Funkcje aktywacji](#a1)\n",
        "3. [Kompilacja modelu](#a2)\n",
        "4. [Trenowanie modelu](#a3)\n",
        "5. [Przykład - klasyfikacja binarna](#a4)\n",
        "6. [Przykład - klasyfikacja wieloklasowa](#a5)\n",
        "7. [Przykład - regresja](#a6)\n",
        "\n",
        "\n",
        "\n",
        "Konfiguracja środowiska\n"
      ],
      "metadata": {
        "id": "fEuebZXSfYs7"
      }
    },
    {
      "cell_type": "code",
      "execution_count": null,
      "metadata": {
        "id": "cEnH9sCnewsu"
      },
      "outputs": [],
      "source": [
        "# Przygotowanie środowiska do pracy z Tensorflow 2.0.\n",
        "# Jeśli otrzymasz błąd podczas instalacji Tensorflow uruchom tę komórkę raz jeszcze.\n",
        "\n",
        "!pip uninstall -y tensorflow\n",
        "!pip install -q tensorflow==2.0.0"
      ]
    },
    {
      "cell_type": "code",
      "source": [
        "import tensorflow as tf\n",
        "import numpy as np\n",
        "import pandas as pd\n",
        "import plotly.express as px\n",
        "tf.__version__"
      ],
      "metadata": {
        "colab": {
          "base_uri": "https://localhost:8080/",
          "height": 36
        },
        "id": "63iBZw1qfgba",
        "outputId": "24fd04c8-1303-415e-fc15-5dcc2a00faaf"
      },
      "execution_count": 1,
      "outputs": [
        {
          "output_type": "execute_result",
          "data": {
            "text/plain": [
              "'2.17.0'"
            ],
            "application/vnd.google.colaboratory.intrinsic+json": {
              "type": "string"
            }
          },
          "metadata": {},
          "execution_count": 1
        }
      ]
    },
    {
      "cell_type": "markdown",
      "source": [],
      "metadata": {
        "id": "e3OVu_exfgN-"
      }
    },
    {
      "cell_type": "markdown",
      "source": [
        "### <a name='a0'></a>Wprowadzenie - pierwszy model\n",
        "Model sekwencyjny to nic innego jak liniowy stos warstw."
      ],
      "metadata": {
        "id": "WprB2RNsfnN6"
      }
    },
    {
      "cell_type": "code",
      "source": [
        "# utworzenie instancji klasy Sequential\n",
        "from tensorflow.keras.models import Sequential\n",
        "\n",
        "model = Sequential()\n",
        "print(model)"
      ],
      "metadata": {
        "colab": {
          "base_uri": "https://localhost:8080/"
        },
        "id": "wuur1ZtHfrSp",
        "outputId": "386a27fb-e9c7-4fe2-b718-de014ad5db6f"
      },
      "execution_count": 2,
      "outputs": [
        {
          "output_type": "stream",
          "name": "stdout",
          "text": [
            "<Sequential name=sequential, built=False>\n"
          ]
        }
      ]
    },
    {
      "cell_type": "markdown",
      "source": [
        "Podstawowym elementem składowym modelu są warstwy. Aby dodać najbardziej standardową warstwę - warstwę gęsto połączoną należy użyć warstwy **Dense**. Aby dodać warstwę do modelu należy użyć metody *.add()*\n"
      ],
      "metadata": {
        "id": "FtQgTW9-fxcG"
      }
    },
    {
      "cell_type": "code",
      "source": [
        "from tensorflow.keras.layers import Dense\n",
        "\n",
        "model.add(Dense(units=4, input_shape=(10,)))"
      ],
      "metadata": {
        "colab": {
          "base_uri": "https://localhost:8080/"
        },
        "id": "8TSHff__fsLn",
        "outputId": "e81e5b60-4550-47d2-910c-d3d4f1d691eb"
      },
      "execution_count": 3,
      "outputs": [
        {
          "output_type": "stream",
          "name": "stderr",
          "text": [
            "/usr/local/lib/python3.10/dist-packages/keras/src/layers/core/dense.py:87: UserWarning: Do not pass an `input_shape`/`input_dim` argument to a layer. When using Sequential models, prefer using an `Input(shape)` object as the first layer in the model instead.\n",
            "  super().__init__(activity_regularizer=activity_regularizer, **kwargs)\n"
          ]
        }
      ]
    },
    {
      "cell_type": "markdown",
      "source": [
        "Wyświetlenie podsumowania modelu: metoda *.summary()*"
      ],
      "metadata": {
        "id": "Y3qWKKBmgJHt"
      }
    },
    {
      "cell_type": "code",
      "source": [
        "model.summary()"
      ],
      "metadata": {
        "colab": {
          "base_uri": "https://localhost:8080/",
          "height": 178
        },
        "id": "V5hHZTsqgLsM",
        "outputId": "0c932a03-6a90-4aab-acbe-ee94db7d3754"
      },
      "execution_count": 4,
      "outputs": [
        {
          "output_type": "display_data",
          "data": {
            "text/plain": [
              "\u001b[1mModel: \"sequential\"\u001b[0m\n"
            ],
            "text/html": [
              "<pre style=\"white-space:pre;overflow-x:auto;line-height:normal;font-family:Menlo,'DejaVu Sans Mono',consolas,'Courier New',monospace\"><span style=\"font-weight: bold\">Model: \"sequential\"</span>\n",
              "</pre>\n"
            ]
          },
          "metadata": {}
        },
        {
          "output_type": "display_data",
          "data": {
            "text/plain": [
              "┏━━━━━━━━━━━━━━━━━━━━━━━━━━━━━━━━━━━━━━┳━━━━━━━━━━━━━━━━━━━━━━━━━━━━━┳━━━━━━━━━━━━━━━━━┓\n",
              "┃\u001b[1m \u001b[0m\u001b[1mLayer (type)                        \u001b[0m\u001b[1m \u001b[0m┃\u001b[1m \u001b[0m\u001b[1mOutput Shape               \u001b[0m\u001b[1m \u001b[0m┃\u001b[1m \u001b[0m\u001b[1m        Param #\u001b[0m\u001b[1m \u001b[0m┃\n",
              "┡━━━━━━━━━━━━━━━━━━━━━━━━━━━━━━━━━━━━━━╇━━━━━━━━━━━━━━━━━━━━━━━━━━━━━╇━━━━━━━━━━━━━━━━━┩\n",
              "│ dense (\u001b[38;5;33mDense\u001b[0m)                        │ (\u001b[38;5;45mNone\u001b[0m, \u001b[38;5;34m4\u001b[0m)                   │              \u001b[38;5;34m44\u001b[0m │\n",
              "└──────────────────────────────────────┴─────────────────────────────┴─────────────────┘\n"
            ],
            "text/html": [
              "<pre style=\"white-space:pre;overflow-x:auto;line-height:normal;font-family:Menlo,'DejaVu Sans Mono',consolas,'Courier New',monospace\">┏━━━━━━━━━━━━━━━━━━━━━━━━━━━━━━━━━━━━━━┳━━━━━━━━━━━━━━━━━━━━━━━━━━━━━┳━━━━━━━━━━━━━━━━━┓\n",
              "┃<span style=\"font-weight: bold\"> Layer (type)                         </span>┃<span style=\"font-weight: bold\"> Output Shape                </span>┃<span style=\"font-weight: bold\">         Param # </span>┃\n",
              "┡━━━━━━━━━━━━━━━━━━━━━━━━━━━━━━━━━━━━━━╇━━━━━━━━━━━━━━━━━━━━━━━━━━━━━╇━━━━━━━━━━━━━━━━━┩\n",
              "│ dense (<span style=\"color: #0087ff; text-decoration-color: #0087ff\">Dense</span>)                        │ (<span style=\"color: #00d7ff; text-decoration-color: #00d7ff\">None</span>, <span style=\"color: #00af00; text-decoration-color: #00af00\">4</span>)                   │              <span style=\"color: #00af00; text-decoration-color: #00af00\">44</span> │\n",
              "└──────────────────────────────────────┴─────────────────────────────┴─────────────────┘\n",
              "</pre>\n"
            ]
          },
          "metadata": {}
        },
        {
          "output_type": "display_data",
          "data": {
            "text/plain": [
              "\u001b[1m Total params: \u001b[0m\u001b[38;5;34m44\u001b[0m (176.00 B)\n"
            ],
            "text/html": [
              "<pre style=\"white-space:pre;overflow-x:auto;line-height:normal;font-family:Menlo,'DejaVu Sans Mono',consolas,'Courier New',monospace\"><span style=\"font-weight: bold\"> Total params: </span><span style=\"color: #00af00; text-decoration-color: #00af00\">44</span> (176.00 B)\n",
              "</pre>\n"
            ]
          },
          "metadata": {}
        },
        {
          "output_type": "display_data",
          "data": {
            "text/plain": [
              "\u001b[1m Trainable params: \u001b[0m\u001b[38;5;34m44\u001b[0m (176.00 B)\n"
            ],
            "text/html": [
              "<pre style=\"white-space:pre;overflow-x:auto;line-height:normal;font-family:Menlo,'DejaVu Sans Mono',consolas,'Courier New',monospace\"><span style=\"font-weight: bold\"> Trainable params: </span><span style=\"color: #00af00; text-decoration-color: #00af00\">44</span> (176.00 B)\n",
              "</pre>\n"
            ]
          },
          "metadata": {}
        },
        {
          "output_type": "display_data",
          "data": {
            "text/plain": [
              "\u001b[1m Non-trainable params: \u001b[0m\u001b[38;5;34m0\u001b[0m (0.00 B)\n"
            ],
            "text/html": [
              "<pre style=\"white-space:pre;overflow-x:auto;line-height:normal;font-family:Menlo,'DejaVu Sans Mono',consolas,'Courier New',monospace\"><span style=\"font-weight: bold\"> Non-trainable params: </span><span style=\"color: #00af00; text-decoration-color: #00af00\">0</span> (0.00 B)\n",
              "</pre>\n"
            ]
          },
          "metadata": {}
        }
      ]
    },
    {
      "cell_type": "markdown",
      "source": [
        "Dodanie kolejnej warstwy"
      ],
      "metadata": {
        "id": "j_DNbwTugO95"
      }
    },
    {
      "cell_type": "code",
      "source": [
        "model.add(Dense(units=2))\n",
        "\n",
        "model.summary()"
      ],
      "metadata": {
        "colab": {
          "base_uri": "https://localhost:8080/",
          "height": 210
        },
        "id": "HwU3WVfNgRAl",
        "outputId": "3406e253-2316-4d03-d818-b033e53bd440"
      },
      "execution_count": 5,
      "outputs": [
        {
          "output_type": "display_data",
          "data": {
            "text/plain": [
              "\u001b[1mModel: \"sequential\"\u001b[0m\n"
            ],
            "text/html": [
              "<pre style=\"white-space:pre;overflow-x:auto;line-height:normal;font-family:Menlo,'DejaVu Sans Mono',consolas,'Courier New',monospace\"><span style=\"font-weight: bold\">Model: \"sequential\"</span>\n",
              "</pre>\n"
            ]
          },
          "metadata": {}
        },
        {
          "output_type": "display_data",
          "data": {
            "text/plain": [
              "┏━━━━━━━━━━━━━━━━━━━━━━━━━━━━━━━━━━━━━━┳━━━━━━━━━━━━━━━━━━━━━━━━━━━━━┳━━━━━━━━━━━━━━━━━┓\n",
              "┃\u001b[1m \u001b[0m\u001b[1mLayer (type)                        \u001b[0m\u001b[1m \u001b[0m┃\u001b[1m \u001b[0m\u001b[1mOutput Shape               \u001b[0m\u001b[1m \u001b[0m┃\u001b[1m \u001b[0m\u001b[1m        Param #\u001b[0m\u001b[1m \u001b[0m┃\n",
              "┡━━━━━━━━━━━━━━━━━━━━━━━━━━━━━━━━━━━━━━╇━━━━━━━━━━━━━━━━━━━━━━━━━━━━━╇━━━━━━━━━━━━━━━━━┩\n",
              "│ dense (\u001b[38;5;33mDense\u001b[0m)                        │ (\u001b[38;5;45mNone\u001b[0m, \u001b[38;5;34m4\u001b[0m)                   │              \u001b[38;5;34m44\u001b[0m │\n",
              "├──────────────────────────────────────┼─────────────────────────────┼─────────────────┤\n",
              "│ dense_1 (\u001b[38;5;33mDense\u001b[0m)                      │ (\u001b[38;5;45mNone\u001b[0m, \u001b[38;5;34m2\u001b[0m)                   │              \u001b[38;5;34m10\u001b[0m │\n",
              "└──────────────────────────────────────┴─────────────────────────────┴─────────────────┘\n"
            ],
            "text/html": [
              "<pre style=\"white-space:pre;overflow-x:auto;line-height:normal;font-family:Menlo,'DejaVu Sans Mono',consolas,'Courier New',monospace\">┏━━━━━━━━━━━━━━━━━━━━━━━━━━━━━━━━━━━━━━┳━━━━━━━━━━━━━━━━━━━━━━━━━━━━━┳━━━━━━━━━━━━━━━━━┓\n",
              "┃<span style=\"font-weight: bold\"> Layer (type)                         </span>┃<span style=\"font-weight: bold\"> Output Shape                </span>┃<span style=\"font-weight: bold\">         Param # </span>┃\n",
              "┡━━━━━━━━━━━━━━━━━━━━━━━━━━━━━━━━━━━━━━╇━━━━━━━━━━━━━━━━━━━━━━━━━━━━━╇━━━━━━━━━━━━━━━━━┩\n",
              "│ dense (<span style=\"color: #0087ff; text-decoration-color: #0087ff\">Dense</span>)                        │ (<span style=\"color: #00d7ff; text-decoration-color: #00d7ff\">None</span>, <span style=\"color: #00af00; text-decoration-color: #00af00\">4</span>)                   │              <span style=\"color: #00af00; text-decoration-color: #00af00\">44</span> │\n",
              "├──────────────────────────────────────┼─────────────────────────────┼─────────────────┤\n",
              "│ dense_1 (<span style=\"color: #0087ff; text-decoration-color: #0087ff\">Dense</span>)                      │ (<span style=\"color: #00d7ff; text-decoration-color: #00d7ff\">None</span>, <span style=\"color: #00af00; text-decoration-color: #00af00\">2</span>)                   │              <span style=\"color: #00af00; text-decoration-color: #00af00\">10</span> │\n",
              "└──────────────────────────────────────┴─────────────────────────────┴─────────────────┘\n",
              "</pre>\n"
            ]
          },
          "metadata": {}
        },
        {
          "output_type": "display_data",
          "data": {
            "text/plain": [
              "\u001b[1m Total params: \u001b[0m\u001b[38;5;34m54\u001b[0m (216.00 B)\n"
            ],
            "text/html": [
              "<pre style=\"white-space:pre;overflow-x:auto;line-height:normal;font-family:Menlo,'DejaVu Sans Mono',consolas,'Courier New',monospace\"><span style=\"font-weight: bold\"> Total params: </span><span style=\"color: #00af00; text-decoration-color: #00af00\">54</span> (216.00 B)\n",
              "</pre>\n"
            ]
          },
          "metadata": {}
        },
        {
          "output_type": "display_data",
          "data": {
            "text/plain": [
              "\u001b[1m Trainable params: \u001b[0m\u001b[38;5;34m54\u001b[0m (216.00 B)\n"
            ],
            "text/html": [
              "<pre style=\"white-space:pre;overflow-x:auto;line-height:normal;font-family:Menlo,'DejaVu Sans Mono',consolas,'Courier New',monospace\"><span style=\"font-weight: bold\"> Trainable params: </span><span style=\"color: #00af00; text-decoration-color: #00af00\">54</span> (216.00 B)\n",
              "</pre>\n"
            ]
          },
          "metadata": {}
        },
        {
          "output_type": "display_data",
          "data": {
            "text/plain": [
              "\u001b[1m Non-trainable params: \u001b[0m\u001b[38;5;34m0\u001b[0m (0.00 B)\n"
            ],
            "text/html": [
              "<pre style=\"white-space:pre;overflow-x:auto;line-height:normal;font-family:Menlo,'DejaVu Sans Mono',consolas,'Courier New',monospace\"><span style=\"font-weight: bold\"> Non-trainable params: </span><span style=\"color: #00af00; text-decoration-color: #00af00\">0</span> (0.00 B)\n",
              "</pre>\n"
            ]
          },
          "metadata": {}
        }
      ]
    },
    {
      "cell_type": "markdown",
      "source": [
        "### <a name='a1'></a>Funkcje aktywacji\n",
        "Istotnym elemenem sieci neuronowych jest dobór odpowiednich funkcji aktywacji. Funkcje aktywacji jak sama nazwa wskazuje są odpowiedzialne za aktywowanie odpowiednich neuronów podczas procesu uczenia.\n",
        "\n",
        "Jeżeli nie określimy podczas dodawania warstwy funkcji aktywacji, domyślnie stosowana jest liniowa funkcja aktywacji, tzn. $a(x)=x$\n",
        "\n",
        "Warstwa z liniową funkcją aktywacji może uczyć się tylko liniowych przekształceń danych wejściowych. Dlatego stosuje się różne funkcje aktywacji aby rozwiazywać problemy nieliniowe.\n",
        "\n",
        "[Keras: Funkcje aktywacji](https://keras.io/activations/)"
      ],
      "metadata": {
        "id": "f0Zz5-uFgUOl"
      }
    },
    {
      "cell_type": "code",
      "source": [
        "from tensorflow.keras.activations import linear\n",
        "\n",
        "random_data = sorted(np.random.randn(200))\n",
        "data = pd.DataFrame({'data': random_data, 'linear': linear(random_data)})\n",
        "data.head()"
      ],
      "metadata": {
        "colab": {
          "base_uri": "https://localhost:8080/",
          "height": 206
        },
        "id": "oXohI88lgW_a",
        "outputId": "b60af747-4d8b-4487-f64a-c84fb4e3979d"
      },
      "execution_count": 6,
      "outputs": [
        {
          "output_type": "execute_result",
          "data": {
            "text/plain": [
              "       data    linear\n",
              "0 -2.639736 -2.639736\n",
              "1 -2.358621 -2.358621\n",
              "2 -2.131749 -2.131749\n",
              "3 -2.105261 -2.105261\n",
              "4 -2.064501 -2.064501"
            ],
            "text/html": [
              "\n",
              "  <div id=\"df-9606b14c-1c83-45b6-a43b-1ec0344b2611\" class=\"colab-df-container\">\n",
              "    <div>\n",
              "<style scoped>\n",
              "    .dataframe tbody tr th:only-of-type {\n",
              "        vertical-align: middle;\n",
              "    }\n",
              "\n",
              "    .dataframe tbody tr th {\n",
              "        vertical-align: top;\n",
              "    }\n",
              "\n",
              "    .dataframe thead th {\n",
              "        text-align: right;\n",
              "    }\n",
              "</style>\n",
              "<table border=\"1\" class=\"dataframe\">\n",
              "  <thead>\n",
              "    <tr style=\"text-align: right;\">\n",
              "      <th></th>\n",
              "      <th>data</th>\n",
              "      <th>linear</th>\n",
              "    </tr>\n",
              "  </thead>\n",
              "  <tbody>\n",
              "    <tr>\n",
              "      <th>0</th>\n",
              "      <td>-2.639736</td>\n",
              "      <td>-2.639736</td>\n",
              "    </tr>\n",
              "    <tr>\n",
              "      <th>1</th>\n",
              "      <td>-2.358621</td>\n",
              "      <td>-2.358621</td>\n",
              "    </tr>\n",
              "    <tr>\n",
              "      <th>2</th>\n",
              "      <td>-2.131749</td>\n",
              "      <td>-2.131749</td>\n",
              "    </tr>\n",
              "    <tr>\n",
              "      <th>3</th>\n",
              "      <td>-2.105261</td>\n",
              "      <td>-2.105261</td>\n",
              "    </tr>\n",
              "    <tr>\n",
              "      <th>4</th>\n",
              "      <td>-2.064501</td>\n",
              "      <td>-2.064501</td>\n",
              "    </tr>\n",
              "  </tbody>\n",
              "</table>\n",
              "</div>\n",
              "    <div class=\"colab-df-buttons\">\n",
              "\n",
              "  <div class=\"colab-df-container\">\n",
              "    <button class=\"colab-df-convert\" onclick=\"convertToInteractive('df-9606b14c-1c83-45b6-a43b-1ec0344b2611')\"\n",
              "            title=\"Convert this dataframe to an interactive table.\"\n",
              "            style=\"display:none;\">\n",
              "\n",
              "  <svg xmlns=\"http://www.w3.org/2000/svg\" height=\"24px\" viewBox=\"0 -960 960 960\">\n",
              "    <path d=\"M120-120v-720h720v720H120Zm60-500h600v-160H180v160Zm220 220h160v-160H400v160Zm0 220h160v-160H400v160ZM180-400h160v-160H180v160Zm440 0h160v-160H620v160ZM180-180h160v-160H180v160Zm440 0h160v-160H620v160Z\"/>\n",
              "  </svg>\n",
              "    </button>\n",
              "\n",
              "  <style>\n",
              "    .colab-df-container {\n",
              "      display:flex;\n",
              "      gap: 12px;\n",
              "    }\n",
              "\n",
              "    .colab-df-convert {\n",
              "      background-color: #E8F0FE;\n",
              "      border: none;\n",
              "      border-radius: 50%;\n",
              "      cursor: pointer;\n",
              "      display: none;\n",
              "      fill: #1967D2;\n",
              "      height: 32px;\n",
              "      padding: 0 0 0 0;\n",
              "      width: 32px;\n",
              "    }\n",
              "\n",
              "    .colab-df-convert:hover {\n",
              "      background-color: #E2EBFA;\n",
              "      box-shadow: 0px 1px 2px rgba(60, 64, 67, 0.3), 0px 1px 3px 1px rgba(60, 64, 67, 0.15);\n",
              "      fill: #174EA6;\n",
              "    }\n",
              "\n",
              "    .colab-df-buttons div {\n",
              "      margin-bottom: 4px;\n",
              "    }\n",
              "\n",
              "    [theme=dark] .colab-df-convert {\n",
              "      background-color: #3B4455;\n",
              "      fill: #D2E3FC;\n",
              "    }\n",
              "\n",
              "    [theme=dark] .colab-df-convert:hover {\n",
              "      background-color: #434B5C;\n",
              "      box-shadow: 0px 1px 3px 1px rgba(0, 0, 0, 0.15);\n",
              "      filter: drop-shadow(0px 1px 2px rgba(0, 0, 0, 0.3));\n",
              "      fill: #FFFFFF;\n",
              "    }\n",
              "  </style>\n",
              "\n",
              "    <script>\n",
              "      const buttonEl =\n",
              "        document.querySelector('#df-9606b14c-1c83-45b6-a43b-1ec0344b2611 button.colab-df-convert');\n",
              "      buttonEl.style.display =\n",
              "        google.colab.kernel.accessAllowed ? 'block' : 'none';\n",
              "\n",
              "      async function convertToInteractive(key) {\n",
              "        const element = document.querySelector('#df-9606b14c-1c83-45b6-a43b-1ec0344b2611');\n",
              "        const dataTable =\n",
              "          await google.colab.kernel.invokeFunction('convertToInteractive',\n",
              "                                                    [key], {});\n",
              "        if (!dataTable) return;\n",
              "\n",
              "        const docLinkHtml = 'Like what you see? Visit the ' +\n",
              "          '<a target=\"_blank\" href=https://colab.research.google.com/notebooks/data_table.ipynb>data table notebook</a>'\n",
              "          + ' to learn more about interactive tables.';\n",
              "        element.innerHTML = '';\n",
              "        dataTable['output_type'] = 'display_data';\n",
              "        await google.colab.output.renderOutput(dataTable, element);\n",
              "        const docLink = document.createElement('div');\n",
              "        docLink.innerHTML = docLinkHtml;\n",
              "        element.appendChild(docLink);\n",
              "      }\n",
              "    </script>\n",
              "  </div>\n",
              "\n",
              "\n",
              "<div id=\"df-a94eddf7-62a8-4a5a-a6e2-bdd1b446082e\">\n",
              "  <button class=\"colab-df-quickchart\" onclick=\"quickchart('df-a94eddf7-62a8-4a5a-a6e2-bdd1b446082e')\"\n",
              "            title=\"Suggest charts\"\n",
              "            style=\"display:none;\">\n",
              "\n",
              "<svg xmlns=\"http://www.w3.org/2000/svg\" height=\"24px\"viewBox=\"0 0 24 24\"\n",
              "     width=\"24px\">\n",
              "    <g>\n",
              "        <path d=\"M19 3H5c-1.1 0-2 .9-2 2v14c0 1.1.9 2 2 2h14c1.1 0 2-.9 2-2V5c0-1.1-.9-2-2-2zM9 17H7v-7h2v7zm4 0h-2V7h2v10zm4 0h-2v-4h2v4z\"/>\n",
              "    </g>\n",
              "</svg>\n",
              "  </button>\n",
              "\n",
              "<style>\n",
              "  .colab-df-quickchart {\n",
              "      --bg-color: #E8F0FE;\n",
              "      --fill-color: #1967D2;\n",
              "      --hover-bg-color: #E2EBFA;\n",
              "      --hover-fill-color: #174EA6;\n",
              "      --disabled-fill-color: #AAA;\n",
              "      --disabled-bg-color: #DDD;\n",
              "  }\n",
              "\n",
              "  [theme=dark] .colab-df-quickchart {\n",
              "      --bg-color: #3B4455;\n",
              "      --fill-color: #D2E3FC;\n",
              "      --hover-bg-color: #434B5C;\n",
              "      --hover-fill-color: #FFFFFF;\n",
              "      --disabled-bg-color: #3B4455;\n",
              "      --disabled-fill-color: #666;\n",
              "  }\n",
              "\n",
              "  .colab-df-quickchart {\n",
              "    background-color: var(--bg-color);\n",
              "    border: none;\n",
              "    border-radius: 50%;\n",
              "    cursor: pointer;\n",
              "    display: none;\n",
              "    fill: var(--fill-color);\n",
              "    height: 32px;\n",
              "    padding: 0;\n",
              "    width: 32px;\n",
              "  }\n",
              "\n",
              "  .colab-df-quickchart:hover {\n",
              "    background-color: var(--hover-bg-color);\n",
              "    box-shadow: 0 1px 2px rgba(60, 64, 67, 0.3), 0 1px 3px 1px rgba(60, 64, 67, 0.15);\n",
              "    fill: var(--button-hover-fill-color);\n",
              "  }\n",
              "\n",
              "  .colab-df-quickchart-complete:disabled,\n",
              "  .colab-df-quickchart-complete:disabled:hover {\n",
              "    background-color: var(--disabled-bg-color);\n",
              "    fill: var(--disabled-fill-color);\n",
              "    box-shadow: none;\n",
              "  }\n",
              "\n",
              "  .colab-df-spinner {\n",
              "    border: 2px solid var(--fill-color);\n",
              "    border-color: transparent;\n",
              "    border-bottom-color: var(--fill-color);\n",
              "    animation:\n",
              "      spin 1s steps(1) infinite;\n",
              "  }\n",
              "\n",
              "  @keyframes spin {\n",
              "    0% {\n",
              "      border-color: transparent;\n",
              "      border-bottom-color: var(--fill-color);\n",
              "      border-left-color: var(--fill-color);\n",
              "    }\n",
              "    20% {\n",
              "      border-color: transparent;\n",
              "      border-left-color: var(--fill-color);\n",
              "      border-top-color: var(--fill-color);\n",
              "    }\n",
              "    30% {\n",
              "      border-color: transparent;\n",
              "      border-left-color: var(--fill-color);\n",
              "      border-top-color: var(--fill-color);\n",
              "      border-right-color: var(--fill-color);\n",
              "    }\n",
              "    40% {\n",
              "      border-color: transparent;\n",
              "      border-right-color: var(--fill-color);\n",
              "      border-top-color: var(--fill-color);\n",
              "    }\n",
              "    60% {\n",
              "      border-color: transparent;\n",
              "      border-right-color: var(--fill-color);\n",
              "    }\n",
              "    80% {\n",
              "      border-color: transparent;\n",
              "      border-right-color: var(--fill-color);\n",
              "      border-bottom-color: var(--fill-color);\n",
              "    }\n",
              "    90% {\n",
              "      border-color: transparent;\n",
              "      border-bottom-color: var(--fill-color);\n",
              "    }\n",
              "  }\n",
              "</style>\n",
              "\n",
              "  <script>\n",
              "    async function quickchart(key) {\n",
              "      const quickchartButtonEl =\n",
              "        document.querySelector('#' + key + ' button');\n",
              "      quickchartButtonEl.disabled = true;  // To prevent multiple clicks.\n",
              "      quickchartButtonEl.classList.add('colab-df-spinner');\n",
              "      try {\n",
              "        const charts = await google.colab.kernel.invokeFunction(\n",
              "            'suggestCharts', [key], {});\n",
              "      } catch (error) {\n",
              "        console.error('Error during call to suggestCharts:', error);\n",
              "      }\n",
              "      quickchartButtonEl.classList.remove('colab-df-spinner');\n",
              "      quickchartButtonEl.classList.add('colab-df-quickchart-complete');\n",
              "    }\n",
              "    (() => {\n",
              "      let quickchartButtonEl =\n",
              "        document.querySelector('#df-a94eddf7-62a8-4a5a-a6e2-bdd1b446082e button');\n",
              "      quickchartButtonEl.style.display =\n",
              "        google.colab.kernel.accessAllowed ? 'block' : 'none';\n",
              "    })();\n",
              "  </script>\n",
              "</div>\n",
              "\n",
              "    </div>\n",
              "  </div>\n"
            ],
            "application/vnd.google.colaboratory.intrinsic+json": {
              "type": "dataframe",
              "variable_name": "data",
              "summary": "{\n  \"name\": \"data\",\n  \"rows\": 200,\n  \"fields\": [\n    {\n      \"column\": \"data\",\n      \"properties\": {\n        \"dtype\": \"number\",\n        \"std\": 1.038125082460923,\n        \"min\": -2.639736401117053,\n        \"max\": 2.275065669207093,\n        \"num_unique_values\": 200,\n        \"samples\": [\n          -0.06308917878261863,\n          -1.4338048733042859,\n          -1.0868313553673714\n        ],\n        \"semantic_type\": \"\",\n        \"description\": \"\"\n      }\n    },\n    {\n      \"column\": \"linear\",\n      \"properties\": {\n        \"dtype\": \"number\",\n        \"std\": 1.038125082460923,\n        \"min\": -2.639736401117053,\n        \"max\": 2.275065669207093,\n        \"num_unique_values\": 200,\n        \"samples\": [\n          -0.06308917878261863,\n          -1.4338048733042859,\n          -1.0868313553673714\n        ],\n        \"semantic_type\": \"\",\n        \"description\": \"\"\n      }\n    }\n  ]\n}"
            }
          },
          "metadata": {},
          "execution_count": 6
        }
      ]
    },
    {
      "cell_type": "code",
      "source": [
        "px.line(data, x='data', y='linear', width=800, range_y=[-2, 2])"
      ],
      "metadata": {
        "colab": {
          "base_uri": "https://localhost:8080/",
          "height": 562
        },
        "id": "XOUjDYu7gioV",
        "outputId": "0299906f-e5d1-4fe4-a921-bfd4599f1dc2"
      },
      "execution_count": 7,
      "outputs": [
        {
          "output_type": "display_data",
          "data": {
            "text/html": [
              "<html>\n",
              "<head><meta charset=\"utf-8\" /></head>\n",
              "<body>\n",
              "    <div>            <script src=\"https://cdnjs.cloudflare.com/ajax/libs/mathjax/2.7.5/MathJax.js?config=TeX-AMS-MML_SVG\"></script><script type=\"text/javascript\">if (window.MathJax && window.MathJax.Hub && window.MathJax.Hub.Config) {window.MathJax.Hub.Config({SVG: {font: \"STIX-Web\"}});}</script>                <script type=\"text/javascript\">window.PlotlyConfig = {MathJaxConfig: 'local'};</script>\n",
              "        <script charset=\"utf-8\" src=\"https://cdn.plot.ly/plotly-2.35.2.min.js\"></script>                <div id=\"9ee5454d-f50f-43d4-b9aa-3a00ffda6c0d\" class=\"plotly-graph-div\" style=\"height:525px; width:800px;\"></div>            <script type=\"text/javascript\">                                    window.PLOTLYENV=window.PLOTLYENV || {};                                    if (document.getElementById(\"9ee5454d-f50f-43d4-b9aa-3a00ffda6c0d\")) {                    Plotly.newPlot(                        \"9ee5454d-f50f-43d4-b9aa-3a00ffda6c0d\",                        [{\"hovertemplate\":\"data=%{x}\\u003cbr\\u003elinear=%{y}\\u003cextra\\u003e\\u003c\\u002fextra\\u003e\",\"legendgroup\":\"\",\"line\":{\"color\":\"#636efa\",\"dash\":\"solid\"},\"marker\":{\"symbol\":\"circle\"},\"mode\":\"lines\",\"name\":\"\",\"orientation\":\"v\",\"showlegend\":false,\"x\":[-2.639736401117053,-2.3586208017747428,-2.131748632418117,-2.105261410337652,-2.0645009628660715,-1.9449958961194642,-1.782298925871898,-1.709531514729966,-1.6998333818643514,-1.655127872192692,-1.6246925674019976,-1.6097395311203186,-1.5887726869511813,-1.477296245726506,-1.4726138048339854,-1.4338048733042859,-1.398960386696066,-1.386779467343545,-1.355418556037235,-1.347497267394349,-1.3277377599469589,-1.294086123508468,-1.2923518278115549,-1.2469645767374944,-1.207293236071429,-1.1984088381398108,-1.1981712254333259,-1.1907506393676264,-1.1442005537641868,-1.0977103635573864,-1.0868313553673714,-1.0843507214917967,-1.0839636268388397,-1.0789746308855117,-1.061638825936435,-1.0446346182803723,-1.0257617830154655,-1.024437829960092,-1.0047944391980224,-0.9865976293179658,-0.9664408141497497,-0.939397832950864,-0.9313607460682174,-0.9247459714469685,-0.9168115051866399,-0.9150073190762983,-0.9035321973447006,-0.8933929657877703,-0.8660834626149275,-0.8478694541604245,-0.8348303371374424,-0.8346386270239105,-0.8064258710357526,-0.8050626072263465,-0.7718572078818833,-0.7523610753448187,-0.7191591532740317,-0.7167686069220017,-0.6448926482715642,-0.6448298766871229,-0.6164039099354289,-0.6152455930998363,-0.5984784686229679,-0.5946255432248674,-0.5573735030074298,-0.5539682275113,-0.5519016023624238,-0.538313692736548,-0.5131202511336368,-0.5093062501665938,-0.5068812085889406,-0.49898260040178843,-0.49496053992631445,-0.46484265916573475,-0.4504281996296423,-0.441502183552287,-0.4050664891349546,-0.391239237484383,-0.3622086681328658,-0.2729824833275559,-0.25567641676768554,-0.21913898783356636,-0.2094422117397986,-0.20784234110058147,-0.18550203297096424,-0.18123789636303192,-0.1374408747144049,-0.13620978693618194,-0.11470415767254025,-0.09810453132386211,-0.09065072630822435,-0.08329505273481914,-0.08082685342660124,-0.06998842602125506,-0.06959874185799884,-0.06308917878261863,-0.06267701438895622,-0.05936413260037142,-0.058204053984478095,-0.04747865964033319,-0.04320581587059913,-0.03998434625357198,-0.036544170163081494,-0.024490353991738788,0.03922216136975319,0.04667144856965012,0.05809515136356021,0.08886730788437253,0.08955632658740571,0.09143425554807917,0.09791956616085842,0.1085064037438999,0.11003558433867218,0.15619226006793924,0.1562585638521058,0.17169092051241844,0.17816715407405725,0.18440937708914956,0.21152637634810614,0.2239701581137451,0.23093521113215523,0.2383728687945263,0.23879499606249796,0.2396889483677492,0.2562237595581415,0.28231099917939784,0.2853987490264722,0.2897719457676889,0.2955526193457903,0.30475448941574523,0.32138051225198755,0.3445771845654313,0.41074063509183345,0.4117182493425608,0.41356553275394964,0.43661927726613264,0.44328887773787584,0.44587088277969567,0.4618095920962419,0.48137047949825634,0.5055885701174714,0.5163590482131254,0.5274124406219071,0.528366400022054,0.5446316715227258,0.5478781410603133,0.5644001819676108,0.5847094698770315,0.6094947733296706,0.6273990380722718,0.6319436405897504,0.6357338459937064,0.659483414087342,0.6651067318904942,0.6884907088018263,0.7074708453604984,0.7291530286388523,0.7689362799833476,0.7779293185224975,0.7845194101541053,0.8144040031188061,0.8458502700568429,0.8795064573098369,0.9146005813419581,0.965022072895329,0.9902063708456308,1.0000056584907493,1.1099146457166917,1.1548158603996521,1.2118049286196229,1.259766781089035,1.3027716674955065,1.3036958933467349,1.3106086199448814,1.3193781339189823,1.323951171561799,1.3622992319829426,1.3658676095318756,1.3666984126104353,1.531673002938539,1.5425637476080096,1.549348736327521,1.5637714359732173,1.6012966174773724,1.6086439989169232,1.639553965906141,1.6769090652639655,1.6820948948119359,1.7226609127215957,1.7568369473400531,1.7652725497754576,1.8110541589057791,1.8748894185843117,1.9305533772927672,2.0206149945244993,2.0572574769098178,2.068857079929221,2.1181403851368787,2.1482569921751526,2.275065669207093],\"xaxis\":\"x\",\"y\":[-2.639736401117053,-2.3586208017747428,-2.131748632418117,-2.105261410337652,-2.0645009628660715,-1.9449958961194642,-1.782298925871898,-1.709531514729966,-1.6998333818643514,-1.655127872192692,-1.6246925674019976,-1.6097395311203186,-1.5887726869511813,-1.477296245726506,-1.4726138048339854,-1.4338048733042859,-1.398960386696066,-1.386779467343545,-1.355418556037235,-1.347497267394349,-1.3277377599469589,-1.294086123508468,-1.2923518278115549,-1.2469645767374944,-1.207293236071429,-1.1984088381398108,-1.1981712254333259,-1.1907506393676264,-1.1442005537641868,-1.0977103635573864,-1.0868313553673714,-1.0843507214917967,-1.0839636268388397,-1.0789746308855117,-1.061638825936435,-1.0446346182803723,-1.0257617830154655,-1.024437829960092,-1.0047944391980224,-0.9865976293179658,-0.9664408141497497,-0.939397832950864,-0.9313607460682174,-0.9247459714469685,-0.9168115051866399,-0.9150073190762983,-0.9035321973447006,-0.8933929657877703,-0.8660834626149275,-0.8478694541604245,-0.8348303371374424,-0.8346386270239105,-0.8064258710357526,-0.8050626072263465,-0.7718572078818833,-0.7523610753448187,-0.7191591532740317,-0.7167686069220017,-0.6448926482715642,-0.6448298766871229,-0.6164039099354289,-0.6152455930998363,-0.5984784686229679,-0.5946255432248674,-0.5573735030074298,-0.5539682275113,-0.5519016023624238,-0.538313692736548,-0.5131202511336368,-0.5093062501665938,-0.5068812085889406,-0.49898260040178843,-0.49496053992631445,-0.46484265916573475,-0.4504281996296423,-0.441502183552287,-0.4050664891349546,-0.391239237484383,-0.3622086681328658,-0.2729824833275559,-0.25567641676768554,-0.21913898783356636,-0.2094422117397986,-0.20784234110058147,-0.18550203297096424,-0.18123789636303192,-0.1374408747144049,-0.13620978693618194,-0.11470415767254025,-0.09810453132386211,-0.09065072630822435,-0.08329505273481914,-0.08082685342660124,-0.06998842602125506,-0.06959874185799884,-0.06308917878261863,-0.06267701438895622,-0.05936413260037142,-0.058204053984478095,-0.04747865964033319,-0.04320581587059913,-0.03998434625357198,-0.036544170163081494,-0.024490353991738788,0.03922216136975319,0.04667144856965012,0.05809515136356021,0.08886730788437253,0.08955632658740571,0.09143425554807917,0.09791956616085842,0.1085064037438999,0.11003558433867218,0.15619226006793924,0.1562585638521058,0.17169092051241844,0.17816715407405725,0.18440937708914956,0.21152637634810614,0.2239701581137451,0.23093521113215523,0.2383728687945263,0.23879499606249796,0.2396889483677492,0.2562237595581415,0.28231099917939784,0.2853987490264722,0.2897719457676889,0.2955526193457903,0.30475448941574523,0.32138051225198755,0.3445771845654313,0.41074063509183345,0.4117182493425608,0.41356553275394964,0.43661927726613264,0.44328887773787584,0.44587088277969567,0.4618095920962419,0.48137047949825634,0.5055885701174714,0.5163590482131254,0.5274124406219071,0.528366400022054,0.5446316715227258,0.5478781410603133,0.5644001819676108,0.5847094698770315,0.6094947733296706,0.6273990380722718,0.6319436405897504,0.6357338459937064,0.659483414087342,0.6651067318904942,0.6884907088018263,0.7074708453604984,0.7291530286388523,0.7689362799833476,0.7779293185224975,0.7845194101541053,0.8144040031188061,0.8458502700568429,0.8795064573098369,0.9146005813419581,0.965022072895329,0.9902063708456308,1.0000056584907493,1.1099146457166917,1.1548158603996521,1.2118049286196229,1.259766781089035,1.3027716674955065,1.3036958933467349,1.3106086199448814,1.3193781339189823,1.323951171561799,1.3622992319829426,1.3658676095318756,1.3666984126104353,1.531673002938539,1.5425637476080096,1.549348736327521,1.5637714359732173,1.6012966174773724,1.6086439989169232,1.639553965906141,1.6769090652639655,1.6820948948119359,1.7226609127215957,1.7568369473400531,1.7652725497754576,1.8110541589057791,1.8748894185843117,1.9305533772927672,2.0206149945244993,2.0572574769098178,2.068857079929221,2.1181403851368787,2.1482569921751526,2.275065669207093],\"yaxis\":\"y\",\"type\":\"scatter\"}],                        {\"template\":{\"data\":{\"histogram2dcontour\":[{\"type\":\"histogram2dcontour\",\"colorbar\":{\"outlinewidth\":0,\"ticks\":\"\"},\"colorscale\":[[0.0,\"#0d0887\"],[0.1111111111111111,\"#46039f\"],[0.2222222222222222,\"#7201a8\"],[0.3333333333333333,\"#9c179e\"],[0.4444444444444444,\"#bd3786\"],[0.5555555555555556,\"#d8576b\"],[0.6666666666666666,\"#ed7953\"],[0.7777777777777778,\"#fb9f3a\"],[0.8888888888888888,\"#fdca26\"],[1.0,\"#f0f921\"]]}],\"choropleth\":[{\"type\":\"choropleth\",\"colorbar\":{\"outlinewidth\":0,\"ticks\":\"\"}}],\"histogram2d\":[{\"type\":\"histogram2d\",\"colorbar\":{\"outlinewidth\":0,\"ticks\":\"\"},\"colorscale\":[[0.0,\"#0d0887\"],[0.1111111111111111,\"#46039f\"],[0.2222222222222222,\"#7201a8\"],[0.3333333333333333,\"#9c179e\"],[0.4444444444444444,\"#bd3786\"],[0.5555555555555556,\"#d8576b\"],[0.6666666666666666,\"#ed7953\"],[0.7777777777777778,\"#fb9f3a\"],[0.8888888888888888,\"#fdca26\"],[1.0,\"#f0f921\"]]}],\"heatmap\":[{\"type\":\"heatmap\",\"colorbar\":{\"outlinewidth\":0,\"ticks\":\"\"},\"colorscale\":[[0.0,\"#0d0887\"],[0.1111111111111111,\"#46039f\"],[0.2222222222222222,\"#7201a8\"],[0.3333333333333333,\"#9c179e\"],[0.4444444444444444,\"#bd3786\"],[0.5555555555555556,\"#d8576b\"],[0.6666666666666666,\"#ed7953\"],[0.7777777777777778,\"#fb9f3a\"],[0.8888888888888888,\"#fdca26\"],[1.0,\"#f0f921\"]]}],\"heatmapgl\":[{\"type\":\"heatmapgl\",\"colorbar\":{\"outlinewidth\":0,\"ticks\":\"\"},\"colorscale\":[[0.0,\"#0d0887\"],[0.1111111111111111,\"#46039f\"],[0.2222222222222222,\"#7201a8\"],[0.3333333333333333,\"#9c179e\"],[0.4444444444444444,\"#bd3786\"],[0.5555555555555556,\"#d8576b\"],[0.6666666666666666,\"#ed7953\"],[0.7777777777777778,\"#fb9f3a\"],[0.8888888888888888,\"#fdca26\"],[1.0,\"#f0f921\"]]}],\"contourcarpet\":[{\"type\":\"contourcarpet\",\"colorbar\":{\"outlinewidth\":0,\"ticks\":\"\"}}],\"contour\":[{\"type\":\"contour\",\"colorbar\":{\"outlinewidth\":0,\"ticks\":\"\"},\"colorscale\":[[0.0,\"#0d0887\"],[0.1111111111111111,\"#46039f\"],[0.2222222222222222,\"#7201a8\"],[0.3333333333333333,\"#9c179e\"],[0.4444444444444444,\"#bd3786\"],[0.5555555555555556,\"#d8576b\"],[0.6666666666666666,\"#ed7953\"],[0.7777777777777778,\"#fb9f3a\"],[0.8888888888888888,\"#fdca26\"],[1.0,\"#f0f921\"]]}],\"surface\":[{\"type\":\"surface\",\"colorbar\":{\"outlinewidth\":0,\"ticks\":\"\"},\"colorscale\":[[0.0,\"#0d0887\"],[0.1111111111111111,\"#46039f\"],[0.2222222222222222,\"#7201a8\"],[0.3333333333333333,\"#9c179e\"],[0.4444444444444444,\"#bd3786\"],[0.5555555555555556,\"#d8576b\"],[0.6666666666666666,\"#ed7953\"],[0.7777777777777778,\"#fb9f3a\"],[0.8888888888888888,\"#fdca26\"],[1.0,\"#f0f921\"]]}],\"mesh3d\":[{\"type\":\"mesh3d\",\"colorbar\":{\"outlinewidth\":0,\"ticks\":\"\"}}],\"scatter\":[{\"fillpattern\":{\"fillmode\":\"overlay\",\"size\":10,\"solidity\":0.2},\"type\":\"scatter\"}],\"parcoords\":[{\"type\":\"parcoords\",\"line\":{\"colorbar\":{\"outlinewidth\":0,\"ticks\":\"\"}}}],\"scatterpolargl\":[{\"type\":\"scatterpolargl\",\"marker\":{\"colorbar\":{\"outlinewidth\":0,\"ticks\":\"\"}}}],\"bar\":[{\"error_x\":{\"color\":\"#2a3f5f\"},\"error_y\":{\"color\":\"#2a3f5f\"},\"marker\":{\"line\":{\"color\":\"#E5ECF6\",\"width\":0.5},\"pattern\":{\"fillmode\":\"overlay\",\"size\":10,\"solidity\":0.2}},\"type\":\"bar\"}],\"scattergeo\":[{\"type\":\"scattergeo\",\"marker\":{\"colorbar\":{\"outlinewidth\":0,\"ticks\":\"\"}}}],\"scatterpolar\":[{\"type\":\"scatterpolar\",\"marker\":{\"colorbar\":{\"outlinewidth\":0,\"ticks\":\"\"}}}],\"histogram\":[{\"marker\":{\"pattern\":{\"fillmode\":\"overlay\",\"size\":10,\"solidity\":0.2}},\"type\":\"histogram\"}],\"scattergl\":[{\"type\":\"scattergl\",\"marker\":{\"colorbar\":{\"outlinewidth\":0,\"ticks\":\"\"}}}],\"scatter3d\":[{\"type\":\"scatter3d\",\"line\":{\"colorbar\":{\"outlinewidth\":0,\"ticks\":\"\"}},\"marker\":{\"colorbar\":{\"outlinewidth\":0,\"ticks\":\"\"}}}],\"scattermapbox\":[{\"type\":\"scattermapbox\",\"marker\":{\"colorbar\":{\"outlinewidth\":0,\"ticks\":\"\"}}}],\"scatterternary\":[{\"type\":\"scatterternary\",\"marker\":{\"colorbar\":{\"outlinewidth\":0,\"ticks\":\"\"}}}],\"scattercarpet\":[{\"type\":\"scattercarpet\",\"marker\":{\"colorbar\":{\"outlinewidth\":0,\"ticks\":\"\"}}}],\"carpet\":[{\"aaxis\":{\"endlinecolor\":\"#2a3f5f\",\"gridcolor\":\"white\",\"linecolor\":\"white\",\"minorgridcolor\":\"white\",\"startlinecolor\":\"#2a3f5f\"},\"baxis\":{\"endlinecolor\":\"#2a3f5f\",\"gridcolor\":\"white\",\"linecolor\":\"white\",\"minorgridcolor\":\"white\",\"startlinecolor\":\"#2a3f5f\"},\"type\":\"carpet\"}],\"table\":[{\"cells\":{\"fill\":{\"color\":\"#EBF0F8\"},\"line\":{\"color\":\"white\"}},\"header\":{\"fill\":{\"color\":\"#C8D4E3\"},\"line\":{\"color\":\"white\"}},\"type\":\"table\"}],\"barpolar\":[{\"marker\":{\"line\":{\"color\":\"#E5ECF6\",\"width\":0.5},\"pattern\":{\"fillmode\":\"overlay\",\"size\":10,\"solidity\":0.2}},\"type\":\"barpolar\"}],\"pie\":[{\"automargin\":true,\"type\":\"pie\"}]},\"layout\":{\"autotypenumbers\":\"strict\",\"colorway\":[\"#636efa\",\"#EF553B\",\"#00cc96\",\"#ab63fa\",\"#FFA15A\",\"#19d3f3\",\"#FF6692\",\"#B6E880\",\"#FF97FF\",\"#FECB52\"],\"font\":{\"color\":\"#2a3f5f\"},\"hovermode\":\"closest\",\"hoverlabel\":{\"align\":\"left\"},\"paper_bgcolor\":\"white\",\"plot_bgcolor\":\"#E5ECF6\",\"polar\":{\"bgcolor\":\"#E5ECF6\",\"angularaxis\":{\"gridcolor\":\"white\",\"linecolor\":\"white\",\"ticks\":\"\"},\"radialaxis\":{\"gridcolor\":\"white\",\"linecolor\":\"white\",\"ticks\":\"\"}},\"ternary\":{\"bgcolor\":\"#E5ECF6\",\"aaxis\":{\"gridcolor\":\"white\",\"linecolor\":\"white\",\"ticks\":\"\"},\"baxis\":{\"gridcolor\":\"white\",\"linecolor\":\"white\",\"ticks\":\"\"},\"caxis\":{\"gridcolor\":\"white\",\"linecolor\":\"white\",\"ticks\":\"\"}},\"coloraxis\":{\"colorbar\":{\"outlinewidth\":0,\"ticks\":\"\"}},\"colorscale\":{\"sequential\":[[0.0,\"#0d0887\"],[0.1111111111111111,\"#46039f\"],[0.2222222222222222,\"#7201a8\"],[0.3333333333333333,\"#9c179e\"],[0.4444444444444444,\"#bd3786\"],[0.5555555555555556,\"#d8576b\"],[0.6666666666666666,\"#ed7953\"],[0.7777777777777778,\"#fb9f3a\"],[0.8888888888888888,\"#fdca26\"],[1.0,\"#f0f921\"]],\"sequentialminus\":[[0.0,\"#0d0887\"],[0.1111111111111111,\"#46039f\"],[0.2222222222222222,\"#7201a8\"],[0.3333333333333333,\"#9c179e\"],[0.4444444444444444,\"#bd3786\"],[0.5555555555555556,\"#d8576b\"],[0.6666666666666666,\"#ed7953\"],[0.7777777777777778,\"#fb9f3a\"],[0.8888888888888888,\"#fdca26\"],[1.0,\"#f0f921\"]],\"diverging\":[[0,\"#8e0152\"],[0.1,\"#c51b7d\"],[0.2,\"#de77ae\"],[0.3,\"#f1b6da\"],[0.4,\"#fde0ef\"],[0.5,\"#f7f7f7\"],[0.6,\"#e6f5d0\"],[0.7,\"#b8e186\"],[0.8,\"#7fbc41\"],[0.9,\"#4d9221\"],[1,\"#276419\"]]},\"xaxis\":{\"gridcolor\":\"white\",\"linecolor\":\"white\",\"ticks\":\"\",\"title\":{\"standoff\":15},\"zerolinecolor\":\"white\",\"automargin\":true,\"zerolinewidth\":2},\"yaxis\":{\"gridcolor\":\"white\",\"linecolor\":\"white\",\"ticks\":\"\",\"title\":{\"standoff\":15},\"zerolinecolor\":\"white\",\"automargin\":true,\"zerolinewidth\":2},\"scene\":{\"xaxis\":{\"backgroundcolor\":\"#E5ECF6\",\"gridcolor\":\"white\",\"linecolor\":\"white\",\"showbackground\":true,\"ticks\":\"\",\"zerolinecolor\":\"white\",\"gridwidth\":2},\"yaxis\":{\"backgroundcolor\":\"#E5ECF6\",\"gridcolor\":\"white\",\"linecolor\":\"white\",\"showbackground\":true,\"ticks\":\"\",\"zerolinecolor\":\"white\",\"gridwidth\":2},\"zaxis\":{\"backgroundcolor\":\"#E5ECF6\",\"gridcolor\":\"white\",\"linecolor\":\"white\",\"showbackground\":true,\"ticks\":\"\",\"zerolinecolor\":\"white\",\"gridwidth\":2}},\"shapedefaults\":{\"line\":{\"color\":\"#2a3f5f\"}},\"annotationdefaults\":{\"arrowcolor\":\"#2a3f5f\",\"arrowhead\":0,\"arrowwidth\":1},\"geo\":{\"bgcolor\":\"white\",\"landcolor\":\"#E5ECF6\",\"subunitcolor\":\"white\",\"showland\":true,\"showlakes\":true,\"lakecolor\":\"white\"},\"title\":{\"x\":0.05},\"mapbox\":{\"style\":\"light\"}}},\"xaxis\":{\"anchor\":\"y\",\"domain\":[0.0,1.0],\"title\":{\"text\":\"data\"}},\"yaxis\":{\"anchor\":\"x\",\"domain\":[0.0,1.0],\"title\":{\"text\":\"linear\"},\"range\":[-2,2]},\"legend\":{\"tracegroupgap\":0},\"margin\":{\"t\":60},\"width\":800},                        {\"responsive\": true}                    ).then(function(){\n",
              "                            \n",
              "var gd = document.getElementById('9ee5454d-f50f-43d4-b9aa-3a00ffda6c0d');\n",
              "var x = new MutationObserver(function (mutations, observer) {{\n",
              "        var display = window.getComputedStyle(gd).display;\n",
              "        if (!display || display === 'none') {{\n",
              "            console.log([gd, 'removed!']);\n",
              "            Plotly.purge(gd);\n",
              "            observer.disconnect();\n",
              "        }}\n",
              "}});\n",
              "\n",
              "// Listen for the removal of the full notebook cells\n",
              "var notebookContainer = gd.closest('#notebook-container');\n",
              "if (notebookContainer) {{\n",
              "    x.observe(notebookContainer, {childList: true});\n",
              "}}\n",
              "\n",
              "// Listen for the clearing of the current output cell\n",
              "var outputEl = gd.closest('.output');\n",
              "if (outputEl) {{\n",
              "    x.observe(outputEl, {childList: true});\n",
              "}}\n",
              "\n",
              "                        })                };                            </script>        </div>\n",
              "</body>\n",
              "</html>"
            ]
          },
          "metadata": {}
        }
      ]
    },
    {
      "cell_type": "code",
      "source": [
        "from tensorflow.keras.activations import sigmoid\n",
        "\n",
        "data = pd.DataFrame({'data': random_data, 'sigmoid': sigmoid(random_data)})\n",
        "data.head()"
      ],
      "metadata": {
        "colab": {
          "base_uri": "https://localhost:8080/",
          "height": 206
        },
        "id": "vz9Kz_XeglsW",
        "outputId": "834ff793-9a63-4b35-b0cc-f1eb55e72b3b"
      },
      "execution_count": 8,
      "outputs": [
        {
          "output_type": "execute_result",
          "data": {
            "text/plain": [
              "       data   sigmoid\n",
              "0 -2.639736  0.066624\n",
              "1 -2.358621  0.086383\n",
              "2 -2.131749  0.106049\n",
              "3 -2.105261  0.108586\n",
              "4 -2.064501  0.112595"
            ],
            "text/html": [
              "\n",
              "  <div id=\"df-c538e5c9-295c-4861-889f-8c0e03060c1a\" class=\"colab-df-container\">\n",
              "    <div>\n",
              "<style scoped>\n",
              "    .dataframe tbody tr th:only-of-type {\n",
              "        vertical-align: middle;\n",
              "    }\n",
              "\n",
              "    .dataframe tbody tr th {\n",
              "        vertical-align: top;\n",
              "    }\n",
              "\n",
              "    .dataframe thead th {\n",
              "        text-align: right;\n",
              "    }\n",
              "</style>\n",
              "<table border=\"1\" class=\"dataframe\">\n",
              "  <thead>\n",
              "    <tr style=\"text-align: right;\">\n",
              "      <th></th>\n",
              "      <th>data</th>\n",
              "      <th>sigmoid</th>\n",
              "    </tr>\n",
              "  </thead>\n",
              "  <tbody>\n",
              "    <tr>\n",
              "      <th>0</th>\n",
              "      <td>-2.639736</td>\n",
              "      <td>0.066624</td>\n",
              "    </tr>\n",
              "    <tr>\n",
              "      <th>1</th>\n",
              "      <td>-2.358621</td>\n",
              "      <td>0.086383</td>\n",
              "    </tr>\n",
              "    <tr>\n",
              "      <th>2</th>\n",
              "      <td>-2.131749</td>\n",
              "      <td>0.106049</td>\n",
              "    </tr>\n",
              "    <tr>\n",
              "      <th>3</th>\n",
              "      <td>-2.105261</td>\n",
              "      <td>0.108586</td>\n",
              "    </tr>\n",
              "    <tr>\n",
              "      <th>4</th>\n",
              "      <td>-2.064501</td>\n",
              "      <td>0.112595</td>\n",
              "    </tr>\n",
              "  </tbody>\n",
              "</table>\n",
              "</div>\n",
              "    <div class=\"colab-df-buttons\">\n",
              "\n",
              "  <div class=\"colab-df-container\">\n",
              "    <button class=\"colab-df-convert\" onclick=\"convertToInteractive('df-c538e5c9-295c-4861-889f-8c0e03060c1a')\"\n",
              "            title=\"Convert this dataframe to an interactive table.\"\n",
              "            style=\"display:none;\">\n",
              "\n",
              "  <svg xmlns=\"http://www.w3.org/2000/svg\" height=\"24px\" viewBox=\"0 -960 960 960\">\n",
              "    <path d=\"M120-120v-720h720v720H120Zm60-500h600v-160H180v160Zm220 220h160v-160H400v160Zm0 220h160v-160H400v160ZM180-400h160v-160H180v160Zm440 0h160v-160H620v160ZM180-180h160v-160H180v160Zm440 0h160v-160H620v160Z\"/>\n",
              "  </svg>\n",
              "    </button>\n",
              "\n",
              "  <style>\n",
              "    .colab-df-container {\n",
              "      display:flex;\n",
              "      gap: 12px;\n",
              "    }\n",
              "\n",
              "    .colab-df-convert {\n",
              "      background-color: #E8F0FE;\n",
              "      border: none;\n",
              "      border-radius: 50%;\n",
              "      cursor: pointer;\n",
              "      display: none;\n",
              "      fill: #1967D2;\n",
              "      height: 32px;\n",
              "      padding: 0 0 0 0;\n",
              "      width: 32px;\n",
              "    }\n",
              "\n",
              "    .colab-df-convert:hover {\n",
              "      background-color: #E2EBFA;\n",
              "      box-shadow: 0px 1px 2px rgba(60, 64, 67, 0.3), 0px 1px 3px 1px rgba(60, 64, 67, 0.15);\n",
              "      fill: #174EA6;\n",
              "    }\n",
              "\n",
              "    .colab-df-buttons div {\n",
              "      margin-bottom: 4px;\n",
              "    }\n",
              "\n",
              "    [theme=dark] .colab-df-convert {\n",
              "      background-color: #3B4455;\n",
              "      fill: #D2E3FC;\n",
              "    }\n",
              "\n",
              "    [theme=dark] .colab-df-convert:hover {\n",
              "      background-color: #434B5C;\n",
              "      box-shadow: 0px 1px 3px 1px rgba(0, 0, 0, 0.15);\n",
              "      filter: drop-shadow(0px 1px 2px rgba(0, 0, 0, 0.3));\n",
              "      fill: #FFFFFF;\n",
              "    }\n",
              "  </style>\n",
              "\n",
              "    <script>\n",
              "      const buttonEl =\n",
              "        document.querySelector('#df-c538e5c9-295c-4861-889f-8c0e03060c1a button.colab-df-convert');\n",
              "      buttonEl.style.display =\n",
              "        google.colab.kernel.accessAllowed ? 'block' : 'none';\n",
              "\n",
              "      async function convertToInteractive(key) {\n",
              "        const element = document.querySelector('#df-c538e5c9-295c-4861-889f-8c0e03060c1a');\n",
              "        const dataTable =\n",
              "          await google.colab.kernel.invokeFunction('convertToInteractive',\n",
              "                                                    [key], {});\n",
              "        if (!dataTable) return;\n",
              "\n",
              "        const docLinkHtml = 'Like what you see? Visit the ' +\n",
              "          '<a target=\"_blank\" href=https://colab.research.google.com/notebooks/data_table.ipynb>data table notebook</a>'\n",
              "          + ' to learn more about interactive tables.';\n",
              "        element.innerHTML = '';\n",
              "        dataTable['output_type'] = 'display_data';\n",
              "        await google.colab.output.renderOutput(dataTable, element);\n",
              "        const docLink = document.createElement('div');\n",
              "        docLink.innerHTML = docLinkHtml;\n",
              "        element.appendChild(docLink);\n",
              "      }\n",
              "    </script>\n",
              "  </div>\n",
              "\n",
              "\n",
              "<div id=\"df-2a8401d8-ecab-4ec8-ac2d-622c9133b81d\">\n",
              "  <button class=\"colab-df-quickchart\" onclick=\"quickchart('df-2a8401d8-ecab-4ec8-ac2d-622c9133b81d')\"\n",
              "            title=\"Suggest charts\"\n",
              "            style=\"display:none;\">\n",
              "\n",
              "<svg xmlns=\"http://www.w3.org/2000/svg\" height=\"24px\"viewBox=\"0 0 24 24\"\n",
              "     width=\"24px\">\n",
              "    <g>\n",
              "        <path d=\"M19 3H5c-1.1 0-2 .9-2 2v14c0 1.1.9 2 2 2h14c1.1 0 2-.9 2-2V5c0-1.1-.9-2-2-2zM9 17H7v-7h2v7zm4 0h-2V7h2v10zm4 0h-2v-4h2v4z\"/>\n",
              "    </g>\n",
              "</svg>\n",
              "  </button>\n",
              "\n",
              "<style>\n",
              "  .colab-df-quickchart {\n",
              "      --bg-color: #E8F0FE;\n",
              "      --fill-color: #1967D2;\n",
              "      --hover-bg-color: #E2EBFA;\n",
              "      --hover-fill-color: #174EA6;\n",
              "      --disabled-fill-color: #AAA;\n",
              "      --disabled-bg-color: #DDD;\n",
              "  }\n",
              "\n",
              "  [theme=dark] .colab-df-quickchart {\n",
              "      --bg-color: #3B4455;\n",
              "      --fill-color: #D2E3FC;\n",
              "      --hover-bg-color: #434B5C;\n",
              "      --hover-fill-color: #FFFFFF;\n",
              "      --disabled-bg-color: #3B4455;\n",
              "      --disabled-fill-color: #666;\n",
              "  }\n",
              "\n",
              "  .colab-df-quickchart {\n",
              "    background-color: var(--bg-color);\n",
              "    border: none;\n",
              "    border-radius: 50%;\n",
              "    cursor: pointer;\n",
              "    display: none;\n",
              "    fill: var(--fill-color);\n",
              "    height: 32px;\n",
              "    padding: 0;\n",
              "    width: 32px;\n",
              "  }\n",
              "\n",
              "  .colab-df-quickchart:hover {\n",
              "    background-color: var(--hover-bg-color);\n",
              "    box-shadow: 0 1px 2px rgba(60, 64, 67, 0.3), 0 1px 3px 1px rgba(60, 64, 67, 0.15);\n",
              "    fill: var(--button-hover-fill-color);\n",
              "  }\n",
              "\n",
              "  .colab-df-quickchart-complete:disabled,\n",
              "  .colab-df-quickchart-complete:disabled:hover {\n",
              "    background-color: var(--disabled-bg-color);\n",
              "    fill: var(--disabled-fill-color);\n",
              "    box-shadow: none;\n",
              "  }\n",
              "\n",
              "  .colab-df-spinner {\n",
              "    border: 2px solid var(--fill-color);\n",
              "    border-color: transparent;\n",
              "    border-bottom-color: var(--fill-color);\n",
              "    animation:\n",
              "      spin 1s steps(1) infinite;\n",
              "  }\n",
              "\n",
              "  @keyframes spin {\n",
              "    0% {\n",
              "      border-color: transparent;\n",
              "      border-bottom-color: var(--fill-color);\n",
              "      border-left-color: var(--fill-color);\n",
              "    }\n",
              "    20% {\n",
              "      border-color: transparent;\n",
              "      border-left-color: var(--fill-color);\n",
              "      border-top-color: var(--fill-color);\n",
              "    }\n",
              "    30% {\n",
              "      border-color: transparent;\n",
              "      border-left-color: var(--fill-color);\n",
              "      border-top-color: var(--fill-color);\n",
              "      border-right-color: var(--fill-color);\n",
              "    }\n",
              "    40% {\n",
              "      border-color: transparent;\n",
              "      border-right-color: var(--fill-color);\n",
              "      border-top-color: var(--fill-color);\n",
              "    }\n",
              "    60% {\n",
              "      border-color: transparent;\n",
              "      border-right-color: var(--fill-color);\n",
              "    }\n",
              "    80% {\n",
              "      border-color: transparent;\n",
              "      border-right-color: var(--fill-color);\n",
              "      border-bottom-color: var(--fill-color);\n",
              "    }\n",
              "    90% {\n",
              "      border-color: transparent;\n",
              "      border-bottom-color: var(--fill-color);\n",
              "    }\n",
              "  }\n",
              "</style>\n",
              "\n",
              "  <script>\n",
              "    async function quickchart(key) {\n",
              "      const quickchartButtonEl =\n",
              "        document.querySelector('#' + key + ' button');\n",
              "      quickchartButtonEl.disabled = true;  // To prevent multiple clicks.\n",
              "      quickchartButtonEl.classList.add('colab-df-spinner');\n",
              "      try {\n",
              "        const charts = await google.colab.kernel.invokeFunction(\n",
              "            'suggestCharts', [key], {});\n",
              "      } catch (error) {\n",
              "        console.error('Error during call to suggestCharts:', error);\n",
              "      }\n",
              "      quickchartButtonEl.classList.remove('colab-df-spinner');\n",
              "      quickchartButtonEl.classList.add('colab-df-quickchart-complete');\n",
              "    }\n",
              "    (() => {\n",
              "      let quickchartButtonEl =\n",
              "        document.querySelector('#df-2a8401d8-ecab-4ec8-ac2d-622c9133b81d button');\n",
              "      quickchartButtonEl.style.display =\n",
              "        google.colab.kernel.accessAllowed ? 'block' : 'none';\n",
              "    })();\n",
              "  </script>\n",
              "</div>\n",
              "\n",
              "    </div>\n",
              "  </div>\n"
            ],
            "application/vnd.google.colaboratory.intrinsic+json": {
              "type": "dataframe",
              "variable_name": "data",
              "summary": "{\n  \"name\": \"data\",\n  \"rows\": 200,\n  \"fields\": [\n    {\n      \"column\": \"data\",\n      \"properties\": {\n        \"dtype\": \"number\",\n        \"std\": 1.038125082460923,\n        \"min\": -2.639736401117053,\n        \"max\": 2.275065669207093,\n        \"num_unique_values\": 200,\n        \"samples\": [\n          -0.06308917878261863,\n          -1.4338048733042859,\n          -1.0868313553673714\n        ],\n        \"semantic_type\": \"\",\n        \"description\": \"\"\n      }\n    },\n    {\n      \"column\": \"sigmoid\",\n      \"properties\": {\n        \"dtype\": \"number\",\n        \"std\": 0.21787672034676475,\n        \"min\": 0.06662442576039193,\n        \"max\": 0.9067908275081251,\n        \"num_unique_values\": 200,\n        \"samples\": [\n          0.48423293468867334,\n          0.19250653308441038,\n          0.25221542431216104\n        ],\n        \"semantic_type\": \"\",\n        \"description\": \"\"\n      }\n    }\n  ]\n}"
            }
          },
          "metadata": {},
          "execution_count": 8
        }
      ]
    },
    {
      "cell_type": "code",
      "source": [
        "px.line(data, x='data', y='sigmoid', width=800, range_y=[-0.5, 1.5])"
      ],
      "metadata": {
        "colab": {
          "base_uri": "https://localhost:8080/",
          "height": 562
        },
        "id": "BBva2pAqgoa0",
        "outputId": "ec0d21c6-b856-4cc7-cf9f-3d1da5b92a16"
      },
      "execution_count": 9,
      "outputs": [
        {
          "output_type": "display_data",
          "data": {
            "text/html": [
              "<html>\n",
              "<head><meta charset=\"utf-8\" /></head>\n",
              "<body>\n",
              "    <div>            <script src=\"https://cdnjs.cloudflare.com/ajax/libs/mathjax/2.7.5/MathJax.js?config=TeX-AMS-MML_SVG\"></script><script type=\"text/javascript\">if (window.MathJax && window.MathJax.Hub && window.MathJax.Hub.Config) {window.MathJax.Hub.Config({SVG: {font: \"STIX-Web\"}});}</script>                <script type=\"text/javascript\">window.PlotlyConfig = {MathJaxConfig: 'local'};</script>\n",
              "        <script charset=\"utf-8\" src=\"https://cdn.plot.ly/plotly-2.35.2.min.js\"></script>                <div id=\"f09fd6b2-8263-4cd1-a9c4-0cad12254ce4\" class=\"plotly-graph-div\" style=\"height:525px; width:800px;\"></div>            <script type=\"text/javascript\">                                    window.PLOTLYENV=window.PLOTLYENV || {};                                    if (document.getElementById(\"f09fd6b2-8263-4cd1-a9c4-0cad12254ce4\")) {                    Plotly.newPlot(                        \"f09fd6b2-8263-4cd1-a9c4-0cad12254ce4\",                        [{\"hovertemplate\":\"data=%{x}\\u003cbr\\u003esigmoid=%{y}\\u003cextra\\u003e\\u003c\\u002fextra\\u003e\",\"legendgroup\":\"\",\"line\":{\"color\":\"#636efa\",\"dash\":\"solid\"},\"marker\":{\"symbol\":\"circle\"},\"mode\":\"lines\",\"name\":\"\",\"orientation\":\"v\",\"showlegend\":false,\"x\":[-2.639736401117053,-2.3586208017747428,-2.131748632418117,-2.105261410337652,-2.0645009628660715,-1.9449958961194642,-1.782298925871898,-1.709531514729966,-1.6998333818643514,-1.655127872192692,-1.6246925674019976,-1.6097395311203186,-1.5887726869511813,-1.477296245726506,-1.4726138048339854,-1.4338048733042859,-1.398960386696066,-1.386779467343545,-1.355418556037235,-1.347497267394349,-1.3277377599469589,-1.294086123508468,-1.2923518278115549,-1.2469645767374944,-1.207293236071429,-1.1984088381398108,-1.1981712254333259,-1.1907506393676264,-1.1442005537641868,-1.0977103635573864,-1.0868313553673714,-1.0843507214917967,-1.0839636268388397,-1.0789746308855117,-1.061638825936435,-1.0446346182803723,-1.0257617830154655,-1.024437829960092,-1.0047944391980224,-0.9865976293179658,-0.9664408141497497,-0.939397832950864,-0.9313607460682174,-0.9247459714469685,-0.9168115051866399,-0.9150073190762983,-0.9035321973447006,-0.8933929657877703,-0.8660834626149275,-0.8478694541604245,-0.8348303371374424,-0.8346386270239105,-0.8064258710357526,-0.8050626072263465,-0.7718572078818833,-0.7523610753448187,-0.7191591532740317,-0.7167686069220017,-0.6448926482715642,-0.6448298766871229,-0.6164039099354289,-0.6152455930998363,-0.5984784686229679,-0.5946255432248674,-0.5573735030074298,-0.5539682275113,-0.5519016023624238,-0.538313692736548,-0.5131202511336368,-0.5093062501665938,-0.5068812085889406,-0.49898260040178843,-0.49496053992631445,-0.46484265916573475,-0.4504281996296423,-0.441502183552287,-0.4050664891349546,-0.391239237484383,-0.3622086681328658,-0.2729824833275559,-0.25567641676768554,-0.21913898783356636,-0.2094422117397986,-0.20784234110058147,-0.18550203297096424,-0.18123789636303192,-0.1374408747144049,-0.13620978693618194,-0.11470415767254025,-0.09810453132386211,-0.09065072630822435,-0.08329505273481914,-0.08082685342660124,-0.06998842602125506,-0.06959874185799884,-0.06308917878261863,-0.06267701438895622,-0.05936413260037142,-0.058204053984478095,-0.04747865964033319,-0.04320581587059913,-0.03998434625357198,-0.036544170163081494,-0.024490353991738788,0.03922216136975319,0.04667144856965012,0.05809515136356021,0.08886730788437253,0.08955632658740571,0.09143425554807917,0.09791956616085842,0.1085064037438999,0.11003558433867218,0.15619226006793924,0.1562585638521058,0.17169092051241844,0.17816715407405725,0.18440937708914956,0.21152637634810614,0.2239701581137451,0.23093521113215523,0.2383728687945263,0.23879499606249796,0.2396889483677492,0.2562237595581415,0.28231099917939784,0.2853987490264722,0.2897719457676889,0.2955526193457903,0.30475448941574523,0.32138051225198755,0.3445771845654313,0.41074063509183345,0.4117182493425608,0.41356553275394964,0.43661927726613264,0.44328887773787584,0.44587088277969567,0.4618095920962419,0.48137047949825634,0.5055885701174714,0.5163590482131254,0.5274124406219071,0.528366400022054,0.5446316715227258,0.5478781410603133,0.5644001819676108,0.5847094698770315,0.6094947733296706,0.6273990380722718,0.6319436405897504,0.6357338459937064,0.659483414087342,0.6651067318904942,0.6884907088018263,0.7074708453604984,0.7291530286388523,0.7689362799833476,0.7779293185224975,0.7845194101541053,0.8144040031188061,0.8458502700568429,0.8795064573098369,0.9146005813419581,0.965022072895329,0.9902063708456308,1.0000056584907493,1.1099146457166917,1.1548158603996521,1.2118049286196229,1.259766781089035,1.3027716674955065,1.3036958933467349,1.3106086199448814,1.3193781339189823,1.323951171561799,1.3622992319829426,1.3658676095318756,1.3666984126104353,1.531673002938539,1.5425637476080096,1.549348736327521,1.5637714359732173,1.6012966174773724,1.6086439989169232,1.639553965906141,1.6769090652639655,1.6820948948119359,1.7226609127215957,1.7568369473400531,1.7652725497754576,1.8110541589057791,1.8748894185843117,1.9305533772927672,2.0206149945244993,2.0572574769098178,2.068857079929221,2.1181403851368787,2.1482569921751526,2.275065669207093],\"xaxis\":\"x\",\"y\":[0.06662442576039193,0.08638298006997347,0.10604910238288297,0.10858649074594506,0.1125953198113298,0.1251000307029023,0.14401949538470754,0.1532244903298721,0.15448702762246944,0.1604171067982941,0.1645587241104057,0.16662477939411527,0.16955664135218568,0.18583615279063542,0.18654565355852118,0.19250653308441038,0.1979811341997492,0.19992239429983966,0.20498591597460694,0.20627983915964748,0.20953381245132177,0.21516199506572764,0.21545500558824893,0.22322602737100602,0.23018033201000077,0.2317583962835377,0.23180070507697223,0.23312471139913288,0.24154996927182595,0.25016914908674637,0.25221542431216104,0.2526835663263448,0.2527566701808641,0.2537001072867901,0.2569963975132011,0.26025673161324225,0.2639065955642872,0.2641638669376574,0.2679998223141026,0.2715846331350316,0.27559049157045495,0.2810219935678127,0.28264873019420783,0.283991857638307,0.28560801730777985,0.28597627871001347,0.28832517094099325,0.2904101349859332,0.29606990494913576,0.299879979031539,0.3026246905623571,0.3026651511682566,0.3086526434130896,0.30894362094059236,0.31607749190344836,0.32030705212115534,0.3275781699803088,0.32810495420891983,0.344141388540689,0.3441555567339323,0.35059976713981467,0.3508635378361213,0.35469187327122154,0.35557424512789865,0.36415539797311963,0.3649442408715873,0.3654233353454394,0.36857994743197364,0.3744623511595834,0.3753561707633973,0.3759249271450052,0.37777979125217553,0.3787256894255284,0.3858376411318411,0.3892589625767641,0.39138308725112847,0.40009567236598553,0.4034190151362227,0.4104250150108758,0.4321750467538281,0.43642683616793415,0.44543344425757364,0.44783001533718153,0.44822566155569893,0.4537570213790799,0.45481414389396857,0.4656937680366628,0.4660001039915027,0.47135536026200464,0.4754935192336676,0.477352824998267,0.4791882681888673,0.4798042802995192,0.4825100322872433,0.482607334786013,0.48423293468867334,0.4843358739903834,0.48516332375520294,0.4854530929995221,0.4881325643268218,0.48920022601319624,0.4900052449922964,0.49086497407087665,0.4938777174995829,0.5098042834835422,0.5116657446687571,0.5145197043473372,0.5222022172476978,0.5223741296429713,0.5228426519651458,0.5244603503506948,0.5271000173320767,0.5274811735641113,0.5389688734192625,0.5389853486355869,0.5428176011423677,0.5444243351916827,0.5459721375420667,0.5526852971119818,0.5557596466158723,0.5574785800288007,0.559312629484574,0.5594166736563482,0.5596369940589501,0.5637077827303776,0.5701127048792379,0.5708692992103008,0.5719403005631198,0.5733549593758505,0.5756043778538785,0.5796606566710055,0.5853019455571684,0.6012654559464546,0.6014998111560534,0.6019425177712876,0.6074531780239099,0.6090424248413824,0.6096570520267423,0.6134433737918259,0.6180714412809113,0.6237717643163134,0.6262959966355452,0.6288794028902738,0.6291020201828778,0.6328892032622654,0.6336431635505745,0.6374700449162839,0.6421503338443412,0.6478255444346243,0.6518994683020138,0.6529300460743963,0.6537884550286862,0.6591443350465134,0.6604066102201411,0.6656310933497158,0.6698420684333752,0.6746193830363114,0.6832907448287711,0.685233663177184,0.6866533319530582,0.6930471758375749,0.6996959180465059,0.7067199364836974,0.7139406607179991,0.7241261802387643,0.7291286825282055,0.7310596911553557,0.7521131984203179,0.7603894538534339,0.7706181545521703,0.7789859578305018,0.7863010805840775,0.7864563387235419,0.7876149821959245,0.7890782256059446,0.7898383273914805,0.796133129050444,0.7967116831940744,0.7968462086998999,0.8222509626551583,0.8238371096602897,0.8248196492239543,0.8268938635749834,0.8321995273020147,0.8332230383846351,0.8374742363484347,0.8424948064699245,0.8431817304895888,0.84847126129691,0.8528130674459468,0.8538687807949358,0.8594892306452169,0.8670230109337653,0.8733106577217786,0.8829445858973359,0.8866788948599182,0.8878391990384235,0.8926538658176838,0.8955057870247718,0.9067908275081251],\"yaxis\":\"y\",\"type\":\"scatter\"}],                        {\"template\":{\"data\":{\"histogram2dcontour\":[{\"type\":\"histogram2dcontour\",\"colorbar\":{\"outlinewidth\":0,\"ticks\":\"\"},\"colorscale\":[[0.0,\"#0d0887\"],[0.1111111111111111,\"#46039f\"],[0.2222222222222222,\"#7201a8\"],[0.3333333333333333,\"#9c179e\"],[0.4444444444444444,\"#bd3786\"],[0.5555555555555556,\"#d8576b\"],[0.6666666666666666,\"#ed7953\"],[0.7777777777777778,\"#fb9f3a\"],[0.8888888888888888,\"#fdca26\"],[1.0,\"#f0f921\"]]}],\"choropleth\":[{\"type\":\"choropleth\",\"colorbar\":{\"outlinewidth\":0,\"ticks\":\"\"}}],\"histogram2d\":[{\"type\":\"histogram2d\",\"colorbar\":{\"outlinewidth\":0,\"ticks\":\"\"},\"colorscale\":[[0.0,\"#0d0887\"],[0.1111111111111111,\"#46039f\"],[0.2222222222222222,\"#7201a8\"],[0.3333333333333333,\"#9c179e\"],[0.4444444444444444,\"#bd3786\"],[0.5555555555555556,\"#d8576b\"],[0.6666666666666666,\"#ed7953\"],[0.7777777777777778,\"#fb9f3a\"],[0.8888888888888888,\"#fdca26\"],[1.0,\"#f0f921\"]]}],\"heatmap\":[{\"type\":\"heatmap\",\"colorbar\":{\"outlinewidth\":0,\"ticks\":\"\"},\"colorscale\":[[0.0,\"#0d0887\"],[0.1111111111111111,\"#46039f\"],[0.2222222222222222,\"#7201a8\"],[0.3333333333333333,\"#9c179e\"],[0.4444444444444444,\"#bd3786\"],[0.5555555555555556,\"#d8576b\"],[0.6666666666666666,\"#ed7953\"],[0.7777777777777778,\"#fb9f3a\"],[0.8888888888888888,\"#fdca26\"],[1.0,\"#f0f921\"]]}],\"heatmapgl\":[{\"type\":\"heatmapgl\",\"colorbar\":{\"outlinewidth\":0,\"ticks\":\"\"},\"colorscale\":[[0.0,\"#0d0887\"],[0.1111111111111111,\"#46039f\"],[0.2222222222222222,\"#7201a8\"],[0.3333333333333333,\"#9c179e\"],[0.4444444444444444,\"#bd3786\"],[0.5555555555555556,\"#d8576b\"],[0.6666666666666666,\"#ed7953\"],[0.7777777777777778,\"#fb9f3a\"],[0.8888888888888888,\"#fdca26\"],[1.0,\"#f0f921\"]]}],\"contourcarpet\":[{\"type\":\"contourcarpet\",\"colorbar\":{\"outlinewidth\":0,\"ticks\":\"\"}}],\"contour\":[{\"type\":\"contour\",\"colorbar\":{\"outlinewidth\":0,\"ticks\":\"\"},\"colorscale\":[[0.0,\"#0d0887\"],[0.1111111111111111,\"#46039f\"],[0.2222222222222222,\"#7201a8\"],[0.3333333333333333,\"#9c179e\"],[0.4444444444444444,\"#bd3786\"],[0.5555555555555556,\"#d8576b\"],[0.6666666666666666,\"#ed7953\"],[0.7777777777777778,\"#fb9f3a\"],[0.8888888888888888,\"#fdca26\"],[1.0,\"#f0f921\"]]}],\"surface\":[{\"type\":\"surface\",\"colorbar\":{\"outlinewidth\":0,\"ticks\":\"\"},\"colorscale\":[[0.0,\"#0d0887\"],[0.1111111111111111,\"#46039f\"],[0.2222222222222222,\"#7201a8\"],[0.3333333333333333,\"#9c179e\"],[0.4444444444444444,\"#bd3786\"],[0.5555555555555556,\"#d8576b\"],[0.6666666666666666,\"#ed7953\"],[0.7777777777777778,\"#fb9f3a\"],[0.8888888888888888,\"#fdca26\"],[1.0,\"#f0f921\"]]}],\"mesh3d\":[{\"type\":\"mesh3d\",\"colorbar\":{\"outlinewidth\":0,\"ticks\":\"\"}}],\"scatter\":[{\"fillpattern\":{\"fillmode\":\"overlay\",\"size\":10,\"solidity\":0.2},\"type\":\"scatter\"}],\"parcoords\":[{\"type\":\"parcoords\",\"line\":{\"colorbar\":{\"outlinewidth\":0,\"ticks\":\"\"}}}],\"scatterpolargl\":[{\"type\":\"scatterpolargl\",\"marker\":{\"colorbar\":{\"outlinewidth\":0,\"ticks\":\"\"}}}],\"bar\":[{\"error_x\":{\"color\":\"#2a3f5f\"},\"error_y\":{\"color\":\"#2a3f5f\"},\"marker\":{\"line\":{\"color\":\"#E5ECF6\",\"width\":0.5},\"pattern\":{\"fillmode\":\"overlay\",\"size\":10,\"solidity\":0.2}},\"type\":\"bar\"}],\"scattergeo\":[{\"type\":\"scattergeo\",\"marker\":{\"colorbar\":{\"outlinewidth\":0,\"ticks\":\"\"}}}],\"scatterpolar\":[{\"type\":\"scatterpolar\",\"marker\":{\"colorbar\":{\"outlinewidth\":0,\"ticks\":\"\"}}}],\"histogram\":[{\"marker\":{\"pattern\":{\"fillmode\":\"overlay\",\"size\":10,\"solidity\":0.2}},\"type\":\"histogram\"}],\"scattergl\":[{\"type\":\"scattergl\",\"marker\":{\"colorbar\":{\"outlinewidth\":0,\"ticks\":\"\"}}}],\"scatter3d\":[{\"type\":\"scatter3d\",\"line\":{\"colorbar\":{\"outlinewidth\":0,\"ticks\":\"\"}},\"marker\":{\"colorbar\":{\"outlinewidth\":0,\"ticks\":\"\"}}}],\"scattermapbox\":[{\"type\":\"scattermapbox\",\"marker\":{\"colorbar\":{\"outlinewidth\":0,\"ticks\":\"\"}}}],\"scatterternary\":[{\"type\":\"scatterternary\",\"marker\":{\"colorbar\":{\"outlinewidth\":0,\"ticks\":\"\"}}}],\"scattercarpet\":[{\"type\":\"scattercarpet\",\"marker\":{\"colorbar\":{\"outlinewidth\":0,\"ticks\":\"\"}}}],\"carpet\":[{\"aaxis\":{\"endlinecolor\":\"#2a3f5f\",\"gridcolor\":\"white\",\"linecolor\":\"white\",\"minorgridcolor\":\"white\",\"startlinecolor\":\"#2a3f5f\"},\"baxis\":{\"endlinecolor\":\"#2a3f5f\",\"gridcolor\":\"white\",\"linecolor\":\"white\",\"minorgridcolor\":\"white\",\"startlinecolor\":\"#2a3f5f\"},\"type\":\"carpet\"}],\"table\":[{\"cells\":{\"fill\":{\"color\":\"#EBF0F8\"},\"line\":{\"color\":\"white\"}},\"header\":{\"fill\":{\"color\":\"#C8D4E3\"},\"line\":{\"color\":\"white\"}},\"type\":\"table\"}],\"barpolar\":[{\"marker\":{\"line\":{\"color\":\"#E5ECF6\",\"width\":0.5},\"pattern\":{\"fillmode\":\"overlay\",\"size\":10,\"solidity\":0.2}},\"type\":\"barpolar\"}],\"pie\":[{\"automargin\":true,\"type\":\"pie\"}]},\"layout\":{\"autotypenumbers\":\"strict\",\"colorway\":[\"#636efa\",\"#EF553B\",\"#00cc96\",\"#ab63fa\",\"#FFA15A\",\"#19d3f3\",\"#FF6692\",\"#B6E880\",\"#FF97FF\",\"#FECB52\"],\"font\":{\"color\":\"#2a3f5f\"},\"hovermode\":\"closest\",\"hoverlabel\":{\"align\":\"left\"},\"paper_bgcolor\":\"white\",\"plot_bgcolor\":\"#E5ECF6\",\"polar\":{\"bgcolor\":\"#E5ECF6\",\"angularaxis\":{\"gridcolor\":\"white\",\"linecolor\":\"white\",\"ticks\":\"\"},\"radialaxis\":{\"gridcolor\":\"white\",\"linecolor\":\"white\",\"ticks\":\"\"}},\"ternary\":{\"bgcolor\":\"#E5ECF6\",\"aaxis\":{\"gridcolor\":\"white\",\"linecolor\":\"white\",\"ticks\":\"\"},\"baxis\":{\"gridcolor\":\"white\",\"linecolor\":\"white\",\"ticks\":\"\"},\"caxis\":{\"gridcolor\":\"white\",\"linecolor\":\"white\",\"ticks\":\"\"}},\"coloraxis\":{\"colorbar\":{\"outlinewidth\":0,\"ticks\":\"\"}},\"colorscale\":{\"sequential\":[[0.0,\"#0d0887\"],[0.1111111111111111,\"#46039f\"],[0.2222222222222222,\"#7201a8\"],[0.3333333333333333,\"#9c179e\"],[0.4444444444444444,\"#bd3786\"],[0.5555555555555556,\"#d8576b\"],[0.6666666666666666,\"#ed7953\"],[0.7777777777777778,\"#fb9f3a\"],[0.8888888888888888,\"#fdca26\"],[1.0,\"#f0f921\"]],\"sequentialminus\":[[0.0,\"#0d0887\"],[0.1111111111111111,\"#46039f\"],[0.2222222222222222,\"#7201a8\"],[0.3333333333333333,\"#9c179e\"],[0.4444444444444444,\"#bd3786\"],[0.5555555555555556,\"#d8576b\"],[0.6666666666666666,\"#ed7953\"],[0.7777777777777778,\"#fb9f3a\"],[0.8888888888888888,\"#fdca26\"],[1.0,\"#f0f921\"]],\"diverging\":[[0,\"#8e0152\"],[0.1,\"#c51b7d\"],[0.2,\"#de77ae\"],[0.3,\"#f1b6da\"],[0.4,\"#fde0ef\"],[0.5,\"#f7f7f7\"],[0.6,\"#e6f5d0\"],[0.7,\"#b8e186\"],[0.8,\"#7fbc41\"],[0.9,\"#4d9221\"],[1,\"#276419\"]]},\"xaxis\":{\"gridcolor\":\"white\",\"linecolor\":\"white\",\"ticks\":\"\",\"title\":{\"standoff\":15},\"zerolinecolor\":\"white\",\"automargin\":true,\"zerolinewidth\":2},\"yaxis\":{\"gridcolor\":\"white\",\"linecolor\":\"white\",\"ticks\":\"\",\"title\":{\"standoff\":15},\"zerolinecolor\":\"white\",\"automargin\":true,\"zerolinewidth\":2},\"scene\":{\"xaxis\":{\"backgroundcolor\":\"#E5ECF6\",\"gridcolor\":\"white\",\"linecolor\":\"white\",\"showbackground\":true,\"ticks\":\"\",\"zerolinecolor\":\"white\",\"gridwidth\":2},\"yaxis\":{\"backgroundcolor\":\"#E5ECF6\",\"gridcolor\":\"white\",\"linecolor\":\"white\",\"showbackground\":true,\"ticks\":\"\",\"zerolinecolor\":\"white\",\"gridwidth\":2},\"zaxis\":{\"backgroundcolor\":\"#E5ECF6\",\"gridcolor\":\"white\",\"linecolor\":\"white\",\"showbackground\":true,\"ticks\":\"\",\"zerolinecolor\":\"white\",\"gridwidth\":2}},\"shapedefaults\":{\"line\":{\"color\":\"#2a3f5f\"}},\"annotationdefaults\":{\"arrowcolor\":\"#2a3f5f\",\"arrowhead\":0,\"arrowwidth\":1},\"geo\":{\"bgcolor\":\"white\",\"landcolor\":\"#E5ECF6\",\"subunitcolor\":\"white\",\"showland\":true,\"showlakes\":true,\"lakecolor\":\"white\"},\"title\":{\"x\":0.05},\"mapbox\":{\"style\":\"light\"}}},\"xaxis\":{\"anchor\":\"y\",\"domain\":[0.0,1.0],\"title\":{\"text\":\"data\"}},\"yaxis\":{\"anchor\":\"x\",\"domain\":[0.0,1.0],\"title\":{\"text\":\"sigmoid\"},\"range\":[-0.5,1.5]},\"legend\":{\"tracegroupgap\":0},\"margin\":{\"t\":60},\"width\":800},                        {\"responsive\": true}                    ).then(function(){\n",
              "                            \n",
              "var gd = document.getElementById('f09fd6b2-8263-4cd1-a9c4-0cad12254ce4');\n",
              "var x = new MutationObserver(function (mutations, observer) {{\n",
              "        var display = window.getComputedStyle(gd).display;\n",
              "        if (!display || display === 'none') {{\n",
              "            console.log([gd, 'removed!']);\n",
              "            Plotly.purge(gd);\n",
              "            observer.disconnect();\n",
              "        }}\n",
              "}});\n",
              "\n",
              "// Listen for the removal of the full notebook cells\n",
              "var notebookContainer = gd.closest('#notebook-container');\n",
              "if (notebookContainer) {{\n",
              "    x.observe(notebookContainer, {childList: true});\n",
              "}}\n",
              "\n",
              "// Listen for the clearing of the current output cell\n",
              "var outputEl = gd.closest('.output');\n",
              "if (outputEl) {{\n",
              "    x.observe(outputEl, {childList: true});\n",
              "}}\n",
              "\n",
              "                        })                };                            </script>        </div>\n",
              "</body>\n",
              "</html>"
            ]
          },
          "metadata": {}
        }
      ]
    },
    {
      "cell_type": "code",
      "source": [
        "from tensorflow.keras.activations import relu\n",
        "\n",
        "data = pd.DataFrame({'data': random_data, 'relu': relu(random_data)})\n",
        "data.head()"
      ],
      "metadata": {
        "colab": {
          "base_uri": "https://localhost:8080/",
          "height": 206
        },
        "id": "BXiKAeWpgqa9",
        "outputId": "07b6bcfc-29c6-4b39-aac5-d2304b35958f"
      },
      "execution_count": 10,
      "outputs": [
        {
          "output_type": "execute_result",
          "data": {
            "text/plain": [
              "       data  relu\n",
              "0 -2.639736   0.0\n",
              "1 -2.358621   0.0\n",
              "2 -2.131749   0.0\n",
              "3 -2.105261   0.0\n",
              "4 -2.064501   0.0"
            ],
            "text/html": [
              "\n",
              "  <div id=\"df-62651054-4e3e-48a4-8950-b4ccf2f00cf2\" class=\"colab-df-container\">\n",
              "    <div>\n",
              "<style scoped>\n",
              "    .dataframe tbody tr th:only-of-type {\n",
              "        vertical-align: middle;\n",
              "    }\n",
              "\n",
              "    .dataframe tbody tr th {\n",
              "        vertical-align: top;\n",
              "    }\n",
              "\n",
              "    .dataframe thead th {\n",
              "        text-align: right;\n",
              "    }\n",
              "</style>\n",
              "<table border=\"1\" class=\"dataframe\">\n",
              "  <thead>\n",
              "    <tr style=\"text-align: right;\">\n",
              "      <th></th>\n",
              "      <th>data</th>\n",
              "      <th>relu</th>\n",
              "    </tr>\n",
              "  </thead>\n",
              "  <tbody>\n",
              "    <tr>\n",
              "      <th>0</th>\n",
              "      <td>-2.639736</td>\n",
              "      <td>0.0</td>\n",
              "    </tr>\n",
              "    <tr>\n",
              "      <th>1</th>\n",
              "      <td>-2.358621</td>\n",
              "      <td>0.0</td>\n",
              "    </tr>\n",
              "    <tr>\n",
              "      <th>2</th>\n",
              "      <td>-2.131749</td>\n",
              "      <td>0.0</td>\n",
              "    </tr>\n",
              "    <tr>\n",
              "      <th>3</th>\n",
              "      <td>-2.105261</td>\n",
              "      <td>0.0</td>\n",
              "    </tr>\n",
              "    <tr>\n",
              "      <th>4</th>\n",
              "      <td>-2.064501</td>\n",
              "      <td>0.0</td>\n",
              "    </tr>\n",
              "  </tbody>\n",
              "</table>\n",
              "</div>\n",
              "    <div class=\"colab-df-buttons\">\n",
              "\n",
              "  <div class=\"colab-df-container\">\n",
              "    <button class=\"colab-df-convert\" onclick=\"convertToInteractive('df-62651054-4e3e-48a4-8950-b4ccf2f00cf2')\"\n",
              "            title=\"Convert this dataframe to an interactive table.\"\n",
              "            style=\"display:none;\">\n",
              "\n",
              "  <svg xmlns=\"http://www.w3.org/2000/svg\" height=\"24px\" viewBox=\"0 -960 960 960\">\n",
              "    <path d=\"M120-120v-720h720v720H120Zm60-500h600v-160H180v160Zm220 220h160v-160H400v160Zm0 220h160v-160H400v160ZM180-400h160v-160H180v160Zm440 0h160v-160H620v160ZM180-180h160v-160H180v160Zm440 0h160v-160H620v160Z\"/>\n",
              "  </svg>\n",
              "    </button>\n",
              "\n",
              "  <style>\n",
              "    .colab-df-container {\n",
              "      display:flex;\n",
              "      gap: 12px;\n",
              "    }\n",
              "\n",
              "    .colab-df-convert {\n",
              "      background-color: #E8F0FE;\n",
              "      border: none;\n",
              "      border-radius: 50%;\n",
              "      cursor: pointer;\n",
              "      display: none;\n",
              "      fill: #1967D2;\n",
              "      height: 32px;\n",
              "      padding: 0 0 0 0;\n",
              "      width: 32px;\n",
              "    }\n",
              "\n",
              "    .colab-df-convert:hover {\n",
              "      background-color: #E2EBFA;\n",
              "      box-shadow: 0px 1px 2px rgba(60, 64, 67, 0.3), 0px 1px 3px 1px rgba(60, 64, 67, 0.15);\n",
              "      fill: #174EA6;\n",
              "    }\n",
              "\n",
              "    .colab-df-buttons div {\n",
              "      margin-bottom: 4px;\n",
              "    }\n",
              "\n",
              "    [theme=dark] .colab-df-convert {\n",
              "      background-color: #3B4455;\n",
              "      fill: #D2E3FC;\n",
              "    }\n",
              "\n",
              "    [theme=dark] .colab-df-convert:hover {\n",
              "      background-color: #434B5C;\n",
              "      box-shadow: 0px 1px 3px 1px rgba(0, 0, 0, 0.15);\n",
              "      filter: drop-shadow(0px 1px 2px rgba(0, 0, 0, 0.3));\n",
              "      fill: #FFFFFF;\n",
              "    }\n",
              "  </style>\n",
              "\n",
              "    <script>\n",
              "      const buttonEl =\n",
              "        document.querySelector('#df-62651054-4e3e-48a4-8950-b4ccf2f00cf2 button.colab-df-convert');\n",
              "      buttonEl.style.display =\n",
              "        google.colab.kernel.accessAllowed ? 'block' : 'none';\n",
              "\n",
              "      async function convertToInteractive(key) {\n",
              "        const element = document.querySelector('#df-62651054-4e3e-48a4-8950-b4ccf2f00cf2');\n",
              "        const dataTable =\n",
              "          await google.colab.kernel.invokeFunction('convertToInteractive',\n",
              "                                                    [key], {});\n",
              "        if (!dataTable) return;\n",
              "\n",
              "        const docLinkHtml = 'Like what you see? Visit the ' +\n",
              "          '<a target=\"_blank\" href=https://colab.research.google.com/notebooks/data_table.ipynb>data table notebook</a>'\n",
              "          + ' to learn more about interactive tables.';\n",
              "        element.innerHTML = '';\n",
              "        dataTable['output_type'] = 'display_data';\n",
              "        await google.colab.output.renderOutput(dataTable, element);\n",
              "        const docLink = document.createElement('div');\n",
              "        docLink.innerHTML = docLinkHtml;\n",
              "        element.appendChild(docLink);\n",
              "      }\n",
              "    </script>\n",
              "  </div>\n",
              "\n",
              "\n",
              "<div id=\"df-75f1690b-cc53-4fef-981d-94073df7a880\">\n",
              "  <button class=\"colab-df-quickchart\" onclick=\"quickchart('df-75f1690b-cc53-4fef-981d-94073df7a880')\"\n",
              "            title=\"Suggest charts\"\n",
              "            style=\"display:none;\">\n",
              "\n",
              "<svg xmlns=\"http://www.w3.org/2000/svg\" height=\"24px\"viewBox=\"0 0 24 24\"\n",
              "     width=\"24px\">\n",
              "    <g>\n",
              "        <path d=\"M19 3H5c-1.1 0-2 .9-2 2v14c0 1.1.9 2 2 2h14c1.1 0 2-.9 2-2V5c0-1.1-.9-2-2-2zM9 17H7v-7h2v7zm4 0h-2V7h2v10zm4 0h-2v-4h2v4z\"/>\n",
              "    </g>\n",
              "</svg>\n",
              "  </button>\n",
              "\n",
              "<style>\n",
              "  .colab-df-quickchart {\n",
              "      --bg-color: #E8F0FE;\n",
              "      --fill-color: #1967D2;\n",
              "      --hover-bg-color: #E2EBFA;\n",
              "      --hover-fill-color: #174EA6;\n",
              "      --disabled-fill-color: #AAA;\n",
              "      --disabled-bg-color: #DDD;\n",
              "  }\n",
              "\n",
              "  [theme=dark] .colab-df-quickchart {\n",
              "      --bg-color: #3B4455;\n",
              "      --fill-color: #D2E3FC;\n",
              "      --hover-bg-color: #434B5C;\n",
              "      --hover-fill-color: #FFFFFF;\n",
              "      --disabled-bg-color: #3B4455;\n",
              "      --disabled-fill-color: #666;\n",
              "  }\n",
              "\n",
              "  .colab-df-quickchart {\n",
              "    background-color: var(--bg-color);\n",
              "    border: none;\n",
              "    border-radius: 50%;\n",
              "    cursor: pointer;\n",
              "    display: none;\n",
              "    fill: var(--fill-color);\n",
              "    height: 32px;\n",
              "    padding: 0;\n",
              "    width: 32px;\n",
              "  }\n",
              "\n",
              "  .colab-df-quickchart:hover {\n",
              "    background-color: var(--hover-bg-color);\n",
              "    box-shadow: 0 1px 2px rgba(60, 64, 67, 0.3), 0 1px 3px 1px rgba(60, 64, 67, 0.15);\n",
              "    fill: var(--button-hover-fill-color);\n",
              "  }\n",
              "\n",
              "  .colab-df-quickchart-complete:disabled,\n",
              "  .colab-df-quickchart-complete:disabled:hover {\n",
              "    background-color: var(--disabled-bg-color);\n",
              "    fill: var(--disabled-fill-color);\n",
              "    box-shadow: none;\n",
              "  }\n",
              "\n",
              "  .colab-df-spinner {\n",
              "    border: 2px solid var(--fill-color);\n",
              "    border-color: transparent;\n",
              "    border-bottom-color: var(--fill-color);\n",
              "    animation:\n",
              "      spin 1s steps(1) infinite;\n",
              "  }\n",
              "\n",
              "  @keyframes spin {\n",
              "    0% {\n",
              "      border-color: transparent;\n",
              "      border-bottom-color: var(--fill-color);\n",
              "      border-left-color: var(--fill-color);\n",
              "    }\n",
              "    20% {\n",
              "      border-color: transparent;\n",
              "      border-left-color: var(--fill-color);\n",
              "      border-top-color: var(--fill-color);\n",
              "    }\n",
              "    30% {\n",
              "      border-color: transparent;\n",
              "      border-left-color: var(--fill-color);\n",
              "      border-top-color: var(--fill-color);\n",
              "      border-right-color: var(--fill-color);\n",
              "    }\n",
              "    40% {\n",
              "      border-color: transparent;\n",
              "      border-right-color: var(--fill-color);\n",
              "      border-top-color: var(--fill-color);\n",
              "    }\n",
              "    60% {\n",
              "      border-color: transparent;\n",
              "      border-right-color: var(--fill-color);\n",
              "    }\n",
              "    80% {\n",
              "      border-color: transparent;\n",
              "      border-right-color: var(--fill-color);\n",
              "      border-bottom-color: var(--fill-color);\n",
              "    }\n",
              "    90% {\n",
              "      border-color: transparent;\n",
              "      border-bottom-color: var(--fill-color);\n",
              "    }\n",
              "  }\n",
              "</style>\n",
              "\n",
              "  <script>\n",
              "    async function quickchart(key) {\n",
              "      const quickchartButtonEl =\n",
              "        document.querySelector('#' + key + ' button');\n",
              "      quickchartButtonEl.disabled = true;  // To prevent multiple clicks.\n",
              "      quickchartButtonEl.classList.add('colab-df-spinner');\n",
              "      try {\n",
              "        const charts = await google.colab.kernel.invokeFunction(\n",
              "            'suggestCharts', [key], {});\n",
              "      } catch (error) {\n",
              "        console.error('Error during call to suggestCharts:', error);\n",
              "      }\n",
              "      quickchartButtonEl.classList.remove('colab-df-spinner');\n",
              "      quickchartButtonEl.classList.add('colab-df-quickchart-complete');\n",
              "    }\n",
              "    (() => {\n",
              "      let quickchartButtonEl =\n",
              "        document.querySelector('#df-75f1690b-cc53-4fef-981d-94073df7a880 button');\n",
              "      quickchartButtonEl.style.display =\n",
              "        google.colab.kernel.accessAllowed ? 'block' : 'none';\n",
              "    })();\n",
              "  </script>\n",
              "</div>\n",
              "\n",
              "    </div>\n",
              "  </div>\n"
            ],
            "application/vnd.google.colaboratory.intrinsic+json": {
              "type": "dataframe",
              "variable_name": "data",
              "summary": "{\n  \"name\": \"data\",\n  \"rows\": 200,\n  \"fields\": [\n    {\n      \"column\": \"data\",\n      \"properties\": {\n        \"dtype\": \"number\",\n        \"std\": 1.038125082460923,\n        \"min\": -2.639736401117053,\n        \"max\": 2.275065669207093,\n        \"num_unique_values\": 200,\n        \"samples\": [\n          -0.06308917878261863,\n          -1.4338048733042859,\n          -1.0868313553673714\n        ],\n        \"semantic_type\": \"\",\n        \"description\": \"\"\n      }\n    },\n    {\n      \"column\": \"relu\",\n      \"properties\": {\n        \"dtype\": \"number\",\n        \"std\": 0.6067249854813032,\n        \"min\": 0.0,\n        \"max\": 2.275065669207093,\n        \"num_unique_values\": 97,\n        \"samples\": [\n          0.9902063708456308,\n          0.528366400022054,\n          2.068857079929221\n        ],\n        \"semantic_type\": \"\",\n        \"description\": \"\"\n      }\n    }\n  ]\n}"
            }
          },
          "metadata": {},
          "execution_count": 10
        }
      ]
    },
    {
      "cell_type": "code",
      "source": [
        "px.line(data, x='data', y='relu', width=800, range_y=[-0.5, 1.5])"
      ],
      "metadata": {
        "colab": {
          "base_uri": "https://localhost:8080/",
          "height": 562
        },
        "id": "oHx7uGnigudV",
        "outputId": "021eb613-a76b-49ea-d2c5-994e5106515b"
      },
      "execution_count": 11,
      "outputs": [
        {
          "output_type": "display_data",
          "data": {
            "text/html": [
              "<html>\n",
              "<head><meta charset=\"utf-8\" /></head>\n",
              "<body>\n",
              "    <div>            <script src=\"https://cdnjs.cloudflare.com/ajax/libs/mathjax/2.7.5/MathJax.js?config=TeX-AMS-MML_SVG\"></script><script type=\"text/javascript\">if (window.MathJax && window.MathJax.Hub && window.MathJax.Hub.Config) {window.MathJax.Hub.Config({SVG: {font: \"STIX-Web\"}});}</script>                <script type=\"text/javascript\">window.PlotlyConfig = {MathJaxConfig: 'local'};</script>\n",
              "        <script charset=\"utf-8\" src=\"https://cdn.plot.ly/plotly-2.35.2.min.js\"></script>                <div id=\"41447324-07cd-426c-ac5c-c0e611507cba\" class=\"plotly-graph-div\" style=\"height:525px; width:800px;\"></div>            <script type=\"text/javascript\">                                    window.PLOTLYENV=window.PLOTLYENV || {};                                    if (document.getElementById(\"41447324-07cd-426c-ac5c-c0e611507cba\")) {                    Plotly.newPlot(                        \"41447324-07cd-426c-ac5c-c0e611507cba\",                        [{\"hovertemplate\":\"data=%{x}\\u003cbr\\u003erelu=%{y}\\u003cextra\\u003e\\u003c\\u002fextra\\u003e\",\"legendgroup\":\"\",\"line\":{\"color\":\"#636efa\",\"dash\":\"solid\"},\"marker\":{\"symbol\":\"circle\"},\"mode\":\"lines\",\"name\":\"\",\"orientation\":\"v\",\"showlegend\":false,\"x\":[-2.639736401117053,-2.3586208017747428,-2.131748632418117,-2.105261410337652,-2.0645009628660715,-1.9449958961194642,-1.782298925871898,-1.709531514729966,-1.6998333818643514,-1.655127872192692,-1.6246925674019976,-1.6097395311203186,-1.5887726869511813,-1.477296245726506,-1.4726138048339854,-1.4338048733042859,-1.398960386696066,-1.386779467343545,-1.355418556037235,-1.347497267394349,-1.3277377599469589,-1.294086123508468,-1.2923518278115549,-1.2469645767374944,-1.207293236071429,-1.1984088381398108,-1.1981712254333259,-1.1907506393676264,-1.1442005537641868,-1.0977103635573864,-1.0868313553673714,-1.0843507214917967,-1.0839636268388397,-1.0789746308855117,-1.061638825936435,-1.0446346182803723,-1.0257617830154655,-1.024437829960092,-1.0047944391980224,-0.9865976293179658,-0.9664408141497497,-0.939397832950864,-0.9313607460682174,-0.9247459714469685,-0.9168115051866399,-0.9150073190762983,-0.9035321973447006,-0.8933929657877703,-0.8660834626149275,-0.8478694541604245,-0.8348303371374424,-0.8346386270239105,-0.8064258710357526,-0.8050626072263465,-0.7718572078818833,-0.7523610753448187,-0.7191591532740317,-0.7167686069220017,-0.6448926482715642,-0.6448298766871229,-0.6164039099354289,-0.6152455930998363,-0.5984784686229679,-0.5946255432248674,-0.5573735030074298,-0.5539682275113,-0.5519016023624238,-0.538313692736548,-0.5131202511336368,-0.5093062501665938,-0.5068812085889406,-0.49898260040178843,-0.49496053992631445,-0.46484265916573475,-0.4504281996296423,-0.441502183552287,-0.4050664891349546,-0.391239237484383,-0.3622086681328658,-0.2729824833275559,-0.25567641676768554,-0.21913898783356636,-0.2094422117397986,-0.20784234110058147,-0.18550203297096424,-0.18123789636303192,-0.1374408747144049,-0.13620978693618194,-0.11470415767254025,-0.09810453132386211,-0.09065072630822435,-0.08329505273481914,-0.08082685342660124,-0.06998842602125506,-0.06959874185799884,-0.06308917878261863,-0.06267701438895622,-0.05936413260037142,-0.058204053984478095,-0.04747865964033319,-0.04320581587059913,-0.03998434625357198,-0.036544170163081494,-0.024490353991738788,0.03922216136975319,0.04667144856965012,0.05809515136356021,0.08886730788437253,0.08955632658740571,0.09143425554807917,0.09791956616085842,0.1085064037438999,0.11003558433867218,0.15619226006793924,0.1562585638521058,0.17169092051241844,0.17816715407405725,0.18440937708914956,0.21152637634810614,0.2239701581137451,0.23093521113215523,0.2383728687945263,0.23879499606249796,0.2396889483677492,0.2562237595581415,0.28231099917939784,0.2853987490264722,0.2897719457676889,0.2955526193457903,0.30475448941574523,0.32138051225198755,0.3445771845654313,0.41074063509183345,0.4117182493425608,0.41356553275394964,0.43661927726613264,0.44328887773787584,0.44587088277969567,0.4618095920962419,0.48137047949825634,0.5055885701174714,0.5163590482131254,0.5274124406219071,0.528366400022054,0.5446316715227258,0.5478781410603133,0.5644001819676108,0.5847094698770315,0.6094947733296706,0.6273990380722718,0.6319436405897504,0.6357338459937064,0.659483414087342,0.6651067318904942,0.6884907088018263,0.7074708453604984,0.7291530286388523,0.7689362799833476,0.7779293185224975,0.7845194101541053,0.8144040031188061,0.8458502700568429,0.8795064573098369,0.9146005813419581,0.965022072895329,0.9902063708456308,1.0000056584907493,1.1099146457166917,1.1548158603996521,1.2118049286196229,1.259766781089035,1.3027716674955065,1.3036958933467349,1.3106086199448814,1.3193781339189823,1.323951171561799,1.3622992319829426,1.3658676095318756,1.3666984126104353,1.531673002938539,1.5425637476080096,1.549348736327521,1.5637714359732173,1.6012966174773724,1.6086439989169232,1.639553965906141,1.6769090652639655,1.6820948948119359,1.7226609127215957,1.7568369473400531,1.7652725497754576,1.8110541589057791,1.8748894185843117,1.9305533772927672,2.0206149945244993,2.0572574769098178,2.068857079929221,2.1181403851368787,2.1482569921751526,2.275065669207093],\"xaxis\":\"x\",\"y\":[0.0,0.0,0.0,0.0,0.0,0.0,0.0,0.0,0.0,0.0,0.0,0.0,0.0,0.0,0.0,0.0,0.0,0.0,0.0,0.0,0.0,0.0,0.0,0.0,0.0,0.0,0.0,0.0,0.0,0.0,0.0,0.0,0.0,0.0,0.0,0.0,0.0,0.0,0.0,0.0,0.0,0.0,0.0,0.0,0.0,0.0,0.0,0.0,0.0,0.0,0.0,0.0,0.0,0.0,0.0,0.0,0.0,0.0,0.0,0.0,0.0,0.0,0.0,0.0,0.0,0.0,0.0,0.0,0.0,0.0,0.0,0.0,0.0,0.0,0.0,0.0,0.0,0.0,0.0,0.0,0.0,0.0,0.0,0.0,0.0,0.0,0.0,0.0,0.0,0.0,0.0,0.0,0.0,0.0,0.0,0.0,0.0,0.0,0.0,0.0,0.0,0.0,0.0,0.0,0.03922216136975319,0.04667144856965012,0.05809515136356021,0.08886730788437253,0.08955632658740571,0.09143425554807917,0.09791956616085842,0.1085064037438999,0.11003558433867218,0.15619226006793924,0.1562585638521058,0.17169092051241844,0.17816715407405725,0.18440937708914956,0.21152637634810614,0.2239701581137451,0.23093521113215523,0.2383728687945263,0.23879499606249796,0.2396889483677492,0.2562237595581415,0.28231099917939784,0.2853987490264722,0.2897719457676889,0.2955526193457903,0.30475448941574523,0.32138051225198755,0.3445771845654313,0.41074063509183345,0.4117182493425608,0.41356553275394964,0.43661927726613264,0.44328887773787584,0.44587088277969567,0.4618095920962419,0.48137047949825634,0.5055885701174714,0.5163590482131254,0.5274124406219071,0.528366400022054,0.5446316715227258,0.5478781410603133,0.5644001819676108,0.5847094698770315,0.6094947733296706,0.6273990380722718,0.6319436405897504,0.6357338459937064,0.659483414087342,0.6651067318904942,0.6884907088018263,0.7074708453604984,0.7291530286388523,0.7689362799833476,0.7779293185224975,0.7845194101541053,0.8144040031188061,0.8458502700568429,0.8795064573098369,0.9146005813419581,0.965022072895329,0.9902063708456308,1.0000056584907493,1.1099146457166917,1.1548158603996521,1.2118049286196229,1.259766781089035,1.3027716674955065,1.3036958933467349,1.3106086199448814,1.3193781339189823,1.323951171561799,1.3622992319829426,1.3658676095318756,1.3666984126104353,1.531673002938539,1.5425637476080096,1.549348736327521,1.5637714359732173,1.6012966174773724,1.6086439989169232,1.639553965906141,1.6769090652639655,1.6820948948119359,1.7226609127215957,1.7568369473400531,1.7652725497754576,1.8110541589057791,1.8748894185843117,1.9305533772927672,2.0206149945244993,2.0572574769098178,2.068857079929221,2.1181403851368787,2.1482569921751526,2.275065669207093],\"yaxis\":\"y\",\"type\":\"scatter\"}],                        {\"template\":{\"data\":{\"histogram2dcontour\":[{\"type\":\"histogram2dcontour\",\"colorbar\":{\"outlinewidth\":0,\"ticks\":\"\"},\"colorscale\":[[0.0,\"#0d0887\"],[0.1111111111111111,\"#46039f\"],[0.2222222222222222,\"#7201a8\"],[0.3333333333333333,\"#9c179e\"],[0.4444444444444444,\"#bd3786\"],[0.5555555555555556,\"#d8576b\"],[0.6666666666666666,\"#ed7953\"],[0.7777777777777778,\"#fb9f3a\"],[0.8888888888888888,\"#fdca26\"],[1.0,\"#f0f921\"]]}],\"choropleth\":[{\"type\":\"choropleth\",\"colorbar\":{\"outlinewidth\":0,\"ticks\":\"\"}}],\"histogram2d\":[{\"type\":\"histogram2d\",\"colorbar\":{\"outlinewidth\":0,\"ticks\":\"\"},\"colorscale\":[[0.0,\"#0d0887\"],[0.1111111111111111,\"#46039f\"],[0.2222222222222222,\"#7201a8\"],[0.3333333333333333,\"#9c179e\"],[0.4444444444444444,\"#bd3786\"],[0.5555555555555556,\"#d8576b\"],[0.6666666666666666,\"#ed7953\"],[0.7777777777777778,\"#fb9f3a\"],[0.8888888888888888,\"#fdca26\"],[1.0,\"#f0f921\"]]}],\"heatmap\":[{\"type\":\"heatmap\",\"colorbar\":{\"outlinewidth\":0,\"ticks\":\"\"},\"colorscale\":[[0.0,\"#0d0887\"],[0.1111111111111111,\"#46039f\"],[0.2222222222222222,\"#7201a8\"],[0.3333333333333333,\"#9c179e\"],[0.4444444444444444,\"#bd3786\"],[0.5555555555555556,\"#d8576b\"],[0.6666666666666666,\"#ed7953\"],[0.7777777777777778,\"#fb9f3a\"],[0.8888888888888888,\"#fdca26\"],[1.0,\"#f0f921\"]]}],\"heatmapgl\":[{\"type\":\"heatmapgl\",\"colorbar\":{\"outlinewidth\":0,\"ticks\":\"\"},\"colorscale\":[[0.0,\"#0d0887\"],[0.1111111111111111,\"#46039f\"],[0.2222222222222222,\"#7201a8\"],[0.3333333333333333,\"#9c179e\"],[0.4444444444444444,\"#bd3786\"],[0.5555555555555556,\"#d8576b\"],[0.6666666666666666,\"#ed7953\"],[0.7777777777777778,\"#fb9f3a\"],[0.8888888888888888,\"#fdca26\"],[1.0,\"#f0f921\"]]}],\"contourcarpet\":[{\"type\":\"contourcarpet\",\"colorbar\":{\"outlinewidth\":0,\"ticks\":\"\"}}],\"contour\":[{\"type\":\"contour\",\"colorbar\":{\"outlinewidth\":0,\"ticks\":\"\"},\"colorscale\":[[0.0,\"#0d0887\"],[0.1111111111111111,\"#46039f\"],[0.2222222222222222,\"#7201a8\"],[0.3333333333333333,\"#9c179e\"],[0.4444444444444444,\"#bd3786\"],[0.5555555555555556,\"#d8576b\"],[0.6666666666666666,\"#ed7953\"],[0.7777777777777778,\"#fb9f3a\"],[0.8888888888888888,\"#fdca26\"],[1.0,\"#f0f921\"]]}],\"surface\":[{\"type\":\"surface\",\"colorbar\":{\"outlinewidth\":0,\"ticks\":\"\"},\"colorscale\":[[0.0,\"#0d0887\"],[0.1111111111111111,\"#46039f\"],[0.2222222222222222,\"#7201a8\"],[0.3333333333333333,\"#9c179e\"],[0.4444444444444444,\"#bd3786\"],[0.5555555555555556,\"#d8576b\"],[0.6666666666666666,\"#ed7953\"],[0.7777777777777778,\"#fb9f3a\"],[0.8888888888888888,\"#fdca26\"],[1.0,\"#f0f921\"]]}],\"mesh3d\":[{\"type\":\"mesh3d\",\"colorbar\":{\"outlinewidth\":0,\"ticks\":\"\"}}],\"scatter\":[{\"fillpattern\":{\"fillmode\":\"overlay\",\"size\":10,\"solidity\":0.2},\"type\":\"scatter\"}],\"parcoords\":[{\"type\":\"parcoords\",\"line\":{\"colorbar\":{\"outlinewidth\":0,\"ticks\":\"\"}}}],\"scatterpolargl\":[{\"type\":\"scatterpolargl\",\"marker\":{\"colorbar\":{\"outlinewidth\":0,\"ticks\":\"\"}}}],\"bar\":[{\"error_x\":{\"color\":\"#2a3f5f\"},\"error_y\":{\"color\":\"#2a3f5f\"},\"marker\":{\"line\":{\"color\":\"#E5ECF6\",\"width\":0.5},\"pattern\":{\"fillmode\":\"overlay\",\"size\":10,\"solidity\":0.2}},\"type\":\"bar\"}],\"scattergeo\":[{\"type\":\"scattergeo\",\"marker\":{\"colorbar\":{\"outlinewidth\":0,\"ticks\":\"\"}}}],\"scatterpolar\":[{\"type\":\"scatterpolar\",\"marker\":{\"colorbar\":{\"outlinewidth\":0,\"ticks\":\"\"}}}],\"histogram\":[{\"marker\":{\"pattern\":{\"fillmode\":\"overlay\",\"size\":10,\"solidity\":0.2}},\"type\":\"histogram\"}],\"scattergl\":[{\"type\":\"scattergl\",\"marker\":{\"colorbar\":{\"outlinewidth\":0,\"ticks\":\"\"}}}],\"scatter3d\":[{\"type\":\"scatter3d\",\"line\":{\"colorbar\":{\"outlinewidth\":0,\"ticks\":\"\"}},\"marker\":{\"colorbar\":{\"outlinewidth\":0,\"ticks\":\"\"}}}],\"scattermapbox\":[{\"type\":\"scattermapbox\",\"marker\":{\"colorbar\":{\"outlinewidth\":0,\"ticks\":\"\"}}}],\"scatterternary\":[{\"type\":\"scatterternary\",\"marker\":{\"colorbar\":{\"outlinewidth\":0,\"ticks\":\"\"}}}],\"scattercarpet\":[{\"type\":\"scattercarpet\",\"marker\":{\"colorbar\":{\"outlinewidth\":0,\"ticks\":\"\"}}}],\"carpet\":[{\"aaxis\":{\"endlinecolor\":\"#2a3f5f\",\"gridcolor\":\"white\",\"linecolor\":\"white\",\"minorgridcolor\":\"white\",\"startlinecolor\":\"#2a3f5f\"},\"baxis\":{\"endlinecolor\":\"#2a3f5f\",\"gridcolor\":\"white\",\"linecolor\":\"white\",\"minorgridcolor\":\"white\",\"startlinecolor\":\"#2a3f5f\"},\"type\":\"carpet\"}],\"table\":[{\"cells\":{\"fill\":{\"color\":\"#EBF0F8\"},\"line\":{\"color\":\"white\"}},\"header\":{\"fill\":{\"color\":\"#C8D4E3\"},\"line\":{\"color\":\"white\"}},\"type\":\"table\"}],\"barpolar\":[{\"marker\":{\"line\":{\"color\":\"#E5ECF6\",\"width\":0.5},\"pattern\":{\"fillmode\":\"overlay\",\"size\":10,\"solidity\":0.2}},\"type\":\"barpolar\"}],\"pie\":[{\"automargin\":true,\"type\":\"pie\"}]},\"layout\":{\"autotypenumbers\":\"strict\",\"colorway\":[\"#636efa\",\"#EF553B\",\"#00cc96\",\"#ab63fa\",\"#FFA15A\",\"#19d3f3\",\"#FF6692\",\"#B6E880\",\"#FF97FF\",\"#FECB52\"],\"font\":{\"color\":\"#2a3f5f\"},\"hovermode\":\"closest\",\"hoverlabel\":{\"align\":\"left\"},\"paper_bgcolor\":\"white\",\"plot_bgcolor\":\"#E5ECF6\",\"polar\":{\"bgcolor\":\"#E5ECF6\",\"angularaxis\":{\"gridcolor\":\"white\",\"linecolor\":\"white\",\"ticks\":\"\"},\"radialaxis\":{\"gridcolor\":\"white\",\"linecolor\":\"white\",\"ticks\":\"\"}},\"ternary\":{\"bgcolor\":\"#E5ECF6\",\"aaxis\":{\"gridcolor\":\"white\",\"linecolor\":\"white\",\"ticks\":\"\"},\"baxis\":{\"gridcolor\":\"white\",\"linecolor\":\"white\",\"ticks\":\"\"},\"caxis\":{\"gridcolor\":\"white\",\"linecolor\":\"white\",\"ticks\":\"\"}},\"coloraxis\":{\"colorbar\":{\"outlinewidth\":0,\"ticks\":\"\"}},\"colorscale\":{\"sequential\":[[0.0,\"#0d0887\"],[0.1111111111111111,\"#46039f\"],[0.2222222222222222,\"#7201a8\"],[0.3333333333333333,\"#9c179e\"],[0.4444444444444444,\"#bd3786\"],[0.5555555555555556,\"#d8576b\"],[0.6666666666666666,\"#ed7953\"],[0.7777777777777778,\"#fb9f3a\"],[0.8888888888888888,\"#fdca26\"],[1.0,\"#f0f921\"]],\"sequentialminus\":[[0.0,\"#0d0887\"],[0.1111111111111111,\"#46039f\"],[0.2222222222222222,\"#7201a8\"],[0.3333333333333333,\"#9c179e\"],[0.4444444444444444,\"#bd3786\"],[0.5555555555555556,\"#d8576b\"],[0.6666666666666666,\"#ed7953\"],[0.7777777777777778,\"#fb9f3a\"],[0.8888888888888888,\"#fdca26\"],[1.0,\"#f0f921\"]],\"diverging\":[[0,\"#8e0152\"],[0.1,\"#c51b7d\"],[0.2,\"#de77ae\"],[0.3,\"#f1b6da\"],[0.4,\"#fde0ef\"],[0.5,\"#f7f7f7\"],[0.6,\"#e6f5d0\"],[0.7,\"#b8e186\"],[0.8,\"#7fbc41\"],[0.9,\"#4d9221\"],[1,\"#276419\"]]},\"xaxis\":{\"gridcolor\":\"white\",\"linecolor\":\"white\",\"ticks\":\"\",\"title\":{\"standoff\":15},\"zerolinecolor\":\"white\",\"automargin\":true,\"zerolinewidth\":2},\"yaxis\":{\"gridcolor\":\"white\",\"linecolor\":\"white\",\"ticks\":\"\",\"title\":{\"standoff\":15},\"zerolinecolor\":\"white\",\"automargin\":true,\"zerolinewidth\":2},\"scene\":{\"xaxis\":{\"backgroundcolor\":\"#E5ECF6\",\"gridcolor\":\"white\",\"linecolor\":\"white\",\"showbackground\":true,\"ticks\":\"\",\"zerolinecolor\":\"white\",\"gridwidth\":2},\"yaxis\":{\"backgroundcolor\":\"#E5ECF6\",\"gridcolor\":\"white\",\"linecolor\":\"white\",\"showbackground\":true,\"ticks\":\"\",\"zerolinecolor\":\"white\",\"gridwidth\":2},\"zaxis\":{\"backgroundcolor\":\"#E5ECF6\",\"gridcolor\":\"white\",\"linecolor\":\"white\",\"showbackground\":true,\"ticks\":\"\",\"zerolinecolor\":\"white\",\"gridwidth\":2}},\"shapedefaults\":{\"line\":{\"color\":\"#2a3f5f\"}},\"annotationdefaults\":{\"arrowcolor\":\"#2a3f5f\",\"arrowhead\":0,\"arrowwidth\":1},\"geo\":{\"bgcolor\":\"white\",\"landcolor\":\"#E5ECF6\",\"subunitcolor\":\"white\",\"showland\":true,\"showlakes\":true,\"lakecolor\":\"white\"},\"title\":{\"x\":0.05},\"mapbox\":{\"style\":\"light\"}}},\"xaxis\":{\"anchor\":\"y\",\"domain\":[0.0,1.0],\"title\":{\"text\":\"data\"}},\"yaxis\":{\"anchor\":\"x\",\"domain\":[0.0,1.0],\"title\":{\"text\":\"relu\"},\"range\":[-0.5,1.5]},\"legend\":{\"tracegroupgap\":0},\"margin\":{\"t\":60},\"width\":800},                        {\"responsive\": true}                    ).then(function(){\n",
              "                            \n",
              "var gd = document.getElementById('41447324-07cd-426c-ac5c-c0e611507cba');\n",
              "var x = new MutationObserver(function (mutations, observer) {{\n",
              "        var display = window.getComputedStyle(gd).display;\n",
              "        if (!display || display === 'none') {{\n",
              "            console.log([gd, 'removed!']);\n",
              "            Plotly.purge(gd);\n",
              "            observer.disconnect();\n",
              "        }}\n",
              "}});\n",
              "\n",
              "// Listen for the removal of the full notebook cells\n",
              "var notebookContainer = gd.closest('#notebook-container');\n",
              "if (notebookContainer) {{\n",
              "    x.observe(notebookContainer, {childList: true});\n",
              "}}\n",
              "\n",
              "// Listen for the clearing of the current output cell\n",
              "var outputEl = gd.closest('.output');\n",
              "if (outputEl) {{\n",
              "    x.observe(outputEl, {childList: true});\n",
              "}}\n",
              "\n",
              "                        })                };                            </script>        </div>\n",
              "</body>\n",
              "</html>"
            ]
          },
          "metadata": {}
        }
      ]
    },
    {
      "cell_type": "code",
      "source": [
        "from tensorflow.keras.activations import tanh\n",
        "\n",
        "data = pd.DataFrame({'data': random_data, 'tanh': tanh(random_data)})\n",
        "data.head()"
      ],
      "metadata": {
        "colab": {
          "base_uri": "https://localhost:8080/",
          "height": 206
        },
        "id": "MuW4xVoGgwfY",
        "outputId": "506f7a18-1d44-4d08-9669-f05e3f5dce4e"
      },
      "execution_count": 12,
      "outputs": [
        {
          "output_type": "execute_result",
          "data": {
            "text/plain": [
              "       data      tanh\n",
              "0 -2.639736 -0.989861\n",
              "1 -2.358621 -0.982279\n",
              "2 -2.131749 -0.972245\n",
              "3 -2.105261 -0.970757\n",
              "4 -2.064501 -0.968312"
            ],
            "text/html": [
              "\n",
              "  <div id=\"df-dc31bc66-ada8-454e-aaeb-399188613dac\" class=\"colab-df-container\">\n",
              "    <div>\n",
              "<style scoped>\n",
              "    .dataframe tbody tr th:only-of-type {\n",
              "        vertical-align: middle;\n",
              "    }\n",
              "\n",
              "    .dataframe tbody tr th {\n",
              "        vertical-align: top;\n",
              "    }\n",
              "\n",
              "    .dataframe thead th {\n",
              "        text-align: right;\n",
              "    }\n",
              "</style>\n",
              "<table border=\"1\" class=\"dataframe\">\n",
              "  <thead>\n",
              "    <tr style=\"text-align: right;\">\n",
              "      <th></th>\n",
              "      <th>data</th>\n",
              "      <th>tanh</th>\n",
              "    </tr>\n",
              "  </thead>\n",
              "  <tbody>\n",
              "    <tr>\n",
              "      <th>0</th>\n",
              "      <td>-2.639736</td>\n",
              "      <td>-0.989861</td>\n",
              "    </tr>\n",
              "    <tr>\n",
              "      <th>1</th>\n",
              "      <td>-2.358621</td>\n",
              "      <td>-0.982279</td>\n",
              "    </tr>\n",
              "    <tr>\n",
              "      <th>2</th>\n",
              "      <td>-2.131749</td>\n",
              "      <td>-0.972245</td>\n",
              "    </tr>\n",
              "    <tr>\n",
              "      <th>3</th>\n",
              "      <td>-2.105261</td>\n",
              "      <td>-0.970757</td>\n",
              "    </tr>\n",
              "    <tr>\n",
              "      <th>4</th>\n",
              "      <td>-2.064501</td>\n",
              "      <td>-0.968312</td>\n",
              "    </tr>\n",
              "  </tbody>\n",
              "</table>\n",
              "</div>\n",
              "    <div class=\"colab-df-buttons\">\n",
              "\n",
              "  <div class=\"colab-df-container\">\n",
              "    <button class=\"colab-df-convert\" onclick=\"convertToInteractive('df-dc31bc66-ada8-454e-aaeb-399188613dac')\"\n",
              "            title=\"Convert this dataframe to an interactive table.\"\n",
              "            style=\"display:none;\">\n",
              "\n",
              "  <svg xmlns=\"http://www.w3.org/2000/svg\" height=\"24px\" viewBox=\"0 -960 960 960\">\n",
              "    <path d=\"M120-120v-720h720v720H120Zm60-500h600v-160H180v160Zm220 220h160v-160H400v160Zm0 220h160v-160H400v160ZM180-400h160v-160H180v160Zm440 0h160v-160H620v160ZM180-180h160v-160H180v160Zm440 0h160v-160H620v160Z\"/>\n",
              "  </svg>\n",
              "    </button>\n",
              "\n",
              "  <style>\n",
              "    .colab-df-container {\n",
              "      display:flex;\n",
              "      gap: 12px;\n",
              "    }\n",
              "\n",
              "    .colab-df-convert {\n",
              "      background-color: #E8F0FE;\n",
              "      border: none;\n",
              "      border-radius: 50%;\n",
              "      cursor: pointer;\n",
              "      display: none;\n",
              "      fill: #1967D2;\n",
              "      height: 32px;\n",
              "      padding: 0 0 0 0;\n",
              "      width: 32px;\n",
              "    }\n",
              "\n",
              "    .colab-df-convert:hover {\n",
              "      background-color: #E2EBFA;\n",
              "      box-shadow: 0px 1px 2px rgba(60, 64, 67, 0.3), 0px 1px 3px 1px rgba(60, 64, 67, 0.15);\n",
              "      fill: #174EA6;\n",
              "    }\n",
              "\n",
              "    .colab-df-buttons div {\n",
              "      margin-bottom: 4px;\n",
              "    }\n",
              "\n",
              "    [theme=dark] .colab-df-convert {\n",
              "      background-color: #3B4455;\n",
              "      fill: #D2E3FC;\n",
              "    }\n",
              "\n",
              "    [theme=dark] .colab-df-convert:hover {\n",
              "      background-color: #434B5C;\n",
              "      box-shadow: 0px 1px 3px 1px rgba(0, 0, 0, 0.15);\n",
              "      filter: drop-shadow(0px 1px 2px rgba(0, 0, 0, 0.3));\n",
              "      fill: #FFFFFF;\n",
              "    }\n",
              "  </style>\n",
              "\n",
              "    <script>\n",
              "      const buttonEl =\n",
              "        document.querySelector('#df-dc31bc66-ada8-454e-aaeb-399188613dac button.colab-df-convert');\n",
              "      buttonEl.style.display =\n",
              "        google.colab.kernel.accessAllowed ? 'block' : 'none';\n",
              "\n",
              "      async function convertToInteractive(key) {\n",
              "        const element = document.querySelector('#df-dc31bc66-ada8-454e-aaeb-399188613dac');\n",
              "        const dataTable =\n",
              "          await google.colab.kernel.invokeFunction('convertToInteractive',\n",
              "                                                    [key], {});\n",
              "        if (!dataTable) return;\n",
              "\n",
              "        const docLinkHtml = 'Like what you see? Visit the ' +\n",
              "          '<a target=\"_blank\" href=https://colab.research.google.com/notebooks/data_table.ipynb>data table notebook</a>'\n",
              "          + ' to learn more about interactive tables.';\n",
              "        element.innerHTML = '';\n",
              "        dataTable['output_type'] = 'display_data';\n",
              "        await google.colab.output.renderOutput(dataTable, element);\n",
              "        const docLink = document.createElement('div');\n",
              "        docLink.innerHTML = docLinkHtml;\n",
              "        element.appendChild(docLink);\n",
              "      }\n",
              "    </script>\n",
              "  </div>\n",
              "\n",
              "\n",
              "<div id=\"df-0f440226-1f38-4f23-9113-52f7a53cca7e\">\n",
              "  <button class=\"colab-df-quickchart\" onclick=\"quickchart('df-0f440226-1f38-4f23-9113-52f7a53cca7e')\"\n",
              "            title=\"Suggest charts\"\n",
              "            style=\"display:none;\">\n",
              "\n",
              "<svg xmlns=\"http://www.w3.org/2000/svg\" height=\"24px\"viewBox=\"0 0 24 24\"\n",
              "     width=\"24px\">\n",
              "    <g>\n",
              "        <path d=\"M19 3H5c-1.1 0-2 .9-2 2v14c0 1.1.9 2 2 2h14c1.1 0 2-.9 2-2V5c0-1.1-.9-2-2-2zM9 17H7v-7h2v7zm4 0h-2V7h2v10zm4 0h-2v-4h2v4z\"/>\n",
              "    </g>\n",
              "</svg>\n",
              "  </button>\n",
              "\n",
              "<style>\n",
              "  .colab-df-quickchart {\n",
              "      --bg-color: #E8F0FE;\n",
              "      --fill-color: #1967D2;\n",
              "      --hover-bg-color: #E2EBFA;\n",
              "      --hover-fill-color: #174EA6;\n",
              "      --disabled-fill-color: #AAA;\n",
              "      --disabled-bg-color: #DDD;\n",
              "  }\n",
              "\n",
              "  [theme=dark] .colab-df-quickchart {\n",
              "      --bg-color: #3B4455;\n",
              "      --fill-color: #D2E3FC;\n",
              "      --hover-bg-color: #434B5C;\n",
              "      --hover-fill-color: #FFFFFF;\n",
              "      --disabled-bg-color: #3B4455;\n",
              "      --disabled-fill-color: #666;\n",
              "  }\n",
              "\n",
              "  .colab-df-quickchart {\n",
              "    background-color: var(--bg-color);\n",
              "    border: none;\n",
              "    border-radius: 50%;\n",
              "    cursor: pointer;\n",
              "    display: none;\n",
              "    fill: var(--fill-color);\n",
              "    height: 32px;\n",
              "    padding: 0;\n",
              "    width: 32px;\n",
              "  }\n",
              "\n",
              "  .colab-df-quickchart:hover {\n",
              "    background-color: var(--hover-bg-color);\n",
              "    box-shadow: 0 1px 2px rgba(60, 64, 67, 0.3), 0 1px 3px 1px rgba(60, 64, 67, 0.15);\n",
              "    fill: var(--button-hover-fill-color);\n",
              "  }\n",
              "\n",
              "  .colab-df-quickchart-complete:disabled,\n",
              "  .colab-df-quickchart-complete:disabled:hover {\n",
              "    background-color: var(--disabled-bg-color);\n",
              "    fill: var(--disabled-fill-color);\n",
              "    box-shadow: none;\n",
              "  }\n",
              "\n",
              "  .colab-df-spinner {\n",
              "    border: 2px solid var(--fill-color);\n",
              "    border-color: transparent;\n",
              "    border-bottom-color: var(--fill-color);\n",
              "    animation:\n",
              "      spin 1s steps(1) infinite;\n",
              "  }\n",
              "\n",
              "  @keyframes spin {\n",
              "    0% {\n",
              "      border-color: transparent;\n",
              "      border-bottom-color: var(--fill-color);\n",
              "      border-left-color: var(--fill-color);\n",
              "    }\n",
              "    20% {\n",
              "      border-color: transparent;\n",
              "      border-left-color: var(--fill-color);\n",
              "      border-top-color: var(--fill-color);\n",
              "    }\n",
              "    30% {\n",
              "      border-color: transparent;\n",
              "      border-left-color: var(--fill-color);\n",
              "      border-top-color: var(--fill-color);\n",
              "      border-right-color: var(--fill-color);\n",
              "    }\n",
              "    40% {\n",
              "      border-color: transparent;\n",
              "      border-right-color: var(--fill-color);\n",
              "      border-top-color: var(--fill-color);\n",
              "    }\n",
              "    60% {\n",
              "      border-color: transparent;\n",
              "      border-right-color: var(--fill-color);\n",
              "    }\n",
              "    80% {\n",
              "      border-color: transparent;\n",
              "      border-right-color: var(--fill-color);\n",
              "      border-bottom-color: var(--fill-color);\n",
              "    }\n",
              "    90% {\n",
              "      border-color: transparent;\n",
              "      border-bottom-color: var(--fill-color);\n",
              "    }\n",
              "  }\n",
              "</style>\n",
              "\n",
              "  <script>\n",
              "    async function quickchart(key) {\n",
              "      const quickchartButtonEl =\n",
              "        document.querySelector('#' + key + ' button');\n",
              "      quickchartButtonEl.disabled = true;  // To prevent multiple clicks.\n",
              "      quickchartButtonEl.classList.add('colab-df-spinner');\n",
              "      try {\n",
              "        const charts = await google.colab.kernel.invokeFunction(\n",
              "            'suggestCharts', [key], {});\n",
              "      } catch (error) {\n",
              "        console.error('Error during call to suggestCharts:', error);\n",
              "      }\n",
              "      quickchartButtonEl.classList.remove('colab-df-spinner');\n",
              "      quickchartButtonEl.classList.add('colab-df-quickchart-complete');\n",
              "    }\n",
              "    (() => {\n",
              "      let quickchartButtonEl =\n",
              "        document.querySelector('#df-0f440226-1f38-4f23-9113-52f7a53cca7e button');\n",
              "      quickchartButtonEl.style.display =\n",
              "        google.colab.kernel.accessAllowed ? 'block' : 'none';\n",
              "    })();\n",
              "  </script>\n",
              "</div>\n",
              "\n",
              "    </div>\n",
              "  </div>\n"
            ],
            "application/vnd.google.colaboratory.intrinsic+json": {
              "type": "dataframe",
              "variable_name": "data",
              "summary": "{\n  \"name\": \"data\",\n  \"rows\": 200,\n  \"fields\": [\n    {\n      \"column\": \"data\",\n      \"properties\": {\n        \"dtype\": \"number\",\n        \"std\": 1.038125082460923,\n        \"min\": -2.639736401117053,\n        \"max\": 2.275065669207093,\n        \"num_unique_values\": 200,\n        \"samples\": [\n          -0.06308917878261863,\n          -1.4338048733042859,\n          -1.0868313553673714\n        ],\n        \"semantic_type\": \"\",\n        \"description\": \"\"\n      }\n    },\n    {\n      \"column\": \"tanh\",\n      \"properties\": {\n        \"dtype\": \"number\",\n        \"std\": 0.6499966578863848,\n        \"min\": -0.9898614247817303,\n        \"max\": 0.9790893053740475,\n        \"num_unique_values\": 200,\n        \"samples\": [\n          -0.06300560838049545,\n          -0.8924436941127608,\n          -0.795718712022628\n        ],\n        \"semantic_type\": \"\",\n        \"description\": \"\"\n      }\n    }\n  ]\n}"
            }
          },
          "metadata": {},
          "execution_count": 12
        }
      ]
    },
    {
      "cell_type": "code",
      "source": [
        "px.line(data, x='data', y='tanh', width=800, range_y=[-1.5, 1.5])"
      ],
      "metadata": {
        "colab": {
          "base_uri": "https://localhost:8080/",
          "height": 562
        },
        "id": "8FYSLgaxgyJE",
        "outputId": "2a76dd05-cb44-4731-8307-2e120e1ce57d"
      },
      "execution_count": 13,
      "outputs": [
        {
          "output_type": "display_data",
          "data": {
            "text/html": [
              "<html>\n",
              "<head><meta charset=\"utf-8\" /></head>\n",
              "<body>\n",
              "    <div>            <script src=\"https://cdnjs.cloudflare.com/ajax/libs/mathjax/2.7.5/MathJax.js?config=TeX-AMS-MML_SVG\"></script><script type=\"text/javascript\">if (window.MathJax && window.MathJax.Hub && window.MathJax.Hub.Config) {window.MathJax.Hub.Config({SVG: {font: \"STIX-Web\"}});}</script>                <script type=\"text/javascript\">window.PlotlyConfig = {MathJaxConfig: 'local'};</script>\n",
              "        <script charset=\"utf-8\" src=\"https://cdn.plot.ly/plotly-2.35.2.min.js\"></script>                <div id=\"7312ca15-d321-4a2e-818d-c69a1d49b39c\" class=\"plotly-graph-div\" style=\"height:525px; width:800px;\"></div>            <script type=\"text/javascript\">                                    window.PLOTLYENV=window.PLOTLYENV || {};                                    if (document.getElementById(\"7312ca15-d321-4a2e-818d-c69a1d49b39c\")) {                    Plotly.newPlot(                        \"7312ca15-d321-4a2e-818d-c69a1d49b39c\",                        [{\"hovertemplate\":\"data=%{x}\\u003cbr\\u003etanh=%{y}\\u003cextra\\u003e\\u003c\\u002fextra\\u003e\",\"legendgroup\":\"\",\"line\":{\"color\":\"#636efa\",\"dash\":\"solid\"},\"marker\":{\"symbol\":\"circle\"},\"mode\":\"lines\",\"name\":\"\",\"orientation\":\"v\",\"showlegend\":false,\"x\":[-2.639736401117053,-2.3586208017747428,-2.131748632418117,-2.105261410337652,-2.0645009628660715,-1.9449958961194642,-1.782298925871898,-1.709531514729966,-1.6998333818643514,-1.655127872192692,-1.6246925674019976,-1.6097395311203186,-1.5887726869511813,-1.477296245726506,-1.4726138048339854,-1.4338048733042859,-1.398960386696066,-1.386779467343545,-1.355418556037235,-1.347497267394349,-1.3277377599469589,-1.294086123508468,-1.2923518278115549,-1.2469645767374944,-1.207293236071429,-1.1984088381398108,-1.1981712254333259,-1.1907506393676264,-1.1442005537641868,-1.0977103635573864,-1.0868313553673714,-1.0843507214917967,-1.0839636268388397,-1.0789746308855117,-1.061638825936435,-1.0446346182803723,-1.0257617830154655,-1.024437829960092,-1.0047944391980224,-0.9865976293179658,-0.9664408141497497,-0.939397832950864,-0.9313607460682174,-0.9247459714469685,-0.9168115051866399,-0.9150073190762983,-0.9035321973447006,-0.8933929657877703,-0.8660834626149275,-0.8478694541604245,-0.8348303371374424,-0.8346386270239105,-0.8064258710357526,-0.8050626072263465,-0.7718572078818833,-0.7523610753448187,-0.7191591532740317,-0.7167686069220017,-0.6448926482715642,-0.6448298766871229,-0.6164039099354289,-0.6152455930998363,-0.5984784686229679,-0.5946255432248674,-0.5573735030074298,-0.5539682275113,-0.5519016023624238,-0.538313692736548,-0.5131202511336368,-0.5093062501665938,-0.5068812085889406,-0.49898260040178843,-0.49496053992631445,-0.46484265916573475,-0.4504281996296423,-0.441502183552287,-0.4050664891349546,-0.391239237484383,-0.3622086681328658,-0.2729824833275559,-0.25567641676768554,-0.21913898783356636,-0.2094422117397986,-0.20784234110058147,-0.18550203297096424,-0.18123789636303192,-0.1374408747144049,-0.13620978693618194,-0.11470415767254025,-0.09810453132386211,-0.09065072630822435,-0.08329505273481914,-0.08082685342660124,-0.06998842602125506,-0.06959874185799884,-0.06308917878261863,-0.06267701438895622,-0.05936413260037142,-0.058204053984478095,-0.04747865964033319,-0.04320581587059913,-0.03998434625357198,-0.036544170163081494,-0.024490353991738788,0.03922216136975319,0.04667144856965012,0.05809515136356021,0.08886730788437253,0.08955632658740571,0.09143425554807917,0.09791956616085842,0.1085064037438999,0.11003558433867218,0.15619226006793924,0.1562585638521058,0.17169092051241844,0.17816715407405725,0.18440937708914956,0.21152637634810614,0.2239701581137451,0.23093521113215523,0.2383728687945263,0.23879499606249796,0.2396889483677492,0.2562237595581415,0.28231099917939784,0.2853987490264722,0.2897719457676889,0.2955526193457903,0.30475448941574523,0.32138051225198755,0.3445771845654313,0.41074063509183345,0.4117182493425608,0.41356553275394964,0.43661927726613264,0.44328887773787584,0.44587088277969567,0.4618095920962419,0.48137047949825634,0.5055885701174714,0.5163590482131254,0.5274124406219071,0.528366400022054,0.5446316715227258,0.5478781410603133,0.5644001819676108,0.5847094698770315,0.6094947733296706,0.6273990380722718,0.6319436405897504,0.6357338459937064,0.659483414087342,0.6651067318904942,0.6884907088018263,0.7074708453604984,0.7291530286388523,0.7689362799833476,0.7779293185224975,0.7845194101541053,0.8144040031188061,0.8458502700568429,0.8795064573098369,0.9146005813419581,0.965022072895329,0.9902063708456308,1.0000056584907493,1.1099146457166917,1.1548158603996521,1.2118049286196229,1.259766781089035,1.3027716674955065,1.3036958933467349,1.3106086199448814,1.3193781339189823,1.323951171561799,1.3622992319829426,1.3658676095318756,1.3666984126104353,1.531673002938539,1.5425637476080096,1.549348736327521,1.5637714359732173,1.6012966174773724,1.6086439989169232,1.639553965906141,1.6769090652639655,1.6820948948119359,1.7226609127215957,1.7568369473400531,1.7652725497754576,1.8110541589057791,1.8748894185843117,1.9305533772927672,2.0206149945244993,2.0572574769098178,2.068857079929221,2.1181403851368787,2.1482569921751526,2.275065669207093],\"xaxis\":\"x\",\"y\":[-0.9898614247817303,-0.9822788157292861,-0.9722446031943878,-0.9707567129276127,-0.9683122614749119,-0.9599282596245228,-0.9449418710288461,-0.9365900389087042,-0.9353882384448899,-0.929557944302031,-0.9253020241099733,-0.9231215288054151,-0.9199609414104085,-0.9009601882407215,-0.9000748933153451,-0.8924436941127608,-0.8851267262878306,-0.8824603235725018,-0.875326193199696,-0.8734612719703571,-0.8686953405645199,-0.8601929508898964,-0.859741242506537,-0.8474302674216357,-0.835865707070913,-0.8331686265947094,-0.8330959431033733,-0.830811525791156,-0.8158237143179821,-0.7996750726001008,-0.795718712022628,-0.7948069389365966,-0.7946643351036241,-0.7928185447525035,-0.786290283524025,-0.7797116442674623,-0.7722029521788976,-0.7716679222064315,-0.7636003565547242,-0.7559078030613658,-0.7471360592537585,-0.7349454658181099,-0.7312276897385707,-0.7281348804635471,-0.7243855300593393,-0.7235269412774905,-0.7180134107760285,-0.7130655402293067,-0.6993787678604185,-0.6899547841830442,-0.6830611499673768,-0.6829588731355521,-0.6676138738891131,-0.6668575401572946,-0.6480080867240411,-0.6365554246224155,-0.6163881929589616,-0.6149037128510301,-0.5682216923456694,-0.5681791866764812,-0.5486192611084338,-0.5478090635595743,-0.5359659945132372,-0.5332141897589282,-0.5060260809968448,-0.5034884054911721,-0.5019440662847179,-0.49171043385901897,-0.47237277976115105,-0.46940448650407623,-0.46751162899739507,-0.4613166495637327,-0.45814466772137324,-0.4340228780875843,-0.42225092227420763,-0.41488882538479016,-0.3842756808822224,-0.37242807210654116,-0.3471580038922286,-0.26639785348665856,-0.2502471132886058,-0.21569726082337362,-0.20643254281654072,-0.20490034497165058,-0.18340314772967053,-0.17927924253747712,-0.13658194509971314,-0.13537362024311517,-0.11420373526441695,-0.09779100263449007,-0.09040323071481009,-0.08310295032569705,-0.08065129875844433,-0.06987437285611671,-0.06948658075818613,-0.06300560838049545,-0.06259506952068274,-0.05929449571037384,-0.058138416738300544,-0.04744301594874609,-0.0431789512189043,-0.03996305157425886,-0.03652791088996952,-0.024485458912189218,0.03920206090253909,0.04663759111079838,0.05802988152971004,0.08863410435845952,0.08931766827369046,0.09118030116897695,0.09760780299656094,0.10808256126689639,0.10959362729512963,0.15493437697126222,0.1549990884906966,0.1700235558870553,0.1763055693992593,0.1823470339806737,0.20842703101628737,0.22029882845974255,0.22691559677318013,0.23395826840004402,0.2343572504836705,0.2352019267713906,0.250760109176632,0.275042611123348,0.2778943465819782,0.28192489806349796,0.28723739714011814,0.29565757075816984,0.3107546540148352,0.33155757112120043,0.3891013643105734,0.3899306521712981,0.3914959344161684,0.4108382534116047,0.4163668737895741,0.4184989620270027,0.4315579302827475,0.447340510044921,0.4665009085588461,0.47488503214759487,0.4834006638677708,0.48413136847644733,0.4964859578389518,0.4989282330298361,0.5112348851340923,0.526079940594393,0.5437713590505692,0.5562586518493392,0.5593891114230608,0.5619877781022776,0.5780195245942172,0.5817518840141259,0.5970115302391413,0.6090884162750487,0.6225469078600683,0.6463104903896323,0.651516581914318,0.6552930826564246,0.6720125642850511,0.6888953331126981,0.7061719832415746,0.7233330701391067,0.7465086121369431,0.7574503074689786,0.7615965323664508,0.8040322179887825,0.8193431973239099,0.8372200919041315,0.8509998008109492,0.8624349766025312,0.8626715800684663,0.8644293297583188,0.8666291963129447,0.8677631695907738,0.8769252669463569,0.8777469947300851,0.8779375750402988,0.910710454299724,0.9125501662095971,0.9136779701945428,0.9160293442229698,0.9218634973676588,0.9229593941433458,0.9274101882753925,0.9324592863099569,0.9331328758887427,0.9381826416242272,0.9421486777261099,0.9430889717920026,0.9479388608759696,0.9540353291819466,0.958778111452137,0.9654554671708704,0.9678572921961676,0.9685828155087896,0.9714897412258626,0.9731339234106473,0.9790893053740475],\"yaxis\":\"y\",\"type\":\"scatter\"}],                        {\"template\":{\"data\":{\"histogram2dcontour\":[{\"type\":\"histogram2dcontour\",\"colorbar\":{\"outlinewidth\":0,\"ticks\":\"\"},\"colorscale\":[[0.0,\"#0d0887\"],[0.1111111111111111,\"#46039f\"],[0.2222222222222222,\"#7201a8\"],[0.3333333333333333,\"#9c179e\"],[0.4444444444444444,\"#bd3786\"],[0.5555555555555556,\"#d8576b\"],[0.6666666666666666,\"#ed7953\"],[0.7777777777777778,\"#fb9f3a\"],[0.8888888888888888,\"#fdca26\"],[1.0,\"#f0f921\"]]}],\"choropleth\":[{\"type\":\"choropleth\",\"colorbar\":{\"outlinewidth\":0,\"ticks\":\"\"}}],\"histogram2d\":[{\"type\":\"histogram2d\",\"colorbar\":{\"outlinewidth\":0,\"ticks\":\"\"},\"colorscale\":[[0.0,\"#0d0887\"],[0.1111111111111111,\"#46039f\"],[0.2222222222222222,\"#7201a8\"],[0.3333333333333333,\"#9c179e\"],[0.4444444444444444,\"#bd3786\"],[0.5555555555555556,\"#d8576b\"],[0.6666666666666666,\"#ed7953\"],[0.7777777777777778,\"#fb9f3a\"],[0.8888888888888888,\"#fdca26\"],[1.0,\"#f0f921\"]]}],\"heatmap\":[{\"type\":\"heatmap\",\"colorbar\":{\"outlinewidth\":0,\"ticks\":\"\"},\"colorscale\":[[0.0,\"#0d0887\"],[0.1111111111111111,\"#46039f\"],[0.2222222222222222,\"#7201a8\"],[0.3333333333333333,\"#9c179e\"],[0.4444444444444444,\"#bd3786\"],[0.5555555555555556,\"#d8576b\"],[0.6666666666666666,\"#ed7953\"],[0.7777777777777778,\"#fb9f3a\"],[0.8888888888888888,\"#fdca26\"],[1.0,\"#f0f921\"]]}],\"heatmapgl\":[{\"type\":\"heatmapgl\",\"colorbar\":{\"outlinewidth\":0,\"ticks\":\"\"},\"colorscale\":[[0.0,\"#0d0887\"],[0.1111111111111111,\"#46039f\"],[0.2222222222222222,\"#7201a8\"],[0.3333333333333333,\"#9c179e\"],[0.4444444444444444,\"#bd3786\"],[0.5555555555555556,\"#d8576b\"],[0.6666666666666666,\"#ed7953\"],[0.7777777777777778,\"#fb9f3a\"],[0.8888888888888888,\"#fdca26\"],[1.0,\"#f0f921\"]]}],\"contourcarpet\":[{\"type\":\"contourcarpet\",\"colorbar\":{\"outlinewidth\":0,\"ticks\":\"\"}}],\"contour\":[{\"type\":\"contour\",\"colorbar\":{\"outlinewidth\":0,\"ticks\":\"\"},\"colorscale\":[[0.0,\"#0d0887\"],[0.1111111111111111,\"#46039f\"],[0.2222222222222222,\"#7201a8\"],[0.3333333333333333,\"#9c179e\"],[0.4444444444444444,\"#bd3786\"],[0.5555555555555556,\"#d8576b\"],[0.6666666666666666,\"#ed7953\"],[0.7777777777777778,\"#fb9f3a\"],[0.8888888888888888,\"#fdca26\"],[1.0,\"#f0f921\"]]}],\"surface\":[{\"type\":\"surface\",\"colorbar\":{\"outlinewidth\":0,\"ticks\":\"\"},\"colorscale\":[[0.0,\"#0d0887\"],[0.1111111111111111,\"#46039f\"],[0.2222222222222222,\"#7201a8\"],[0.3333333333333333,\"#9c179e\"],[0.4444444444444444,\"#bd3786\"],[0.5555555555555556,\"#d8576b\"],[0.6666666666666666,\"#ed7953\"],[0.7777777777777778,\"#fb9f3a\"],[0.8888888888888888,\"#fdca26\"],[1.0,\"#f0f921\"]]}],\"mesh3d\":[{\"type\":\"mesh3d\",\"colorbar\":{\"outlinewidth\":0,\"ticks\":\"\"}}],\"scatter\":[{\"fillpattern\":{\"fillmode\":\"overlay\",\"size\":10,\"solidity\":0.2},\"type\":\"scatter\"}],\"parcoords\":[{\"type\":\"parcoords\",\"line\":{\"colorbar\":{\"outlinewidth\":0,\"ticks\":\"\"}}}],\"scatterpolargl\":[{\"type\":\"scatterpolargl\",\"marker\":{\"colorbar\":{\"outlinewidth\":0,\"ticks\":\"\"}}}],\"bar\":[{\"error_x\":{\"color\":\"#2a3f5f\"},\"error_y\":{\"color\":\"#2a3f5f\"},\"marker\":{\"line\":{\"color\":\"#E5ECF6\",\"width\":0.5},\"pattern\":{\"fillmode\":\"overlay\",\"size\":10,\"solidity\":0.2}},\"type\":\"bar\"}],\"scattergeo\":[{\"type\":\"scattergeo\",\"marker\":{\"colorbar\":{\"outlinewidth\":0,\"ticks\":\"\"}}}],\"scatterpolar\":[{\"type\":\"scatterpolar\",\"marker\":{\"colorbar\":{\"outlinewidth\":0,\"ticks\":\"\"}}}],\"histogram\":[{\"marker\":{\"pattern\":{\"fillmode\":\"overlay\",\"size\":10,\"solidity\":0.2}},\"type\":\"histogram\"}],\"scattergl\":[{\"type\":\"scattergl\",\"marker\":{\"colorbar\":{\"outlinewidth\":0,\"ticks\":\"\"}}}],\"scatter3d\":[{\"type\":\"scatter3d\",\"line\":{\"colorbar\":{\"outlinewidth\":0,\"ticks\":\"\"}},\"marker\":{\"colorbar\":{\"outlinewidth\":0,\"ticks\":\"\"}}}],\"scattermapbox\":[{\"type\":\"scattermapbox\",\"marker\":{\"colorbar\":{\"outlinewidth\":0,\"ticks\":\"\"}}}],\"scatterternary\":[{\"type\":\"scatterternary\",\"marker\":{\"colorbar\":{\"outlinewidth\":0,\"ticks\":\"\"}}}],\"scattercarpet\":[{\"type\":\"scattercarpet\",\"marker\":{\"colorbar\":{\"outlinewidth\":0,\"ticks\":\"\"}}}],\"carpet\":[{\"aaxis\":{\"endlinecolor\":\"#2a3f5f\",\"gridcolor\":\"white\",\"linecolor\":\"white\",\"minorgridcolor\":\"white\",\"startlinecolor\":\"#2a3f5f\"},\"baxis\":{\"endlinecolor\":\"#2a3f5f\",\"gridcolor\":\"white\",\"linecolor\":\"white\",\"minorgridcolor\":\"white\",\"startlinecolor\":\"#2a3f5f\"},\"type\":\"carpet\"}],\"table\":[{\"cells\":{\"fill\":{\"color\":\"#EBF0F8\"},\"line\":{\"color\":\"white\"}},\"header\":{\"fill\":{\"color\":\"#C8D4E3\"},\"line\":{\"color\":\"white\"}},\"type\":\"table\"}],\"barpolar\":[{\"marker\":{\"line\":{\"color\":\"#E5ECF6\",\"width\":0.5},\"pattern\":{\"fillmode\":\"overlay\",\"size\":10,\"solidity\":0.2}},\"type\":\"barpolar\"}],\"pie\":[{\"automargin\":true,\"type\":\"pie\"}]},\"layout\":{\"autotypenumbers\":\"strict\",\"colorway\":[\"#636efa\",\"#EF553B\",\"#00cc96\",\"#ab63fa\",\"#FFA15A\",\"#19d3f3\",\"#FF6692\",\"#B6E880\",\"#FF97FF\",\"#FECB52\"],\"font\":{\"color\":\"#2a3f5f\"},\"hovermode\":\"closest\",\"hoverlabel\":{\"align\":\"left\"},\"paper_bgcolor\":\"white\",\"plot_bgcolor\":\"#E5ECF6\",\"polar\":{\"bgcolor\":\"#E5ECF6\",\"angularaxis\":{\"gridcolor\":\"white\",\"linecolor\":\"white\",\"ticks\":\"\"},\"radialaxis\":{\"gridcolor\":\"white\",\"linecolor\":\"white\",\"ticks\":\"\"}},\"ternary\":{\"bgcolor\":\"#E5ECF6\",\"aaxis\":{\"gridcolor\":\"white\",\"linecolor\":\"white\",\"ticks\":\"\"},\"baxis\":{\"gridcolor\":\"white\",\"linecolor\":\"white\",\"ticks\":\"\"},\"caxis\":{\"gridcolor\":\"white\",\"linecolor\":\"white\",\"ticks\":\"\"}},\"coloraxis\":{\"colorbar\":{\"outlinewidth\":0,\"ticks\":\"\"}},\"colorscale\":{\"sequential\":[[0.0,\"#0d0887\"],[0.1111111111111111,\"#46039f\"],[0.2222222222222222,\"#7201a8\"],[0.3333333333333333,\"#9c179e\"],[0.4444444444444444,\"#bd3786\"],[0.5555555555555556,\"#d8576b\"],[0.6666666666666666,\"#ed7953\"],[0.7777777777777778,\"#fb9f3a\"],[0.8888888888888888,\"#fdca26\"],[1.0,\"#f0f921\"]],\"sequentialminus\":[[0.0,\"#0d0887\"],[0.1111111111111111,\"#46039f\"],[0.2222222222222222,\"#7201a8\"],[0.3333333333333333,\"#9c179e\"],[0.4444444444444444,\"#bd3786\"],[0.5555555555555556,\"#d8576b\"],[0.6666666666666666,\"#ed7953\"],[0.7777777777777778,\"#fb9f3a\"],[0.8888888888888888,\"#fdca26\"],[1.0,\"#f0f921\"]],\"diverging\":[[0,\"#8e0152\"],[0.1,\"#c51b7d\"],[0.2,\"#de77ae\"],[0.3,\"#f1b6da\"],[0.4,\"#fde0ef\"],[0.5,\"#f7f7f7\"],[0.6,\"#e6f5d0\"],[0.7,\"#b8e186\"],[0.8,\"#7fbc41\"],[0.9,\"#4d9221\"],[1,\"#276419\"]]},\"xaxis\":{\"gridcolor\":\"white\",\"linecolor\":\"white\",\"ticks\":\"\",\"title\":{\"standoff\":15},\"zerolinecolor\":\"white\",\"automargin\":true,\"zerolinewidth\":2},\"yaxis\":{\"gridcolor\":\"white\",\"linecolor\":\"white\",\"ticks\":\"\",\"title\":{\"standoff\":15},\"zerolinecolor\":\"white\",\"automargin\":true,\"zerolinewidth\":2},\"scene\":{\"xaxis\":{\"backgroundcolor\":\"#E5ECF6\",\"gridcolor\":\"white\",\"linecolor\":\"white\",\"showbackground\":true,\"ticks\":\"\",\"zerolinecolor\":\"white\",\"gridwidth\":2},\"yaxis\":{\"backgroundcolor\":\"#E5ECF6\",\"gridcolor\":\"white\",\"linecolor\":\"white\",\"showbackground\":true,\"ticks\":\"\",\"zerolinecolor\":\"white\",\"gridwidth\":2},\"zaxis\":{\"backgroundcolor\":\"#E5ECF6\",\"gridcolor\":\"white\",\"linecolor\":\"white\",\"showbackground\":true,\"ticks\":\"\",\"zerolinecolor\":\"white\",\"gridwidth\":2}},\"shapedefaults\":{\"line\":{\"color\":\"#2a3f5f\"}},\"annotationdefaults\":{\"arrowcolor\":\"#2a3f5f\",\"arrowhead\":0,\"arrowwidth\":1},\"geo\":{\"bgcolor\":\"white\",\"landcolor\":\"#E5ECF6\",\"subunitcolor\":\"white\",\"showland\":true,\"showlakes\":true,\"lakecolor\":\"white\"},\"title\":{\"x\":0.05},\"mapbox\":{\"style\":\"light\"}}},\"xaxis\":{\"anchor\":\"y\",\"domain\":[0.0,1.0],\"title\":{\"text\":\"data\"}},\"yaxis\":{\"anchor\":\"x\",\"domain\":[0.0,1.0],\"title\":{\"text\":\"tanh\"},\"range\":[-1.5,1.5]},\"legend\":{\"tracegroupgap\":0},\"margin\":{\"t\":60},\"width\":800},                        {\"responsive\": true}                    ).then(function(){\n",
              "                            \n",
              "var gd = document.getElementById('7312ca15-d321-4a2e-818d-c69a1d49b39c');\n",
              "var x = new MutationObserver(function (mutations, observer) {{\n",
              "        var display = window.getComputedStyle(gd).display;\n",
              "        if (!display || display === 'none') {{\n",
              "            console.log([gd, 'removed!']);\n",
              "            Plotly.purge(gd);\n",
              "            observer.disconnect();\n",
              "        }}\n",
              "}});\n",
              "\n",
              "// Listen for the removal of the full notebook cells\n",
              "var notebookContainer = gd.closest('#notebook-container');\n",
              "if (notebookContainer) {{\n",
              "    x.observe(notebookContainer, {childList: true});\n",
              "}}\n",
              "\n",
              "// Listen for the clearing of the current output cell\n",
              "var outputEl = gd.closest('.output');\n",
              "if (outputEl) {{\n",
              "    x.observe(outputEl, {childList: true});\n",
              "}}\n",
              "\n",
              "                        })                };                            </script>        </div>\n",
              "</body>\n",
              "</html>"
            ]
          },
          "metadata": {}
        }
      ]
    },
    {
      "cell_type": "code",
      "source": [
        "model = Sequential()\n",
        "model.add(Dense(units=8, activation='relu', input_shape=(10,))) # warstwa gęsta z 8 neuronami, 10 - ilość klas\n",
        "model.add(Dense(units=1, activation='sigmoid'))\n",
        "model.summary()"
      ],
      "metadata": {
        "colab": {
          "base_uri": "https://localhost:8080/",
          "height": 299
        },
        "id": "7lcdGFl_g0Ve",
        "outputId": "04e30db2-0166-4b8c-9222-7a97ab2b859b"
      },
      "execution_count": 14,
      "outputs": [
        {
          "output_type": "stream",
          "name": "stderr",
          "text": [
            "/usr/local/lib/python3.10/dist-packages/keras/src/layers/core/dense.py:87: UserWarning:\n",
            "\n",
            "Do not pass an `input_shape`/`input_dim` argument to a layer. When using Sequential models, prefer using an `Input(shape)` object as the first layer in the model instead.\n",
            "\n"
          ]
        },
        {
          "output_type": "display_data",
          "data": {
            "text/plain": [
              "\u001b[1mModel: \"sequential_1\"\u001b[0m\n"
            ],
            "text/html": [
              "<pre style=\"white-space:pre;overflow-x:auto;line-height:normal;font-family:Menlo,'DejaVu Sans Mono',consolas,'Courier New',monospace\"><span style=\"font-weight: bold\">Model: \"sequential_1\"</span>\n",
              "</pre>\n"
            ]
          },
          "metadata": {}
        },
        {
          "output_type": "display_data",
          "data": {
            "text/plain": [
              "┏━━━━━━━━━━━━━━━━━━━━━━━━━━━━━━━━━━━━━━┳━━━━━━━━━━━━━━━━━━━━━━━━━━━━━┳━━━━━━━━━━━━━━━━━┓\n",
              "┃\u001b[1m \u001b[0m\u001b[1mLayer (type)                        \u001b[0m\u001b[1m \u001b[0m┃\u001b[1m \u001b[0m\u001b[1mOutput Shape               \u001b[0m\u001b[1m \u001b[0m┃\u001b[1m \u001b[0m\u001b[1m        Param #\u001b[0m\u001b[1m \u001b[0m┃\n",
              "┡━━━━━━━━━━━━━━━━━━━━━━━━━━━━━━━━━━━━━━╇━━━━━━━━━━━━━━━━━━━━━━━━━━━━━╇━━━━━━━━━━━━━━━━━┩\n",
              "│ dense_2 (\u001b[38;5;33mDense\u001b[0m)                      │ (\u001b[38;5;45mNone\u001b[0m, \u001b[38;5;34m8\u001b[0m)                   │              \u001b[38;5;34m88\u001b[0m │\n",
              "├──────────────────────────────────────┼─────────────────────────────┼─────────────────┤\n",
              "│ dense_3 (\u001b[38;5;33mDense\u001b[0m)                      │ (\u001b[38;5;45mNone\u001b[0m, \u001b[38;5;34m1\u001b[0m)                   │               \u001b[38;5;34m9\u001b[0m │\n",
              "└──────────────────────────────────────┴─────────────────────────────┴─────────────────┘\n"
            ],
            "text/html": [
              "<pre style=\"white-space:pre;overflow-x:auto;line-height:normal;font-family:Menlo,'DejaVu Sans Mono',consolas,'Courier New',monospace\">┏━━━━━━━━━━━━━━━━━━━━━━━━━━━━━━━━━━━━━━┳━━━━━━━━━━━━━━━━━━━━━━━━━━━━━┳━━━━━━━━━━━━━━━━━┓\n",
              "┃<span style=\"font-weight: bold\"> Layer (type)                         </span>┃<span style=\"font-weight: bold\"> Output Shape                </span>┃<span style=\"font-weight: bold\">         Param # </span>┃\n",
              "┡━━━━━━━━━━━━━━━━━━━━━━━━━━━━━━━━━━━━━━╇━━━━━━━━━━━━━━━━━━━━━━━━━━━━━╇━━━━━━━━━━━━━━━━━┩\n",
              "│ dense_2 (<span style=\"color: #0087ff; text-decoration-color: #0087ff\">Dense</span>)                      │ (<span style=\"color: #00d7ff; text-decoration-color: #00d7ff\">None</span>, <span style=\"color: #00af00; text-decoration-color: #00af00\">8</span>)                   │              <span style=\"color: #00af00; text-decoration-color: #00af00\">88</span> │\n",
              "├──────────────────────────────────────┼─────────────────────────────┼─────────────────┤\n",
              "│ dense_3 (<span style=\"color: #0087ff; text-decoration-color: #0087ff\">Dense</span>)                      │ (<span style=\"color: #00d7ff; text-decoration-color: #00d7ff\">None</span>, <span style=\"color: #00af00; text-decoration-color: #00af00\">1</span>)                   │               <span style=\"color: #00af00; text-decoration-color: #00af00\">9</span> │\n",
              "└──────────────────────────────────────┴─────────────────────────────┴─────────────────┘\n",
              "</pre>\n"
            ]
          },
          "metadata": {}
        },
        {
          "output_type": "display_data",
          "data": {
            "text/plain": [
              "\u001b[1m Total params: \u001b[0m\u001b[38;5;34m97\u001b[0m (388.00 B)\n"
            ],
            "text/html": [
              "<pre style=\"white-space:pre;overflow-x:auto;line-height:normal;font-family:Menlo,'DejaVu Sans Mono',consolas,'Courier New',monospace\"><span style=\"font-weight: bold\"> Total params: </span><span style=\"color: #00af00; text-decoration-color: #00af00\">97</span> (388.00 B)\n",
              "</pre>\n"
            ]
          },
          "metadata": {}
        },
        {
          "output_type": "display_data",
          "data": {
            "text/plain": [
              "\u001b[1m Trainable params: \u001b[0m\u001b[38;5;34m97\u001b[0m (388.00 B)\n"
            ],
            "text/html": [
              "<pre style=\"white-space:pre;overflow-x:auto;line-height:normal;font-family:Menlo,'DejaVu Sans Mono',consolas,'Courier New',monospace\"><span style=\"font-weight: bold\"> Trainable params: </span><span style=\"color: #00af00; text-decoration-color: #00af00\">97</span> (388.00 B)\n",
              "</pre>\n"
            ]
          },
          "metadata": {}
        },
        {
          "output_type": "display_data",
          "data": {
            "text/plain": [
              "\u001b[1m Non-trainable params: \u001b[0m\u001b[38;5;34m0\u001b[0m (0.00 B)\n"
            ],
            "text/html": [
              "<pre style=\"white-space:pre;overflow-x:auto;line-height:normal;font-family:Menlo,'DejaVu Sans Mono',consolas,'Courier New',monospace\"><span style=\"font-weight: bold\"> Non-trainable params: </span><span style=\"color: #00af00; text-decoration-color: #00af00\">0</span> (0.00 B)\n",
              "</pre>\n"
            ]
          },
          "metadata": {}
        }
      ]
    },
    {
      "cell_type": "markdown",
      "source": [
        "### <a name='a2'></a>Kompilacja modelu\n",
        "Przed rozpoczęciem trenowania sieci należy odpowiednio skonfigurować proces uczenia. W tym kroku określamy:\n",
        "* rodzaj optymalizatora ([Keras - Optymalizatory](https://keras.io/optimizers/))\n",
        "* funkcję straty ([Keras - Funkcje Straty](https://keras.io/losses/))\n",
        "* metryki, które będziemy obserwować podczas trenowania sieci ([Keras - Metryki](https://keras.io/metrics/))"
      ],
      "metadata": {
        "id": "cLt7u0dOg8Q5"
      }
    },
    {
      "cell_type": "code",
      "source": [
        "# klasyfikacja binarna\n",
        "model.compile(optimizer='rmsprop',\n",
        "              loss='binary_crossentropy',\n",
        "              metrics=['accuracy'])\n",
        "\n",
        "# klasyfikacja wieloklasowa\n",
        "model.compile(optimizer='rmsprop',\n",
        "              loss='categorical_crossentropy',\n",
        "              metrics=['accuracy'])\n",
        "\n",
        "# regresja\n",
        "model.compile(optimizer='rmsprop',\n",
        "              loss='mse')"
      ],
      "metadata": {
        "id": "vHdoXvnHg915"
      },
      "execution_count": 15,
      "outputs": []
    },
    {
      "cell_type": "markdown",
      "source": [
        "### <a name='a3'></a>Trenowanie modelu\n",
        "Za dane wejściowe do modelu należy przekazać Numpy arrays:\n",
        "* **epochs** - krotność przejścia danych przez sieć w procesie uczenia\n",
        "* **batch_size** - rozmiar wsadu po którym następuje aktualizacja wag\n",
        "* **validation_split** - część danych treningowych, które zostaną wykorzystane jako zbiór walidacyjny\n",
        "* **validation_data** - (x_val, y_val) - dane wykorzystane do walidacji modelu"
      ],
      "metadata": {
        "id": "dFT6YEC2hCHg"
      }
    },
    {
      "cell_type": "code",
      "source": [
        "# model.fit(data, labels, epochs=10, batch_size=32)\n",
        "# model.fit(data, labels, epochs=10, batch_size=32, validation_split=0.2)\n",
        "# model.fit(data, labels, epochs=10, batch_size=32, validation_data=(x_val, y_val))"
      ],
      "metadata": {
        "id": "62henWIyhD0p"
      },
      "execution_count": null,
      "outputs": []
    },
    {
      "cell_type": "markdown",
      "source": [
        "### <a name='a4'></a> Przykład - klasyfikacja binarna"
      ],
      "metadata": {
        "id": "lo21fuM1hGpB"
      }
    },
    {
      "cell_type": "code",
      "source": [
        "data = np.random.randn(1000, 150)\n",
        "labels = np.random.randint(2, size=(1000, 1))\n",
        "\n",
        "print(data.shape)\n",
        "print(labels.shape)"
      ],
      "metadata": {
        "colab": {
          "base_uri": "https://localhost:8080/"
        },
        "id": "uwCgju5mhGbJ",
        "outputId": "736ea9bb-63fc-4ee9-abad-77e3bddb09de"
      },
      "execution_count": 16,
      "outputs": [
        {
          "output_type": "stream",
          "name": "stdout",
          "text": [
            "(1000, 150)\n",
            "(1000, 1)\n"
          ]
        }
      ]
    },
    {
      "cell_type": "markdown",
      "source": [
        "Wyjaśnienie krok po kroku:\n",
        "\n",
        "np.random.randint(2, size=(1000, 1)): Ta część kodu używa funkcji np.random.randint z biblioteki NumPy do generowania liczb losowych.\n",
        "2: Argument ten określa, że liczby losowe będą generowane z zakresu od 0 do 1 (włącznie). W klasyfikacji binarnej zazwyczaj używa się 0 i 1 do reprezentowania dwóch klas.\n",
        "size=(1000, 1): Ten argument określa rozmiar tablicy, która ma zostać utworzona. W tym przypadku zostanie utworzona tablica o wymiarach 1000 wierszy i 1 kolumnie. Oznacza to, że zostanie wygenerowanych 1000 etykiet.\n",
        "labels = ...: Wygenerowana tablica liczb losowych jest przypisywana do zmiennej labels."
      ],
      "metadata": {
        "id": "AdS-knCzhtnq"
      }
    },
    {
      "cell_type": "code",
      "source": [
        "labels[:10]"
      ],
      "metadata": {
        "colab": {
          "base_uri": "https://localhost:8080/"
        },
        "id": "lyr3OY9NhxUd",
        "outputId": "114a4315-31fe-4564-9626-39a05c394a06"
      },
      "execution_count": 17,
      "outputs": [
        {
          "output_type": "execute_result",
          "data": {
            "text/plain": [
              "array([[0],\n",
              "       [0],\n",
              "       [1],\n",
              "       [1],\n",
              "       [1],\n",
              "       [1],\n",
              "       [0],\n",
              "       [0],\n",
              "       [0],\n",
              "       [1]])"
            ]
          },
          "metadata": {},
          "execution_count": 17
        }
      ]
    },
    {
      "cell_type": "code",
      "source": [
        "model = Sequential()\n",
        "model.add(Dense(units=32, activation='relu', input_shape=(150,)))\n",
        "model.add(Dense(1, activation='sigmoid'))\n",
        "\n",
        "model.compile(optimizer='rmsprop',\n",
        "              loss='binary_crossentropy',\n",
        "              metrics=['accuracy'])\n",
        "\n",
        "model.fit(data, labels, epochs=20)"
      ],
      "metadata": {
        "colab": {
          "base_uri": "https://localhost:8080/"
        },
        "id": "iY9yL5Ywh0e9",
        "outputId": "895bc5d4-4560-47ca-8d18-9ad514763946"
      },
      "execution_count": 18,
      "outputs": [
        {
          "output_type": "stream",
          "name": "stdout",
          "text": [
            "Epoch 1/20\n",
            "\u001b[1m32/32\u001b[0m \u001b[32m━━━━━━━━━━━━━━━━━━━━\u001b[0m\u001b[37m\u001b[0m \u001b[1m1s\u001b[0m 2ms/step - accuracy: 0.4960 - loss: 0.7900   \n",
            "Epoch 2/20\n",
            "\u001b[1m32/32\u001b[0m \u001b[32m━━━━━━━━━━━━━━━━━━━━\u001b[0m\u001b[37m\u001b[0m \u001b[1m0s\u001b[0m 2ms/step - accuracy: 0.5632 - loss: 0.6945\n",
            "Epoch 3/20\n",
            "\u001b[1m32/32\u001b[0m \u001b[32m━━━━━━━━━━━━━━━━━━━━\u001b[0m\u001b[37m\u001b[0m \u001b[1m0s\u001b[0m 1ms/step - accuracy: 0.6464 - loss: 0.6313 \n",
            "Epoch 4/20\n",
            "\u001b[1m32/32\u001b[0m \u001b[32m━━━━━━━━━━━━━━━━━━━━\u001b[0m\u001b[37m\u001b[0m \u001b[1m0s\u001b[0m 1ms/step - accuracy: 0.6753 - loss: 0.6071 \n",
            "Epoch 5/20\n",
            "\u001b[1m32/32\u001b[0m \u001b[32m━━━━━━━━━━━━━━━━━━━━\u001b[0m\u001b[37m\u001b[0m \u001b[1m0s\u001b[0m 2ms/step - accuracy: 0.7160 - loss: 0.5720\n",
            "Epoch 6/20\n",
            "\u001b[1m32/32\u001b[0m \u001b[32m━━━━━━━━━━━━━━━━━━━━\u001b[0m\u001b[37m\u001b[0m \u001b[1m0s\u001b[0m 2ms/step - accuracy: 0.7710 - loss: 0.5349\n",
            "Epoch 7/20\n",
            "\u001b[1m32/32\u001b[0m \u001b[32m━━━━━━━━━━━━━━━━━━━━\u001b[0m\u001b[37m\u001b[0m \u001b[1m0s\u001b[0m 2ms/step - accuracy: 0.7817 - loss: 0.5118 \n",
            "Epoch 8/20\n",
            "\u001b[1m32/32\u001b[0m \u001b[32m━━━━━━━━━━━━━━━━━━━━\u001b[0m\u001b[37m\u001b[0m \u001b[1m0s\u001b[0m 2ms/step - accuracy: 0.7843 - loss: 0.4936 \n",
            "Epoch 9/20\n",
            "\u001b[1m32/32\u001b[0m \u001b[32m━━━━━━━━━━━━━━━━━━━━\u001b[0m\u001b[37m\u001b[0m \u001b[1m0s\u001b[0m 2ms/step - accuracy: 0.8198 - loss: 0.4657 \n",
            "Epoch 10/20\n",
            "\u001b[1m32/32\u001b[0m \u001b[32m━━━━━━━━━━━━━━━━━━━━\u001b[0m\u001b[37m\u001b[0m \u001b[1m0s\u001b[0m 1ms/step - accuracy: 0.8390 - loss: 0.4415 \n",
            "Epoch 11/20\n",
            "\u001b[1m32/32\u001b[0m \u001b[32m━━━━━━━━━━━━━━━━━━━━\u001b[0m\u001b[37m\u001b[0m \u001b[1m0s\u001b[0m 1ms/step - accuracy: 0.8565 - loss: 0.4223 \n",
            "Epoch 12/20\n",
            "\u001b[1m32/32\u001b[0m \u001b[32m━━━━━━━━━━━━━━━━━━━━\u001b[0m\u001b[37m\u001b[0m \u001b[1m0s\u001b[0m 1ms/step - accuracy: 0.8510 - loss: 0.4121 \n",
            "Epoch 13/20\n",
            "\u001b[1m32/32\u001b[0m \u001b[32m━━━━━━━━━━━━━━━━━━━━\u001b[0m\u001b[37m\u001b[0m \u001b[1m0s\u001b[0m 2ms/step - accuracy: 0.8670 - loss: 0.3900\n",
            "Epoch 14/20\n",
            "\u001b[1m32/32\u001b[0m \u001b[32m━━━━━━━━━━━━━━━━━━━━\u001b[0m\u001b[37m\u001b[0m \u001b[1m0s\u001b[0m 2ms/step - accuracy: 0.8668 - loss: 0.3754\n",
            "Epoch 15/20\n",
            "\u001b[1m32/32\u001b[0m \u001b[32m━━━━━━━━━━━━━━━━━━━━\u001b[0m\u001b[37m\u001b[0m \u001b[1m0s\u001b[0m 1ms/step - accuracy: 0.9142 - loss: 0.3478 \n",
            "Epoch 16/20\n",
            "\u001b[1m32/32\u001b[0m \u001b[32m━━━━━━━━━━━━━━━━━━━━\u001b[0m\u001b[37m\u001b[0m \u001b[1m0s\u001b[0m 2ms/step - accuracy: 0.9150 - loss: 0.3228 \n",
            "Epoch 17/20\n",
            "\u001b[1m32/32\u001b[0m \u001b[32m━━━━━━━━━━━━━━━━━━━━\u001b[0m\u001b[37m\u001b[0m \u001b[1m0s\u001b[0m 2ms/step - accuracy: 0.9407 - loss: 0.2942 \n",
            "Epoch 18/20\n",
            "\u001b[1m32/32\u001b[0m \u001b[32m━━━━━━━━━━━━━━━━━━━━\u001b[0m\u001b[37m\u001b[0m \u001b[1m0s\u001b[0m 2ms/step - accuracy: 0.9545 - loss: 0.2851 \n",
            "Epoch 19/20\n",
            "\u001b[1m32/32\u001b[0m \u001b[32m━━━━━━━━━━━━━━━━━━━━\u001b[0m\u001b[37m\u001b[0m \u001b[1m0s\u001b[0m 2ms/step - accuracy: 0.9586 - loss: 0.2733 \n",
            "Epoch 20/20\n",
            "\u001b[1m32/32\u001b[0m \u001b[32m━━━━━━━━━━━━━━━━━━━━\u001b[0m\u001b[37m\u001b[0m \u001b[1m0s\u001b[0m 3ms/step - accuracy: 0.9642 - loss: 0.2467\n"
          ]
        },
        {
          "output_type": "execute_result",
          "data": {
            "text/plain": [
              "<keras.src.callbacks.history.History at 0x7a18305e9780>"
            ]
          },
          "metadata": {},
          "execution_count": 18
        }
      ]
    },
    {
      "cell_type": "code",
      "source": [
        "model = Sequential()\n",
        "model.add(Dense(units=32, activation='relu', input_shape=(150,)))\n",
        "model.add(Dense(1, activation='sigmoid'))\n",
        "\n",
        "model.compile(optimizer='rmsprop',\n",
        "              loss='binary_crossentropy',\n",
        "              metrics=['accuracy'])\n",
        "\n",
        "model.fit(data, labels, epochs=20, batch_size=30) # po 30stej próbce będzie walidacja wagi"
      ],
      "metadata": {
        "colab": {
          "base_uri": "https://localhost:8080/"
        },
        "id": "mFZddGkyh-cj",
        "outputId": "0764eced-5100-4702-94b5-7cd4ffb3c8d3"
      },
      "execution_count": 19,
      "outputs": [
        {
          "output_type": "stream",
          "name": "stdout",
          "text": [
            "Epoch 1/20\n",
            "\u001b[1m34/34\u001b[0m \u001b[32m━━━━━━━━━━━━━━━━━━━━\u001b[0m\u001b[37m\u001b[0m \u001b[1m1s\u001b[0m 1ms/step - accuracy: 0.4766 - loss: 0.8543   \n",
            "Epoch 2/20\n",
            "\u001b[1m34/34\u001b[0m \u001b[32m━━━━━━━━━━━━━━━━━━━━\u001b[0m\u001b[37m\u001b[0m \u001b[1m0s\u001b[0m 1ms/step - accuracy: 0.5623 - loss: 0.7172 \n",
            "Epoch 3/20\n",
            "\u001b[1m34/34\u001b[0m \u001b[32m━━━━━━━━━━━━━━━━━━━━\u001b[0m\u001b[37m\u001b[0m \u001b[1m0s\u001b[0m 1ms/step - accuracy: 0.6180 - loss: 0.6534 \n",
            "Epoch 4/20\n",
            "\u001b[1m34/34\u001b[0m \u001b[32m━━━━━━━━━━━━━━━━━━━━\u001b[0m\u001b[37m\u001b[0m \u001b[1m0s\u001b[0m 1ms/step - accuracy: 0.6932 - loss: 0.5857 \n",
            "Epoch 5/20\n",
            "\u001b[1m34/34\u001b[0m \u001b[32m━━━━━━━━━━━━━━━━━━━━\u001b[0m\u001b[37m\u001b[0m \u001b[1m0s\u001b[0m 2ms/step - accuracy: 0.7132 - loss: 0.5670 \n",
            "Epoch 6/20\n",
            "\u001b[1m34/34\u001b[0m \u001b[32m━━━━━━━━━━━━━━━━━━━━\u001b[0m\u001b[37m\u001b[0m \u001b[1m0s\u001b[0m 2ms/step - accuracy: 0.7373 - loss: 0.5348 \n",
            "Epoch 7/20\n",
            "\u001b[1m34/34\u001b[0m \u001b[32m━━━━━━━━━━━━━━━━━━━━\u001b[0m\u001b[37m\u001b[0m \u001b[1m0s\u001b[0m 3ms/step - accuracy: 0.7784 - loss: 0.5074\n",
            "Epoch 8/20\n",
            "\u001b[1m34/34\u001b[0m \u001b[32m━━━━━━━━━━━━━━━━━━━━\u001b[0m\u001b[37m\u001b[0m \u001b[1m0s\u001b[0m 1ms/step - accuracy: 0.7940 - loss: 0.4871 \n",
            "Epoch 9/20\n",
            "\u001b[1m34/34\u001b[0m \u001b[32m━━━━━━━━━━━━━━━━━━━━\u001b[0m\u001b[37m\u001b[0m \u001b[1m0s\u001b[0m 1ms/step - accuracy: 0.8336 - loss: 0.4503 \n",
            "Epoch 10/20\n",
            "\u001b[1m34/34\u001b[0m \u001b[32m━━━━━━━━━━━━━━━━━━━━\u001b[0m\u001b[37m\u001b[0m \u001b[1m0s\u001b[0m 2ms/step - accuracy: 0.8584 - loss: 0.4161 \n",
            "Epoch 11/20\n",
            "\u001b[1m34/34\u001b[0m \u001b[32m━━━━━━━━━━━━━━━━━━━━\u001b[0m\u001b[37m\u001b[0m \u001b[1m0s\u001b[0m 1ms/step - accuracy: 0.8717 - loss: 0.4020 \n",
            "Epoch 12/20\n",
            "\u001b[1m34/34\u001b[0m \u001b[32m━━━━━━━━━━━━━━━━━━━━\u001b[0m\u001b[37m\u001b[0m \u001b[1m0s\u001b[0m 2ms/step - accuracy: 0.8841 - loss: 0.3849 \n",
            "Epoch 13/20\n",
            "\u001b[1m34/34\u001b[0m \u001b[32m━━━━━━━━━━━━━━━━━━━━\u001b[0m\u001b[37m\u001b[0m \u001b[1m0s\u001b[0m 2ms/step - accuracy: 0.9165 - loss: 0.3537 \n",
            "Epoch 14/20\n",
            "\u001b[1m34/34\u001b[0m \u001b[32m━━━━━━━━━━━━━━━━━━━━\u001b[0m\u001b[37m\u001b[0m \u001b[1m0s\u001b[0m 1ms/step - accuracy: 0.9156 - loss: 0.3404 \n",
            "Epoch 15/20\n",
            "\u001b[1m34/34\u001b[0m \u001b[32m━━━━━━━━━━━━━━━━━━━━\u001b[0m\u001b[37m\u001b[0m \u001b[1m0s\u001b[0m 3ms/step - accuracy: 0.9327 - loss: 0.3178\n",
            "Epoch 16/20\n",
            "\u001b[1m34/34\u001b[0m \u001b[32m━━━━━━━━━━━━━━━━━━━━\u001b[0m\u001b[37m\u001b[0m \u001b[1m0s\u001b[0m 1ms/step - accuracy: 0.9402 - loss: 0.3139 \n",
            "Epoch 17/20\n",
            "\u001b[1m34/34\u001b[0m \u001b[32m━━━━━━━━━━━━━━━━━━━━\u001b[0m\u001b[37m\u001b[0m \u001b[1m0s\u001b[0m 1ms/step - accuracy: 0.9589 - loss: 0.2656 \n",
            "Epoch 18/20\n",
            "\u001b[1m34/34\u001b[0m \u001b[32m━━━━━━━━━━━━━━━━━━━━\u001b[0m\u001b[37m\u001b[0m \u001b[1m0s\u001b[0m 1ms/step - accuracy: 0.9680 - loss: 0.2493 \n",
            "Epoch 19/20\n",
            "\u001b[1m34/34\u001b[0m \u001b[32m━━━━━━━━━━━━━━━━━━━━\u001b[0m\u001b[37m\u001b[0m \u001b[1m0s\u001b[0m 2ms/step - accuracy: 0.9762 - loss: 0.2430 \n",
            "Epoch 20/20\n",
            "\u001b[1m34/34\u001b[0m \u001b[32m━━━━━━━━━━━━━━━━━━━━\u001b[0m\u001b[37m\u001b[0m \u001b[1m0s\u001b[0m 1ms/step - accuracy: 0.9770 - loss: 0.2206 \n"
          ]
        },
        {
          "output_type": "execute_result",
          "data": {
            "text/plain": [
              "<keras.src.callbacks.history.History at 0x7a1830448b20>"
            ]
          },
          "metadata": {},
          "execution_count": 19
        }
      ]
    },
    {
      "cell_type": "code",
      "source": [
        "model = Sequential()\n",
        "model.add(Dense(units=32, activation='relu', input_shape=(150,)))\n",
        "model.add(Dense(1, activation='sigmoid'))\n",
        "\n",
        "model.compile(optimizer='rmsprop',\n",
        "              loss='binary_crossentropy',\n",
        "              metrics=['accuracy'])\n",
        "\n",
        "model.fit(data, labels, epochs=20, batch_size=32, validation_split=0.2)\n",
        "# 0,2 => dane do testów / 0,8 dane do nauki"
      ],
      "metadata": {
        "colab": {
          "base_uri": "https://localhost:8080/"
        },
        "id": "xLQ9sEYbiTKL",
        "outputId": "6cdc4cac-bbc1-47e2-ed20-45a6ea1d3773"
      },
      "execution_count": 20,
      "outputs": [
        {
          "output_type": "stream",
          "name": "stdout",
          "text": [
            "Epoch 1/20\n",
            "\u001b[1m25/25\u001b[0m \u001b[32m━━━━━━━━━━━━━━━━━━━━\u001b[0m\u001b[37m\u001b[0m \u001b[1m1s\u001b[0m 10ms/step - accuracy: 0.4674 - loss: 0.8464 - val_accuracy: 0.5700 - val_loss: 0.7547\n",
            "Epoch 2/20\n",
            "\u001b[1m25/25\u001b[0m \u001b[32m━━━━━━━━━━━━━━━━━━━━\u001b[0m\u001b[37m\u001b[0m \u001b[1m0s\u001b[0m 3ms/step - accuracy: 0.5608 - loss: 0.7372 - val_accuracy: 0.5550 - val_loss: 0.7496\n",
            "Epoch 3/20\n",
            "\u001b[1m25/25\u001b[0m \u001b[32m━━━━━━━━━━━━━━━━━━━━\u001b[0m\u001b[37m\u001b[0m \u001b[1m0s\u001b[0m 3ms/step - accuracy: 0.6185 - loss: 0.6537 - val_accuracy: 0.5400 - val_loss: 0.7493\n",
            "Epoch 4/20\n",
            "\u001b[1m25/25\u001b[0m \u001b[32m━━━━━━━━━━━━━━━━━━━━\u001b[0m\u001b[37m\u001b[0m \u001b[1m0s\u001b[0m 3ms/step - accuracy: 0.6731 - loss: 0.6051 - val_accuracy: 0.5450 - val_loss: 0.7541\n",
            "Epoch 5/20\n",
            "\u001b[1m25/25\u001b[0m \u001b[32m━━━━━━━━━━━━━━━━━━━━\u001b[0m\u001b[37m\u001b[0m \u001b[1m0s\u001b[0m 3ms/step - accuracy: 0.6887 - loss: 0.5669 - val_accuracy: 0.5200 - val_loss: 0.7613\n",
            "Epoch 6/20\n",
            "\u001b[1m25/25\u001b[0m \u001b[32m━━━━━━━━━━━━━━━━━━━━\u001b[0m\u001b[37m\u001b[0m \u001b[1m0s\u001b[0m 3ms/step - accuracy: 0.7248 - loss: 0.5367 - val_accuracy: 0.5150 - val_loss: 0.7708\n",
            "Epoch 7/20\n",
            "\u001b[1m25/25\u001b[0m \u001b[32m━━━━━━━━━━━━━━━━━━━━\u001b[0m\u001b[37m\u001b[0m \u001b[1m0s\u001b[0m 3ms/step - accuracy: 0.7434 - loss: 0.5162 - val_accuracy: 0.5350 - val_loss: 0.7820\n",
            "Epoch 8/20\n",
            "\u001b[1m25/25\u001b[0m \u001b[32m━━━━━━━━━━━━━━━━━━━━\u001b[0m\u001b[37m\u001b[0m \u001b[1m0s\u001b[0m 3ms/step - accuracy: 0.8255 - loss: 0.4558 - val_accuracy: 0.5300 - val_loss: 0.7915\n",
            "Epoch 9/20\n",
            "\u001b[1m25/25\u001b[0m \u001b[32m━━━━━━━━━━━━━━━━━━━━\u001b[0m\u001b[37m\u001b[0m \u001b[1m0s\u001b[0m 3ms/step - accuracy: 0.8504 - loss: 0.4277 - val_accuracy: 0.5350 - val_loss: 0.8044\n",
            "Epoch 10/20\n",
            "\u001b[1m25/25\u001b[0m \u001b[32m━━━━━━━━━━━━━━━━━━━━\u001b[0m\u001b[37m\u001b[0m \u001b[1m0s\u001b[0m 3ms/step - accuracy: 0.8757 - loss: 0.4057 - val_accuracy: 0.5400 - val_loss: 0.8148\n",
            "Epoch 11/20\n",
            "\u001b[1m25/25\u001b[0m \u001b[32m━━━━━━━━━━━━━━━━━━━━\u001b[0m\u001b[37m\u001b[0m \u001b[1m0s\u001b[0m 4ms/step - accuracy: 0.8983 - loss: 0.3803 - val_accuracy: 0.5250 - val_loss: 0.8292\n",
            "Epoch 12/20\n",
            "\u001b[1m25/25\u001b[0m \u001b[32m━━━━━━━━━━━━━━━━━━━━\u001b[0m\u001b[37m\u001b[0m \u001b[1m0s\u001b[0m 4ms/step - accuracy: 0.9205 - loss: 0.3609 - val_accuracy: 0.5300 - val_loss: 0.8428\n",
            "Epoch 13/20\n",
            "\u001b[1m25/25\u001b[0m \u001b[32m━━━━━━━━━━━━━━━━━━━━\u001b[0m\u001b[37m\u001b[0m \u001b[1m0s\u001b[0m 3ms/step - accuracy: 0.9011 - loss: 0.3523 - val_accuracy: 0.5300 - val_loss: 0.8551\n",
            "Epoch 14/20\n",
            "\u001b[1m25/25\u001b[0m \u001b[32m━━━━━━━━━━━━━━━━━━━━\u001b[0m\u001b[37m\u001b[0m \u001b[1m0s\u001b[0m 3ms/step - accuracy: 0.9233 - loss: 0.3265 - val_accuracy: 0.5300 - val_loss: 0.8675\n",
            "Epoch 15/20\n",
            "\u001b[1m25/25\u001b[0m \u001b[32m━━━━━━━━━━━━━━━━━━━━\u001b[0m\u001b[37m\u001b[0m \u001b[1m0s\u001b[0m 3ms/step - accuracy: 0.9512 - loss: 0.3006 - val_accuracy: 0.5150 - val_loss: 0.8819\n",
            "Epoch 16/20\n",
            "\u001b[1m25/25\u001b[0m \u001b[32m━━━━━━━━━━━━━━━━━━━━\u001b[0m\u001b[37m\u001b[0m \u001b[1m0s\u001b[0m 3ms/step - accuracy: 0.9538 - loss: 0.2836 - val_accuracy: 0.5150 - val_loss: 0.8994\n",
            "Epoch 17/20\n",
            "\u001b[1m25/25\u001b[0m \u001b[32m━━━━━━━━━━━━━━━━━━━━\u001b[0m\u001b[37m\u001b[0m \u001b[1m0s\u001b[0m 3ms/step - accuracy: 0.9643 - loss: 0.2650 - val_accuracy: 0.5250 - val_loss: 0.9130\n",
            "Epoch 18/20\n",
            "\u001b[1m25/25\u001b[0m \u001b[32m━━━━━━━━━━━━━━━━━━━━\u001b[0m\u001b[37m\u001b[0m \u001b[1m0s\u001b[0m 3ms/step - accuracy: 0.9748 - loss: 0.2475 - val_accuracy: 0.5150 - val_loss: 0.9302\n",
            "Epoch 19/20\n",
            "\u001b[1m25/25\u001b[0m \u001b[32m━━━━━━━━━━━━━━━━━━━━\u001b[0m\u001b[37m\u001b[0m \u001b[1m0s\u001b[0m 3ms/step - accuracy: 0.9810 - loss: 0.2237 - val_accuracy: 0.5150 - val_loss: 0.9481\n",
            "Epoch 20/20\n",
            "\u001b[1m25/25\u001b[0m \u001b[32m━━━━━━━━━━━━━━━━━━━━\u001b[0m\u001b[37m\u001b[0m \u001b[1m0s\u001b[0m 3ms/step - accuracy: 0.9935 - loss: 0.2008 - val_accuracy: 0.5300 - val_loss: 0.9682\n"
          ]
        },
        {
          "output_type": "execute_result",
          "data": {
            "text/plain": [
              "<keras.src.callbacks.history.History at 0x7a182360e8c0>"
            ]
          },
          "metadata": {},
          "execution_count": 20
        }
      ]
    },
    {
      "cell_type": "code",
      "source": [
        "model = Sequential()\n",
        "model.add(Dense(units=32, activation='relu', input_shape=(150,)))\n",
        "model.add(Dense(1, activation='sigmoid'))\n",
        "\n",
        "model.compile(optimizer='rmsprop',\n",
        "              loss='binary_crossentropy',\n",
        "              metrics=['accuracy'])\n",
        "\n",
        "model.fit(data, labels, epochs=20, batch_size=32, validation_split=0.2, verbose=0)"
      ],
      "metadata": {
        "colab": {
          "base_uri": "https://localhost:8080/"
        },
        "id": "sEupap_NifSX",
        "outputId": "e5fa8e2b-2105-473c-80a6-230eda6cfc24"
      },
      "execution_count": 21,
      "outputs": [
        {
          "output_type": "execute_result",
          "data": {
            "text/plain": [
              "<keras.src.callbacks.history.History at 0x7a183079bf70>"
            ]
          },
          "metadata": {},
          "execution_count": 21
        }
      ]
    },
    {
      "cell_type": "code",
      "source": [
        "model = Sequential()\n",
        "model.add(Dense(units=32, activation='relu', input_shape=(150,)))\n",
        "model.add(Dense(1, activation='sigmoid'))\n",
        "\n",
        "model.compile(optimizer='rmsprop',\n",
        "              loss='binary_crossentropy',\n",
        "              metrics=['accuracy'])\n",
        "\n",
        "history = model.fit(data, labels, epochs=20, batch_size=32, validation_split=0.2, verbose=0)"
      ],
      "metadata": {
        "id": "iwdBEQEoik_U"
      },
      "execution_count": 22,
      "outputs": []
    },
    {
      "cell_type": "markdown",
      "source": [
        "Przypisanie do zmiennej *histiry* . Daje nam możliwość sprawdzenia dodatkowych danych"
      ],
      "metadata": {
        "id": "HL6Cog0xipMn"
      }
    },
    {
      "cell_type": "code",
      "source": [
        "metrics = history.history\n",
        "metrics.keys()"
      ],
      "metadata": {
        "colab": {
          "base_uri": "https://localhost:8080/"
        },
        "id": "FBAyzkOfiobe",
        "outputId": "6bf3dfa1-dd6c-437b-a993-fd7913101ac4"
      },
      "execution_count": 23,
      "outputs": [
        {
          "output_type": "execute_result",
          "data": {
            "text/plain": [
              "dict_keys(['accuracy', 'loss', 'val_accuracy', 'val_loss'])"
            ]
          },
          "metadata": {},
          "execution_count": 23
        }
      ]
    },
    {
      "cell_type": "code",
      "source": [
        "model = Sequential()\n",
        "model.add(Dense(units=32, activation='relu', input_shape=(150,)))\n",
        "model.add(Dense(1, activation='sigmoid'))\n",
        "\n",
        "model.compile(optimizer='rmsprop',\n",
        "              loss='binary_crossentropy',\n",
        "              metrics=['accuracy'])\n",
        "\n",
        "history = model.fit(data, labels, epochs=20, batch_size=32, validation_split=0.2, verbose=1)"
      ],
      "metadata": {
        "colab": {
          "base_uri": "https://localhost:8080/"
        },
        "id": "TKOfwHQdi3in",
        "outputId": "08886f4b-b88a-49fb-dd96-a454a39f6682"
      },
      "execution_count": 24,
      "outputs": [
        {
          "output_type": "stream",
          "name": "stdout",
          "text": [
            "Epoch 1/20\n",
            "\u001b[1m25/25\u001b[0m \u001b[32m━━━━━━━━━━━━━━━━━━━━\u001b[0m\u001b[37m\u001b[0m \u001b[1m1s\u001b[0m 10ms/step - accuracy: 0.5076 - loss: 0.8274 - val_accuracy: 0.5100 - val_loss: 0.7527\n",
            "Epoch 2/20\n",
            "\u001b[1m25/25\u001b[0m \u001b[32m━━━━━━━━━━━━━━━━━━━━\u001b[0m\u001b[37m\u001b[0m \u001b[1m0s\u001b[0m 3ms/step - accuracy: 0.5559 - loss: 0.7090 - val_accuracy: 0.5350 - val_loss: 0.7379\n",
            "Epoch 3/20\n",
            "\u001b[1m25/25\u001b[0m \u001b[32m━━━━━━━━━━━━━━━━━━━━\u001b[0m\u001b[37m\u001b[0m \u001b[1m0s\u001b[0m 3ms/step - accuracy: 0.6364 - loss: 0.6637 - val_accuracy: 0.5350 - val_loss: 0.7330\n",
            "Epoch 4/20\n",
            "\u001b[1m25/25\u001b[0m \u001b[32m━━━━━━━━━━━━━━━━━━━━\u001b[0m\u001b[37m\u001b[0m \u001b[1m0s\u001b[0m 3ms/step - accuracy: 0.6722 - loss: 0.6135 - val_accuracy: 0.5200 - val_loss: 0.7310\n",
            "Epoch 5/20\n",
            "\u001b[1m25/25\u001b[0m \u001b[32m━━━━━━━━━━━━━━━━━━━━\u001b[0m\u001b[37m\u001b[0m \u001b[1m0s\u001b[0m 3ms/step - accuracy: 0.7165 - loss: 0.5692 - val_accuracy: 0.5500 - val_loss: 0.7311\n",
            "Epoch 6/20\n",
            "\u001b[1m25/25\u001b[0m \u001b[32m━━━━━━━━━━━━━━━━━━━━\u001b[0m\u001b[37m\u001b[0m \u001b[1m0s\u001b[0m 3ms/step - accuracy: 0.7188 - loss: 0.5661 - val_accuracy: 0.5350 - val_loss: 0.7337\n",
            "Epoch 7/20\n",
            "\u001b[1m25/25\u001b[0m \u001b[32m━━━━━━━━━━━━━━━━━━━━\u001b[0m\u001b[37m\u001b[0m \u001b[1m0s\u001b[0m 3ms/step - accuracy: 0.7900 - loss: 0.5191 - val_accuracy: 0.5500 - val_loss: 0.7394\n",
            "Epoch 8/20\n",
            "\u001b[1m25/25\u001b[0m \u001b[32m━━━━━━━━━━━━━━━━━━━━\u001b[0m\u001b[37m\u001b[0m \u001b[1m0s\u001b[0m 3ms/step - accuracy: 0.8195 - loss: 0.4911 - val_accuracy: 0.5450 - val_loss: 0.7451\n",
            "Epoch 9/20\n",
            "\u001b[1m25/25\u001b[0m \u001b[32m━━━━━━━━━━━━━━━━━━━━\u001b[0m\u001b[37m\u001b[0m \u001b[1m0s\u001b[0m 4ms/step - accuracy: 0.8120 - loss: 0.4708 - val_accuracy: 0.5600 - val_loss: 0.7505\n",
            "Epoch 10/20\n",
            "\u001b[1m25/25\u001b[0m \u001b[32m━━━━━━━━━━━━━━━━━━━━\u001b[0m\u001b[37m\u001b[0m \u001b[1m0s\u001b[0m 3ms/step - accuracy: 0.8316 - loss: 0.4558 - val_accuracy: 0.5450 - val_loss: 0.7584\n",
            "Epoch 11/20\n",
            "\u001b[1m25/25\u001b[0m \u001b[32m━━━━━━━━━━━━━━━━━━━━\u001b[0m\u001b[37m\u001b[0m \u001b[1m0s\u001b[0m 3ms/step - accuracy: 0.8726 - loss: 0.4155 - val_accuracy: 0.5400 - val_loss: 0.7662\n",
            "Epoch 12/20\n",
            "\u001b[1m25/25\u001b[0m \u001b[32m━━━━━━━━━━━━━━━━━━━━\u001b[0m\u001b[37m\u001b[0m \u001b[1m0s\u001b[0m 3ms/step - accuracy: 0.8739 - loss: 0.4010 - val_accuracy: 0.5300 - val_loss: 0.7751\n",
            "Epoch 13/20\n",
            "\u001b[1m25/25\u001b[0m \u001b[32m━━━━━━━━━━━━━━━━━━━━\u001b[0m\u001b[37m\u001b[0m \u001b[1m0s\u001b[0m 3ms/step - accuracy: 0.8990 - loss: 0.3760 - val_accuracy: 0.5350 - val_loss: 0.7838\n",
            "Epoch 14/20\n",
            "\u001b[1m25/25\u001b[0m \u001b[32m━━━━━━━━━━━━━━━━━━━━\u001b[0m\u001b[37m\u001b[0m \u001b[1m0s\u001b[0m 3ms/step - accuracy: 0.9213 - loss: 0.3519 - val_accuracy: 0.5400 - val_loss: 0.7936\n",
            "Epoch 15/20\n",
            "\u001b[1m25/25\u001b[0m \u001b[32m━━━━━━━━━━━━━━━━━━━━\u001b[0m\u001b[37m\u001b[0m \u001b[1m0s\u001b[0m 3ms/step - accuracy: 0.9259 - loss: 0.3317 - val_accuracy: 0.5400 - val_loss: 0.8032\n",
            "Epoch 16/20\n",
            "\u001b[1m25/25\u001b[0m \u001b[32m━━━━━━━━━━━━━━━━━━━━\u001b[0m\u001b[37m\u001b[0m \u001b[1m0s\u001b[0m 3ms/step - accuracy: 0.9343 - loss: 0.3258 - val_accuracy: 0.5450 - val_loss: 0.8119\n",
            "Epoch 17/20\n",
            "\u001b[1m25/25\u001b[0m \u001b[32m━━━━━━━━━━━━━━━━━━━━\u001b[0m\u001b[37m\u001b[0m \u001b[1m0s\u001b[0m 3ms/step - accuracy: 0.9525 - loss: 0.2979 - val_accuracy: 0.5550 - val_loss: 0.8232\n",
            "Epoch 18/20\n",
            "\u001b[1m25/25\u001b[0m \u001b[32m━━━━━━━━━━━━━━━━━━━━\u001b[0m\u001b[37m\u001b[0m \u001b[1m0s\u001b[0m 3ms/step - accuracy: 0.9467 - loss: 0.2790 - val_accuracy: 0.5450 - val_loss: 0.8338\n",
            "Epoch 19/20\n",
            "\u001b[1m25/25\u001b[0m \u001b[32m━━━━━━━━━━━━━━━━━━━━\u001b[0m\u001b[37m\u001b[0m \u001b[1m0s\u001b[0m 3ms/step - accuracy: 0.9764 - loss: 0.2457 - val_accuracy: 0.5400 - val_loss: 0.8480\n",
            "Epoch 20/20\n",
            "\u001b[1m25/25\u001b[0m \u001b[32m━━━━━━━━━━━━━━━━━━━━\u001b[0m\u001b[37m\u001b[0m \u001b[1m0s\u001b[0m 4ms/step - accuracy: 0.9717 - loss: 0.2434 - val_accuracy: 0.5500 - val_loss: 0.8579\n"
          ]
        }
      ]
    },
    {
      "cell_type": "markdown",
      "source": [
        "GEnerujemy dane \"rzeczywiste\"."
      ],
      "metadata": {
        "id": "LF65qRGPjAHv"
      }
    },
    {
      "cell_type": "code",
      "source": [
        "test_data = np.random.randn(15, 150)\n",
        "test_labels = np.random.randint(2, size=(15, 1))"
      ],
      "metadata": {
        "id": "2O3Xrdl0jFh-"
      },
      "execution_count": 37,
      "outputs": []
    },
    {
      "cell_type": "markdown",
      "source": [
        "np.random.randint(2, ...): This part of the code uses the randint function from NumPy's random module to generate random integers.\n",
        "The argument 2 specifies that the integers should be drawn from the range 0 (inclusive) to 2 (exclusive). This means it will only generate 0 or 1.\n",
        "size=(5, 1): This argument specifies the shape of the output array. In this case, you're asking for an array with 5 rows and 1 column.\n",
        "\n",
        "\n",
        "\n",
        "```\n",
        "[[1]  \n",
        " [0]   \n",
        " [1]   \n",
        " [1]  \n",
        " [0]]\n",
        "```\n",
        "\n"
      ],
      "metadata": {
        "id": "0iggeuYmlZvi"
      }
    },
    {
      "cell_type": "code",
      "source": [
        "model.predict(test_data)"
      ],
      "metadata": {
        "colab": {
          "base_uri": "https://localhost:8080/"
        },
        "id": "zYYKz_vMjISn",
        "outputId": "b10e7461-4fb5-4df7-f74e-86235be09393"
      },
      "execution_count": 38,
      "outputs": [
        {
          "output_type": "stream",
          "name": "stdout",
          "text": [
            "\u001b[1m1/1\u001b[0m \u001b[32m━━━━━━━━━━━━━━━━━━━━\u001b[0m\u001b[37m\u001b[0m \u001b[1m0s\u001b[0m 49ms/step\n"
          ]
        },
        {
          "output_type": "execute_result",
          "data": {
            "text/plain": [
              "array([[0.12050517],\n",
              "       [0.86438787],\n",
              "       [0.6410461 ],\n",
              "       [0.5906817 ],\n",
              "       [0.3909368 ],\n",
              "       [0.8175948 ],\n",
              "       [0.9700837 ],\n",
              "       [0.20972787],\n",
              "       [0.28158206],\n",
              "       [0.6008485 ],\n",
              "       [0.58673954],\n",
              "       [0.22685274],\n",
              "       [0.7446513 ],\n",
              "       [0.9364303 ],\n",
              "       [0.06569249]], dtype=float32)"
            ]
          },
          "metadata": {},
          "execution_count": 38
        }
      ]
    },
    {
      "cell_type": "code",
      "source": [
        "# model.predict_proba(test_data)\n",
        "\n",
        "# Import necessary libraries\n",
        "from tensorflow import keras\n",
        "\n",
        "# Assuming your model is a binary classifier:\n",
        "predictions = model.predict(test_data)\n",
        "predicted_probabilities = predictions  # For binary classification, predictions are probabilities\n",
        "\n",
        "# If you have a multi-class classifier, and you need probabilities for each class:\n",
        "# and your model's output layer uses a softmax activation, you can access probabilities like this:\n",
        "# predicted_probabilities = predictions\n",
        "\n",
        "# If you need class labels, you can use argmax:\n",
        "predicted_labels = predictions.argmax(axis=1)\n",
        "\n",
        "print(predicted_probabilities)\n",
        "print(predicted_labels)\n",
        "# Note: This assumes your output layer uses 'sigmoid' for binary classification\n",
        "# or 'softmax' for multi-class classification. If not, adjust accordingly."
      ],
      "metadata": {
        "colab": {
          "base_uri": "https://localhost:8080/"
        },
        "id": "Ym3TAfywjL93",
        "outputId": "cb2957ad-2fd3-433f-93c5-47ca12afe154"
      },
      "execution_count": 47,
      "outputs": [
        {
          "output_type": "stream",
          "name": "stdout",
          "text": [
            "\u001b[1m1/1\u001b[0m \u001b[32m━━━━━━━━━━━━━━━━━━━━\u001b[0m\u001b[37m\u001b[0m \u001b[1m0s\u001b[0m 34ms/step\n",
            "[[0.12324271 0.15562774 0.12676243 0.07035228 0.07790477 0.1359667\n",
            "  0.13492922 0.04915583 0.07710804 0.04895035]\n",
            " [0.14462627 0.15085153 0.12906404 0.14366671 0.14621621 0.03717632\n",
            "  0.07472172 0.06107028 0.05793819 0.05466872]\n",
            " [0.09628847 0.18091062 0.24035503 0.07760637 0.09029748 0.04071181\n",
            "  0.07869991 0.04014925 0.10893642 0.04604471]\n",
            " [0.08849732 0.09196696 0.23448393 0.144744   0.08910221 0.07422858\n",
            "  0.11555141 0.04687843 0.08175761 0.0327895 ]\n",
            " [0.05665649 0.12874985 0.20217033 0.10953651 0.06219082 0.11987718\n",
            "  0.127824   0.05097183 0.05275573 0.0892673 ]\n",
            " [0.11446884 0.08234062 0.05985812 0.08475245 0.04829307 0.1888871\n",
            "  0.07890694 0.04234014 0.1428482  0.15730453]\n",
            " [0.07648019 0.08034172 0.07097768 0.07816881 0.23549172 0.1391375\n",
            "  0.09228935 0.0733855  0.06865716 0.08507028]\n",
            " [0.09476407 0.31066033 0.08989897 0.05015648 0.14656578 0.02797841\n",
            "  0.14070797 0.03626674 0.0369867  0.0660145 ]\n",
            " [0.12995183 0.14430872 0.09687762 0.07906362 0.16597292 0.030543\n",
            "  0.09852913 0.06068852 0.11012173 0.08394288]\n",
            " [0.05350529 0.23365226 0.08927494 0.09955537 0.13116556 0.03245579\n",
            "  0.13218717 0.02685512 0.08520071 0.11614773]]\n",
            "[1 1 2 2 2 5 4 1 4 1]\n"
          ]
        }
      ]
    },
    {
      "cell_type": "markdown",
      "source": [
        "Okay, let's dissect the line predicted_classes = np.argmax(predictions, axis=1) to understand what it does.\n",
        "\n",
        "In essence:\n",
        "\n",
        "This line of code finds the index of the maximum value along each row (axis 1) of the predictions array. This index represents the predicted class for each data sample.\n",
        "\n",
        "Breakdown:\n",
        "\n",
        "predictions: This is the output from your model's predict method. It's typically an array or a list of lists, where each inner list contains the probabilities of each class for a single data sample. For example, if your model has 3 classes, predictions might look like this for a single sample: [0.1, 0.7, 0.2].\n",
        "np.argmax(...): This is a NumPy function that finds the index of the maximum value within an array. In our case, it's applied to the predictions array.\n",
        "axis=1: This argument specifies the dimension along which argmax should operate. axis=1 means it will find the maximum value along each row of the predictions array. This is important because each row represents a single data sample, and we want to find the class with the highest probability for that sample.\n",
        "How it determines the predicted class:\n",
        "\n",
        "Let's say predictions for a single sample is [0.1, 0.7, 0.2]. When we apply np.argmax with axis=1, it will look for the maximum value within this row, which is 0.7. The index of this maximum value is 1. Therefore, np.argmax will return 1 as the predicted class for this sample.\n",
        "\n",
        "Overall:\n",
        "\n",
        "predicted_classes = np.argmax(predictions, axis=1) iterates through each row (data sample) in the predictions array, finds the index of the maximum value within that row (representing the class with the highest probability), and stores these indices in the predicted_classes array. This gives you the predicted class for each data sample.\n",
        "\n",
        "Example:\n",
        "\n",
        "\n",
        "predictions = [[0.1, 0.7, 0.2],\n",
        "               [0.8, 0.1, 0.1],\n",
        "               [0.3, 0.3, 0.4]]\n",
        "\n",
        "predicted_classes = np.argmax(predictions, axis=1)\n",
        "print(predicted_classes)  # Output: [1 0 2]\n",
        "Use code with caution\n",
        "In this example, the predicted classes are:\n",
        "\n",
        "Sample 1: Class 1 (index 1)\n",
        "Sample 2: Class 0 (index 0)\n",
        "Sample 3: Class 2 (index 2)"
      ],
      "metadata": {
        "id": "OhrM10V_mZLo"
      }
    },
    {
      "cell_type": "markdown",
      "source": [
        "### <a name='a5'></a> Przykład - klasyfikacja wieloklasowa"
      ],
      "metadata": {
        "id": "oNcpuVbsj42s"
      }
    },
    {
      "cell_type": "code",
      "source": [
        "data = np.random.random((1000, 150))\n",
        "labels = np.random.randint(10, size=(1000, 1))"
      ],
      "metadata": {
        "id": "5aYji3Suj7hA"
      },
      "execution_count": 30,
      "outputs": []
    },
    {
      "cell_type": "code",
      "source": [
        "print(data.shape)\n",
        "print(labels.shape)"
      ],
      "metadata": {
        "colab": {
          "base_uri": "https://localhost:8080/"
        },
        "id": "Pln15s0oj_xa",
        "outputId": "83257e24-3490-4702-b04b-e7aa00024f4b"
      },
      "execution_count": 31,
      "outputs": [
        {
          "output_type": "stream",
          "name": "stdout",
          "text": [
            "(1000, 150)\n",
            "(1000, 1)\n"
          ]
        }
      ]
    },
    {
      "cell_type": "code",
      "source": [
        "data[:3]"
      ],
      "metadata": {
        "colab": {
          "base_uri": "https://localhost:8080/"
        },
        "id": "uYHKpwX8kDtq",
        "outputId": "4064799d-f989-4cad-a916-301206441210"
      },
      "execution_count": 32,
      "outputs": [
        {
          "output_type": "execute_result",
          "data": {
            "text/plain": [
              "array([[0.86484328, 0.07596113, 0.77908867, 0.34740635, 0.45087249,\n",
              "        0.6096593 , 0.04685915, 0.93623274, 0.18550294, 0.32111406,\n",
              "        0.86654593, 0.22841423, 0.71287865, 0.80566297, 0.55716187,\n",
              "        0.75353505, 0.62950397, 0.52715252, 0.42991572, 0.8444447 ,\n",
              "        0.25716978, 0.36207481, 0.10754078, 0.85769845, 0.17391961,\n",
              "        0.16175038, 0.17101295, 0.69463265, 0.11160273, 0.28191544,\n",
              "        0.6067843 , 0.44495891, 0.79925579, 0.07645332, 0.46815551,\n",
              "        0.33810784, 0.06186355, 0.27946658, 0.66965559, 0.14514803,\n",
              "        0.78722615, 0.76170118, 0.64018944, 0.32343427, 0.32712218,\n",
              "        0.27197648, 0.82266121, 0.44108471, 0.86979002, 0.0559398 ,\n",
              "        0.93552878, 0.00528473, 0.8343252 , 0.45649992, 0.18790446,\n",
              "        0.02011159, 0.83956446, 0.39844189, 0.42913447, 0.51913501,\n",
              "        0.83443972, 0.76986163, 0.71091981, 0.02980957, 0.38125423,\n",
              "        0.5606687 , 0.3989632 , 0.51339182, 0.1286984 , 0.51557876,\n",
              "        0.89896249, 0.66195843, 0.34446515, 0.7254153 , 0.02982793,\n",
              "        0.11660837, 0.47867095, 0.78645244, 0.63682324, 0.15920317,\n",
              "        0.79577985, 0.19630113, 0.86718924, 0.05968593, 0.98205522,\n",
              "        0.20100422, 0.77070126, 0.45270648, 0.46478625, 0.26757772,\n",
              "        0.01529316, 0.45931508, 0.37227531, 0.04026467, 0.94039128,\n",
              "        0.18429484, 0.09253144, 0.54702759, 0.52032088, 0.43128788,\n",
              "        0.11419724, 0.8816837 , 0.3816572 , 0.620126  , 0.01652748,\n",
              "        0.72581355, 0.10518812, 0.49118382, 0.68187184, 0.04815442,\n",
              "        0.64855067, 0.99923424, 0.09568501, 0.8348833 , 0.72843797,\n",
              "        0.56533457, 0.53333986, 0.9943906 , 0.97204944, 0.72028995,\n",
              "        0.03412807, 0.9936021 , 0.33250103, 0.47909406, 0.3520332 ,\n",
              "        0.75185514, 0.77988888, 0.15022804, 0.62130775, 0.49381491,\n",
              "        0.77763405, 0.20840981, 0.65261947, 0.17446924, 0.72571666,\n",
              "        0.3866007 , 0.87803043, 0.41281908, 0.2269518 , 0.9623528 ,\n",
              "        0.66851496, 0.41391812, 0.15564637, 0.35162799, 0.45327239,\n",
              "        0.08932915, 0.66571955, 0.10325449, 0.51570049, 0.76598013],\n",
              "       [0.75649516, 0.22816305, 0.5219287 , 0.53224066, 0.33118934,\n",
              "        0.08314766, 0.19975162, 0.50304801, 0.96617884, 0.15761814,\n",
              "        0.13935224, 0.07976715, 0.37508717, 0.22731362, 0.4218237 ,\n",
              "        0.95621803, 0.40047697, 0.16610813, 0.7646434 , 0.76613467,\n",
              "        0.24959087, 0.8153226 , 0.53392051, 0.80168423, 0.73127962,\n",
              "        0.39939797, 0.5998966 , 0.59079182, 0.78336983, 0.08699014,\n",
              "        0.75344093, 0.66919944, 0.93269767, 0.65549368, 0.69889433,\n",
              "        0.52736195, 0.01313811, 0.67309242, 0.92645419, 0.06175886,\n",
              "        0.89407916, 0.31941966, 0.47880941, 0.68518451, 0.90450153,\n",
              "        0.08606667, 0.14042251, 0.70832208, 0.9830597 , 0.07141763,\n",
              "        0.63648638, 0.05131915, 0.38411087, 0.6507298 , 0.83973919,\n",
              "        0.80633442, 0.90878461, 0.17177006, 0.70874335, 0.33846969,\n",
              "        0.99556051, 0.70738995, 0.46750673, 0.75366785, 0.52978817,\n",
              "        0.34399926, 0.31190778, 0.15063427, 0.91687494, 0.48071061,\n",
              "        0.72192162, 0.70199153, 0.42860514, 0.87048081, 0.63791005,\n",
              "        0.80759972, 0.29440883, 0.67323576, 0.42769503, 0.02203158,\n",
              "        0.30609681, 0.29015347, 0.77816269, 0.41222138, 0.34628328,\n",
              "        0.02273982, 0.19540193, 0.72364252, 0.25301542, 0.54262736,\n",
              "        0.9066591 , 0.8654656 , 0.33423981, 0.32565566, 0.46535839,\n",
              "        0.8174583 , 0.25151197, 0.84507314, 0.98079271, 0.58695421,\n",
              "        0.23000344, 0.67726311, 0.76846262, 0.32598955, 0.93594197,\n",
              "        0.21972814, 0.2207648 , 0.19279058, 0.03456193, 0.22469726,\n",
              "        0.80310167, 0.44936011, 0.73556244, 0.99888176, 0.91095936,\n",
              "        0.94301445, 0.31757056, 0.429926  , 0.0100526 , 0.28751132,\n",
              "        0.29707731, 0.88179083, 0.59880611, 0.48531441, 0.83457859,\n",
              "        0.56869865, 0.78406667, 0.03111964, 0.51483433, 0.90654373,\n",
              "        0.90045819, 0.00919974, 0.71077988, 0.88680081, 0.78342438,\n",
              "        0.69904492, 0.0284521 , 0.62564455, 0.44780219, 0.65107566,\n",
              "        0.66030282, 0.07135297, 0.24038076, 0.56729761, 0.07537094,\n",
              "        0.92980391, 0.11935658, 0.54954377, 0.70196321, 0.62536522],\n",
              "       [0.76678161, 0.89064176, 0.68104811, 0.32209222, 0.37335227,\n",
              "        0.22808302, 0.90465125, 0.51312079, 0.76156726, 0.84876478,\n",
              "        0.46700162, 0.79254524, 0.18187726, 0.12547853, 0.93870037,\n",
              "        0.81783137, 0.59888654, 0.5225001 , 0.76811581, 0.13016208,\n",
              "        0.15998733, 0.42345741, 0.41886425, 0.57009943, 0.76460166,\n",
              "        0.92808317, 0.0475293 , 0.6784112 , 0.76915921, 0.89408024,\n",
              "        0.50662627, 0.8005434 , 0.30212904, 0.8649987 , 0.58804838,\n",
              "        0.21252166, 0.06597483, 0.55995719, 0.80725221, 0.47985517,\n",
              "        0.91863064, 0.25548031, 0.70196972, 0.98559039, 0.50107566,\n",
              "        0.03004378, 0.58115332, 0.18346102, 0.50403075, 0.51225337,\n",
              "        0.52894955, 0.29359428, 0.60629379, 0.79796746, 0.69620829,\n",
              "        0.3250908 , 0.36353587, 0.07359729, 0.3224145 , 0.64943553,\n",
              "        0.573034  , 0.74075895, 0.98985145, 0.13974051, 0.88488181,\n",
              "        0.29184965, 0.64020266, 0.24190223, 0.20254424, 0.77603662,\n",
              "        0.23501174, 0.31386632, 0.46775143, 0.58535863, 0.97219979,\n",
              "        0.91712469, 0.17003635, 0.20568632, 0.10647669, 0.03494259,\n",
              "        0.0268295 , 0.71580079, 0.71622564, 0.90020377, 0.81422056,\n",
              "        0.069715  , 0.39176186, 0.85260419, 0.39484743, 0.08597211,\n",
              "        0.02511256, 0.1185805 , 0.79033442, 0.40630855, 0.24166098,\n",
              "        0.15841993, 0.42968284, 0.60256925, 0.46330322, 0.7430782 ,\n",
              "        0.02891483, 0.16668127, 0.26552438, 0.81250186, 0.29886173,\n",
              "        0.5284077 , 0.22999344, 0.56052566, 0.60997776, 0.55838603,\n",
              "        0.07895607, 0.29378781, 0.52429267, 0.52382489, 0.85649428,\n",
              "        0.17274888, 0.28835618, 0.76529623, 0.70106784, 0.70984356,\n",
              "        0.1911722 , 0.62765844, 0.2291364 , 0.50574509, 0.79157324,\n",
              "        0.35481012, 0.34663435, 0.12101833, 0.78586035, 0.2400219 ,\n",
              "        0.04317904, 0.7165918 , 0.95607662, 0.31742708, 0.4666557 ,\n",
              "        0.55684338, 0.77665896, 0.45866886, 0.20585767, 0.37569884,\n",
              "        0.85907386, 0.81727058, 0.74250254, 0.74110207, 0.66230325,\n",
              "        0.82492241, 0.55663791, 0.30742264, 0.8353232 , 0.18984701]])"
            ]
          },
          "metadata": {},
          "execution_count": 32
        }
      ]
    },
    {
      "cell_type": "code",
      "source": [
        "labels[:10]"
      ],
      "metadata": {
        "colab": {
          "base_uri": "https://localhost:8080/"
        },
        "id": "tnySMZrakEeD",
        "outputId": "4d7e6f07-e28c-4fc2-f3bd-3ec84cf9e3e1"
      },
      "execution_count": 33,
      "outputs": [
        {
          "output_type": "execute_result",
          "data": {
            "text/plain": [
              "array([[7],\n",
              "       [0],\n",
              "       [3],\n",
              "       [7],\n",
              "       [4],\n",
              "       [4],\n",
              "       [9],\n",
              "       [7],\n",
              "       [1],\n",
              "       [7]])"
            ]
          },
          "metadata": {},
          "execution_count": 33
        }
      ]
    },
    {
      "cell_type": "code",
      "source": [
        "from tensorflow.keras.utils import to_categorical\n",
        "labels = to_categorical(labels, num_classes=10)\n",
        "labels"
      ],
      "metadata": {
        "colab": {
          "base_uri": "https://localhost:8080/"
        },
        "id": "kK_Mt5bfkJSL",
        "outputId": "fc9bb953-1127-4825-d138-db74051d98bd"
      },
      "execution_count": 34,
      "outputs": [
        {
          "output_type": "execute_result",
          "data": {
            "text/plain": [
              "array([[0., 0., 0., ..., 1., 0., 0.],\n",
              "       [1., 0., 0., ..., 0., 0., 0.],\n",
              "       [0., 0., 0., ..., 0., 0., 0.],\n",
              "       ...,\n",
              "       [0., 0., 0., ..., 0., 0., 1.],\n",
              "       [0., 0., 1., ..., 0., 0., 0.],\n",
              "       [0., 0., 0., ..., 0., 1., 0.]])"
            ]
          },
          "metadata": {},
          "execution_count": 34
        }
      ]
    },
    {
      "cell_type": "code",
      "source": [
        "labels[1]"
      ],
      "metadata": {
        "colab": {
          "base_uri": "https://localhost:8080/"
        },
        "id": "Hus0Shg6kMbb",
        "outputId": "fc328a3b-c9ae-47f6-8493-e00d13f5078c"
      },
      "execution_count": 40,
      "outputs": [
        {
          "output_type": "execute_result",
          "data": {
            "text/plain": [
              "array([1., 0., 0., 0., 0., 0., 0., 0., 0., 0.])"
            ]
          },
          "metadata": {},
          "execution_count": 40
        }
      ]
    },
    {
      "cell_type": "code",
      "source": [
        "model = Sequential()\n",
        "model.add(Dense(units=32, activation='relu', input_shape=(150,)))\n",
        "model.add(Dense(units=10, activation='softmax'))\n",
        "\n",
        "model.compile(optimizer='rmsprop',\n",
        "              loss='categorical_crossentropy',\n",
        "              metrics=['accuracy'])\n",
        "\n",
        "model.fit(data, labels, batch_size=32, epochs=30, validation_split=0.2)"
      ],
      "metadata": {
        "colab": {
          "base_uri": "https://localhost:8080/"
        },
        "id": "BcY7l8jWnXwJ",
        "outputId": "85436637-7110-4bb4-c427-efcd749be242"
      },
      "execution_count": 41,
      "outputs": [
        {
          "output_type": "stream",
          "name": "stdout",
          "text": [
            "Epoch 1/30\n"
          ]
        },
        {
          "output_type": "stream",
          "name": "stderr",
          "text": [
            "/usr/local/lib/python3.10/dist-packages/keras/src/layers/core/dense.py:87: UserWarning:\n",
            "\n",
            "Do not pass an `input_shape`/`input_dim` argument to a layer. When using Sequential models, prefer using an `Input(shape)` object as the first layer in the model instead.\n",
            "\n"
          ]
        },
        {
          "output_type": "stream",
          "name": "stdout",
          "text": [
            "\u001b[1m25/25\u001b[0m \u001b[32m━━━━━━━━━━━━━━━━━━━━\u001b[0m\u001b[37m\u001b[0m \u001b[1m1s\u001b[0m 15ms/step - accuracy: 0.0971 - loss: 2.4414 - val_accuracy: 0.1350 - val_loss: 2.3354\n",
            "Epoch 2/30\n",
            "\u001b[1m25/25\u001b[0m \u001b[32m━━━━━━━━━━━━━━━━━━━━\u001b[0m\u001b[37m\u001b[0m \u001b[1m0s\u001b[0m 3ms/step - accuracy: 0.1000 - loss: 2.3327 - val_accuracy: 0.1050 - val_loss: 2.3212\n",
            "Epoch 3/30\n",
            "\u001b[1m25/25\u001b[0m \u001b[32m━━━━━━━━━━━━━━━━━━━━\u001b[0m\u001b[37m\u001b[0m \u001b[1m0s\u001b[0m 3ms/step - accuracy: 0.1083 - loss: 2.3130 - val_accuracy: 0.1200 - val_loss: 2.3288\n",
            "Epoch 4/30\n",
            "\u001b[1m25/25\u001b[0m \u001b[32m━━━━━━━━━━━━━━━━━━━━\u001b[0m\u001b[37m\u001b[0m \u001b[1m0s\u001b[0m 3ms/step - accuracy: 0.1299 - loss: 2.2879 - val_accuracy: 0.0900 - val_loss: 2.3275\n",
            "Epoch 5/30\n",
            "\u001b[1m25/25\u001b[0m \u001b[32m━━━━━━━━━━━━━━━━━━━━\u001b[0m\u001b[37m\u001b[0m \u001b[1m0s\u001b[0m 3ms/step - accuracy: 0.1582 - loss: 2.2757 - val_accuracy: 0.1150 - val_loss: 2.3380\n",
            "Epoch 6/30\n",
            "\u001b[1m25/25\u001b[0m \u001b[32m━━━━━━━━━━━━━━━━━━━━\u001b[0m\u001b[37m\u001b[0m \u001b[1m0s\u001b[0m 3ms/step - accuracy: 0.1338 - loss: 2.2633 - val_accuracy: 0.1050 - val_loss: 2.3393\n",
            "Epoch 7/30\n",
            "\u001b[1m25/25\u001b[0m \u001b[32m━━━━━━━━━━━━━━━━━━━━\u001b[0m\u001b[37m\u001b[0m \u001b[1m0s\u001b[0m 3ms/step - accuracy: 0.1325 - loss: 2.2567 - val_accuracy: 0.1200 - val_loss: 2.3311\n",
            "Epoch 8/30\n",
            "\u001b[1m25/25\u001b[0m \u001b[32m━━━━━━━━━━━━━━━━━━━━\u001b[0m\u001b[37m\u001b[0m \u001b[1m0s\u001b[0m 3ms/step - accuracy: 0.1806 - loss: 2.2410 - val_accuracy: 0.1050 - val_loss: 2.3372\n",
            "Epoch 9/30\n",
            "\u001b[1m25/25\u001b[0m \u001b[32m━━━━━━━━━━━━━━━━━━━━\u001b[0m\u001b[37m\u001b[0m \u001b[1m0s\u001b[0m 3ms/step - accuracy: 0.1852 - loss: 2.2180 - val_accuracy: 0.1150 - val_loss: 2.3292\n",
            "Epoch 10/30\n",
            "\u001b[1m25/25\u001b[0m \u001b[32m━━━━━━━━━━━━━━━━━━━━\u001b[0m\u001b[37m\u001b[0m \u001b[1m0s\u001b[0m 4ms/step - accuracy: 0.1877 - loss: 2.2184 - val_accuracy: 0.1150 - val_loss: 2.3439\n",
            "Epoch 11/30\n",
            "\u001b[1m25/25\u001b[0m \u001b[32m━━━━━━━━━━━━━━━━━━━━\u001b[0m\u001b[37m\u001b[0m \u001b[1m0s\u001b[0m 3ms/step - accuracy: 0.1980 - loss: 2.1971 - val_accuracy: 0.1150 - val_loss: 2.3448\n",
            "Epoch 12/30\n",
            "\u001b[1m25/25\u001b[0m \u001b[32m━━━━━━━━━━━━━━━━━━━━\u001b[0m\u001b[37m\u001b[0m \u001b[1m0s\u001b[0m 3ms/step - accuracy: 0.2021 - loss: 2.1947 - val_accuracy: 0.1250 - val_loss: 2.3383\n",
            "Epoch 13/30\n",
            "\u001b[1m25/25\u001b[0m \u001b[32m━━━━━━━━━━━━━━━━━━━━\u001b[0m\u001b[37m\u001b[0m \u001b[1m0s\u001b[0m 3ms/step - accuracy: 0.2195 - loss: 2.1648 - val_accuracy: 0.1000 - val_loss: 2.3683\n",
            "Epoch 14/30\n",
            "\u001b[1m25/25\u001b[0m \u001b[32m━━━━━━━━━━━━━━━━━━━━\u001b[0m\u001b[37m\u001b[0m \u001b[1m0s\u001b[0m 3ms/step - accuracy: 0.2420 - loss: 2.1544 - val_accuracy: 0.1200 - val_loss: 2.3629\n",
            "Epoch 15/30\n",
            "\u001b[1m25/25\u001b[0m \u001b[32m━━━━━━━━━━━━━━━━━━━━\u001b[0m\u001b[37m\u001b[0m \u001b[1m0s\u001b[0m 4ms/step - accuracy: 0.2721 - loss: 2.1369 - val_accuracy: 0.1200 - val_loss: 2.3822\n",
            "Epoch 16/30\n",
            "\u001b[1m25/25\u001b[0m \u001b[32m━━━━━━━━━━━━━━━━━━━━\u001b[0m\u001b[37m\u001b[0m \u001b[1m0s\u001b[0m 3ms/step - accuracy: 0.2596 - loss: 2.1460 - val_accuracy: 0.1000 - val_loss: 2.3791\n",
            "Epoch 17/30\n",
            "\u001b[1m25/25\u001b[0m \u001b[32m━━━━━━━━━━━━━━━━━━━━\u001b[0m\u001b[37m\u001b[0m \u001b[1m0s\u001b[0m 3ms/step - accuracy: 0.2622 - loss: 2.1119 - val_accuracy: 0.0950 - val_loss: 2.3867\n",
            "Epoch 18/30\n",
            "\u001b[1m25/25\u001b[0m \u001b[32m━━━━━━━━━━━━━━━━━━━━\u001b[0m\u001b[37m\u001b[0m \u001b[1m0s\u001b[0m 3ms/step - accuracy: 0.2820 - loss: 2.1029 - val_accuracy: 0.1050 - val_loss: 2.3760\n",
            "Epoch 19/30\n",
            "\u001b[1m25/25\u001b[0m \u001b[32m━━━━━━━━━━━━━━━━━━━━\u001b[0m\u001b[37m\u001b[0m \u001b[1m0s\u001b[0m 3ms/step - accuracy: 0.2960 - loss: 2.0841 - val_accuracy: 0.1250 - val_loss: 2.3749\n",
            "Epoch 20/30\n",
            "\u001b[1m25/25\u001b[0m \u001b[32m━━━━━━━━━━━━━━━━━━━━\u001b[0m\u001b[37m\u001b[0m \u001b[1m0s\u001b[0m 3ms/step - accuracy: 0.3129 - loss: 2.0800 - val_accuracy: 0.1000 - val_loss: 2.4023\n",
            "Epoch 21/30\n",
            "\u001b[1m25/25\u001b[0m \u001b[32m━━━━━━━━━━━━━━━━━━━━\u001b[0m\u001b[37m\u001b[0m \u001b[1m0s\u001b[0m 3ms/step - accuracy: 0.2999 - loss: 2.0608 - val_accuracy: 0.1300 - val_loss: 2.3993\n",
            "Epoch 22/30\n",
            "\u001b[1m25/25\u001b[0m \u001b[32m━━━━━━━━━━━━━━━━━━━━\u001b[0m\u001b[37m\u001b[0m \u001b[1m0s\u001b[0m 4ms/step - accuracy: 0.3268 - loss: 2.0481 - val_accuracy: 0.0950 - val_loss: 2.4064\n",
            "Epoch 23/30\n",
            "\u001b[1m25/25\u001b[0m \u001b[32m━━━━━━━━━━━━━━━━━━━━\u001b[0m\u001b[37m\u001b[0m \u001b[1m0s\u001b[0m 3ms/step - accuracy: 0.3630 - loss: 2.0099 - val_accuracy: 0.1100 - val_loss: 2.4000\n",
            "Epoch 24/30\n",
            "\u001b[1m25/25\u001b[0m \u001b[32m━━━━━━━━━━━━━━━━━━━━\u001b[0m\u001b[37m\u001b[0m \u001b[1m0s\u001b[0m 3ms/step - accuracy: 0.3260 - loss: 2.0275 - val_accuracy: 0.1350 - val_loss: 2.3982\n",
            "Epoch 25/30\n",
            "\u001b[1m25/25\u001b[0m \u001b[32m━━━━━━━━━━━━━━━━━━━━\u001b[0m\u001b[37m\u001b[0m \u001b[1m0s\u001b[0m 3ms/step - accuracy: 0.3748 - loss: 2.0006 - val_accuracy: 0.1150 - val_loss: 2.4178\n",
            "Epoch 26/30\n",
            "\u001b[1m25/25\u001b[0m \u001b[32m━━━━━━━━━━━━━━━━━━━━\u001b[0m\u001b[37m\u001b[0m \u001b[1m0s\u001b[0m 3ms/step - accuracy: 0.3587 - loss: 1.9968 - val_accuracy: 0.1150 - val_loss: 2.4233\n",
            "Epoch 27/30\n",
            "\u001b[1m25/25\u001b[0m \u001b[32m━━━━━━━━━━━━━━━━━━━━\u001b[0m\u001b[37m\u001b[0m \u001b[1m0s\u001b[0m 3ms/step - accuracy: 0.3881 - loss: 1.9702 - val_accuracy: 0.1000 - val_loss: 2.4334\n",
            "Epoch 28/30\n",
            "\u001b[1m25/25\u001b[0m \u001b[32m━━━━━━━━━━━━━━━━━━━━\u001b[0m\u001b[37m\u001b[0m \u001b[1m0s\u001b[0m 3ms/step - accuracy: 0.3765 - loss: 1.9438 - val_accuracy: 0.0900 - val_loss: 2.4572\n",
            "Epoch 29/30\n",
            "\u001b[1m25/25\u001b[0m \u001b[32m━━━━━━━━━━━━━━━━━━━━\u001b[0m\u001b[37m\u001b[0m \u001b[1m0s\u001b[0m 4ms/step - accuracy: 0.4000 - loss: 1.9362 - val_accuracy: 0.1300 - val_loss: 2.4241\n",
            "Epoch 30/30\n",
            "\u001b[1m25/25\u001b[0m \u001b[32m━━━━━━━━━━━━━━━━━━━━\u001b[0m\u001b[37m\u001b[0m \u001b[1m0s\u001b[0m 3ms/step - accuracy: 0.4254 - loss: 1.8880 - val_accuracy: 0.1100 - val_loss: 2.4602\n"
          ]
        },
        {
          "output_type": "execute_result",
          "data": {
            "text/plain": [
              "<keras.src.callbacks.history.History at 0x7a1823911870>"
            ]
          },
          "metadata": {},
          "execution_count": 41
        }
      ]
    },
    {
      "cell_type": "code",
      "source": [
        "test_data = np.random.random((10, 150))\n",
        "\n",
        "model.predict(test_data)"
      ],
      "metadata": {
        "colab": {
          "base_uri": "https://localhost:8080/"
        },
        "id": "5dyo51uRncfd",
        "outputId": "2ae34710-aa34-4106-fe5d-da30d4947ab3"
      },
      "execution_count": 42,
      "outputs": [
        {
          "output_type": "stream",
          "name": "stdout",
          "text": [
            "\u001b[1m1/1\u001b[0m \u001b[32m━━━━━━━━━━━━━━━━━━━━\u001b[0m\u001b[37m\u001b[0m \u001b[1m0s\u001b[0m 49ms/step\n"
          ]
        },
        {
          "output_type": "execute_result",
          "data": {
            "text/plain": [
              "array([[0.12324271, 0.15562774, 0.12676243, 0.07035228, 0.07790477,\n",
              "        0.1359667 , 0.13492922, 0.04915583, 0.07710804, 0.04895035],\n",
              "       [0.14462627, 0.15085153, 0.12906404, 0.14366671, 0.14621621,\n",
              "        0.03717632, 0.07472172, 0.06107028, 0.05793819, 0.05466872],\n",
              "       [0.09628847, 0.18091062, 0.24035503, 0.07760637, 0.09029748,\n",
              "        0.04071181, 0.07869991, 0.04014925, 0.10893642, 0.04604471],\n",
              "       [0.08849732, 0.09196696, 0.23448393, 0.144744  , 0.08910221,\n",
              "        0.07422858, 0.11555141, 0.04687843, 0.08175761, 0.0327895 ],\n",
              "       [0.05665649, 0.12874985, 0.20217033, 0.10953651, 0.06219082,\n",
              "        0.11987718, 0.127824  , 0.05097183, 0.05275573, 0.0892673 ],\n",
              "       [0.11446884, 0.08234062, 0.05985812, 0.08475245, 0.04829307,\n",
              "        0.1888871 , 0.07890694, 0.04234014, 0.1428482 , 0.15730453],\n",
              "       [0.07648019, 0.08034172, 0.07097768, 0.07816881, 0.23549172,\n",
              "        0.1391375 , 0.09228935, 0.0733855 , 0.06865716, 0.08507028],\n",
              "       [0.09476407, 0.31066033, 0.08989897, 0.05015648, 0.14656578,\n",
              "        0.02797841, 0.14070797, 0.03626674, 0.0369867 , 0.0660145 ],\n",
              "       [0.12995183, 0.14430872, 0.09687762, 0.07906362, 0.16597292,\n",
              "        0.030543  , 0.09852913, 0.06068852, 0.11012173, 0.08394288],\n",
              "       [0.05350529, 0.23365226, 0.08927494, 0.09955537, 0.13116556,\n",
              "        0.03245579, 0.13218717, 0.02685512, 0.08520071, 0.11614773]],\n",
              "      dtype=float32)"
            ]
          },
          "metadata": {},
          "execution_count": 42
        }
      ]
    },
    {
      "cell_type": "code",
      "source": [
        "# model.predict_classes(test_data)\n",
        "\n",
        "# Instead of predict_classes, use predict and argmax to get the class with the highest probability\n",
        "predictions = model.predict(test_data)\n",
        "predicted_classes = np.argmax(predictions, axis=1)\n",
        "print(predicted_classes)"
      ],
      "metadata": {
        "colab": {
          "base_uri": "https://localhost:8080/"
        },
        "id": "uY8vmtavnj5s",
        "outputId": "2875b3fd-6068-4d3c-ade3-e42a5cbb48cc"
      },
      "execution_count": 44,
      "outputs": [
        {
          "output_type": "stream",
          "name": "stdout",
          "text": [
            "\u001b[1m1/1\u001b[0m \u001b[32m━━━━━━━━━━━━━━━━━━━━\u001b[0m\u001b[37m\u001b[0m \u001b[1m0s\u001b[0m 22ms/step\n",
            "[1 1 2 2 2 5 4 1 4 1]\n"
          ]
        }
      ]
    },
    {
      "cell_type": "markdown",
      "source": [
        "### <a name='a6'></a> Przykład - regresja"
      ],
      "metadata": {
        "id": "OCGXp9bFoNJR"
      }
    },
    {
      "cell_type": "code",
      "source": [
        "data = np.random.random((1000, 150))\n",
        "labels = 50 * np.random.random(1000)"
      ],
      "metadata": {
        "id": "LE2f-nxCoO0y"
      },
      "execution_count": 48,
      "outputs": []
    },
    {
      "cell_type": "code",
      "source": [
        "data[:3]"
      ],
      "metadata": {
        "colab": {
          "base_uri": "https://localhost:8080/"
        },
        "id": "0bBE6085oTeH",
        "outputId": "b1024923-298c-46dc-f36a-ecec3d1ded7d"
      },
      "execution_count": 49,
      "outputs": [
        {
          "output_type": "execute_result",
          "data": {
            "text/plain": [
              "array([[6.77299202e-01, 4.55768032e-01, 5.96810266e-02, 9.15572584e-01,\n",
              "        2.17799267e-01, 5.11021019e-01, 6.63482611e-02, 1.71991048e-01,\n",
              "        7.02191463e-01, 9.10011085e-01, 9.02692499e-01, 9.38636896e-01,\n",
              "        1.13006363e-02, 3.37562592e-01, 1.20427395e-01, 8.84805068e-02,\n",
              "        6.65344923e-01, 5.21962995e-01, 4.15732778e-01, 1.38246273e-01,\n",
              "        4.88457599e-01, 7.39181784e-02, 4.55456963e-02, 2.10112488e-01,\n",
              "        8.00666235e-03, 5.29663077e-01, 6.21521405e-01, 8.12861911e-01,\n",
              "        2.41554896e-01, 2.08855597e-01, 3.47343263e-01, 7.30406058e-01,\n",
              "        4.24615684e-01, 5.87134596e-01, 9.50080522e-02, 6.64235450e-01,\n",
              "        8.41114063e-01, 1.23651947e-03, 7.92614260e-01, 9.70866715e-01,\n",
              "        9.03196379e-01, 2.89828031e-01, 3.71973250e-01, 3.24278610e-01,\n",
              "        8.42038461e-01, 3.30147989e-01, 4.08877538e-01, 6.02613225e-01,\n",
              "        7.83026921e-01, 2.87304113e-01, 1.71522401e-01, 8.85191915e-01,\n",
              "        5.96672901e-01, 7.01136732e-01, 4.28796298e-01, 2.56266484e-01,\n",
              "        7.44485467e-01, 6.84156311e-01, 7.72037167e-01, 7.50248354e-01,\n",
              "        3.43676259e-01, 6.64522688e-01, 5.63460006e-01, 8.70768271e-02,\n",
              "        5.52288658e-01, 4.89432255e-01, 6.53835097e-01, 8.20238235e-01,\n",
              "        9.45265003e-01, 2.41902188e-02, 5.18136689e-02, 7.19002170e-01,\n",
              "        6.68068420e-01, 9.55214275e-01, 7.32597493e-02, 2.86279381e-01,\n",
              "        6.70061690e-01, 6.29245190e-01, 8.23521423e-01, 8.88410364e-01,\n",
              "        1.47627461e-01, 1.04992173e-01, 6.44640942e-01, 8.90833988e-02,\n",
              "        1.38323284e-01, 9.19289294e-01, 6.14087968e-01, 2.26508738e-02,\n",
              "        7.58775994e-03, 3.39057343e-01, 3.82544656e-01, 5.15187529e-01,\n",
              "        7.82942005e-01, 6.54169624e-02, 4.82551313e-01, 6.30444218e-01,\n",
              "        8.70444778e-01, 5.19652641e-02, 1.17937540e-02, 9.60683844e-01,\n",
              "        9.82247801e-01, 3.30985305e-01, 3.12076935e-01, 1.49804220e-01,\n",
              "        7.70726983e-01, 6.25700688e-01, 7.75863205e-01, 6.19409948e-01,\n",
              "        8.18365665e-02, 1.98654910e-02, 9.61421542e-01, 9.68088412e-01,\n",
              "        5.46436967e-01, 3.37563524e-02, 6.99229795e-01, 2.86098310e-01,\n",
              "        4.58600993e-01, 6.46172456e-01, 2.85051109e-01, 3.74061822e-01,\n",
              "        1.68268834e-01, 9.82955010e-01, 3.83683262e-01, 9.76031716e-01,\n",
              "        4.63168254e-01, 3.45202755e-01, 9.64440125e-01, 5.52288893e-01,\n",
              "        4.80552875e-01, 4.85303678e-01, 6.85450231e-02, 7.57439043e-01,\n",
              "        6.86890799e-01, 9.35333496e-01, 9.69709849e-01, 5.62020717e-01,\n",
              "        6.55526339e-01, 9.38578437e-02, 9.56068081e-01, 1.27189241e-01,\n",
              "        9.61809702e-01, 4.30032662e-01, 9.95136653e-02, 2.22968861e-01,\n",
              "        4.19223985e-01, 3.25807315e-01, 5.10130441e-01, 5.09237206e-01,\n",
              "        4.88960652e-01, 3.41298508e-01],\n",
              "       [5.32448122e-01, 1.34057148e-01, 1.65819927e-01, 7.97318239e-01,\n",
              "        5.26232439e-01, 1.37294844e-01, 8.92684251e-01, 3.69689279e-01,\n",
              "        8.45654969e-01, 9.92927442e-01, 1.87450119e-01, 3.38289506e-01,\n",
              "        1.47164506e-01, 8.19721094e-01, 4.19316222e-01, 2.75443557e-02,\n",
              "        2.09732304e-01, 8.62573054e-01, 3.06538396e-02, 2.25725856e-01,\n",
              "        9.93502257e-01, 2.22131757e-01, 5.09280763e-01, 4.76071974e-01,\n",
              "        6.63375742e-02, 2.66124324e-01, 8.04100954e-01, 6.90911857e-01,\n",
              "        1.48927248e-01, 4.78421924e-01, 7.85939928e-01, 7.00750091e-01,\n",
              "        4.51036671e-01, 7.06532250e-01, 6.22204149e-01, 9.72593834e-01,\n",
              "        7.30277013e-01, 6.67583240e-01, 9.54922362e-02, 7.13191118e-01,\n",
              "        4.29137920e-02, 7.61047608e-01, 3.79263619e-01, 4.68437982e-01,\n",
              "        1.74750547e-01, 2.92045513e-01, 9.40141977e-01, 8.65171776e-01,\n",
              "        4.64605357e-01, 9.86712760e-01, 2.91724002e-04, 9.80793745e-01,\n",
              "        2.73674775e-01, 9.60211647e-01, 4.63308151e-01, 8.58342699e-01,\n",
              "        1.22762580e-01, 3.85251095e-01, 4.50423429e-01, 7.38948911e-01,\n",
              "        7.60278634e-01, 7.82324734e-01, 8.27740535e-01, 4.78900260e-01,\n",
              "        7.59953967e-01, 1.05647671e-01, 2.39252265e-01, 2.48330768e-01,\n",
              "        7.41959977e-01, 3.14239803e-02, 4.12262807e-01, 1.78071111e-01,\n",
              "        9.41761792e-01, 5.75756613e-02, 4.54373486e-01, 7.54155492e-01,\n",
              "        7.86521500e-01, 4.24975048e-01, 2.28327291e-01, 1.24886536e-01,\n",
              "        7.78876803e-02, 6.14763482e-02, 1.10460626e-01, 5.37256176e-04,\n",
              "        2.53866410e-01, 5.03104674e-01, 6.05375724e-01, 7.14686564e-01,\n",
              "        8.84335522e-01, 2.29938670e-01, 2.23006771e-01, 7.17313300e-01,\n",
              "        7.31533761e-01, 7.17831052e-01, 3.57938066e-01, 2.98989387e-01,\n",
              "        4.73524156e-01, 7.54517527e-01, 7.30355707e-01, 6.76698759e-01,\n",
              "        7.80117330e-01, 8.32991447e-01, 6.68316894e-01, 6.34674856e-01,\n",
              "        6.42001337e-01, 1.08703391e-02, 6.64244334e-01, 2.92509676e-01,\n",
              "        7.52626801e-01, 5.43433624e-02, 5.72159374e-01, 7.31569194e-01,\n",
              "        6.95198037e-01, 6.24314872e-01, 3.65311656e-01, 5.25778595e-01,\n",
              "        3.38269644e-01, 5.66340405e-01, 2.94455308e-01, 3.22478045e-01,\n",
              "        3.47344375e-01, 7.18200419e-02, 6.69950700e-01, 5.06447116e-01,\n",
              "        8.21433929e-01, 6.46630537e-01, 7.54895771e-01, 3.39692852e-01,\n",
              "        6.50693498e-01, 3.66145762e-03, 6.60879870e-01, 5.01464079e-01,\n",
              "        7.34879442e-01, 8.50743270e-02, 5.54972130e-01, 2.58575895e-01,\n",
              "        8.28811155e-02, 5.16854976e-01, 2.70745956e-01, 5.19078662e-01,\n",
              "        4.36394175e-01, 5.68818737e-01, 8.92546569e-01, 6.05607479e-01,\n",
              "        7.33011541e-01, 2.91257657e-01, 8.58811997e-02, 8.26824410e-01,\n",
              "        4.35635905e-01, 2.40230525e-01],\n",
              "       [9.72960776e-01, 9.29266688e-01, 3.53727583e-01, 1.88217776e-01,\n",
              "        7.70323812e-01, 2.78930769e-01, 6.07620119e-01, 3.96142155e-01,\n",
              "        3.55479072e-01, 9.53938842e-01, 4.86342442e-01, 4.93450951e-01,\n",
              "        1.35960245e-01, 2.26662135e-01, 7.80298838e-01, 6.68597670e-01,\n",
              "        8.23208906e-01, 1.55560602e-01, 1.15458069e-01, 1.89924083e-01,\n",
              "        3.42520868e-01, 3.42732280e-01, 1.40936162e-02, 4.72529749e-01,\n",
              "        3.58615393e-01, 4.10762875e-01, 7.64615507e-01, 2.72495765e-01,\n",
              "        1.11760101e-01, 2.39879109e-01, 5.65544489e-01, 1.32688973e-02,\n",
              "        2.60547973e-01, 9.83618782e-01, 5.92310229e-01, 5.74042297e-01,\n",
              "        5.86719533e-01, 5.59419335e-01, 8.38164223e-01, 2.21793480e-01,\n",
              "        6.38858051e-01, 2.73987742e-01, 8.03158971e-01, 2.67258557e-01,\n",
              "        7.13163227e-01, 5.59685571e-01, 6.08272151e-01, 9.22112680e-01,\n",
              "        1.67414244e-01, 7.13304129e-02, 4.89775670e-01, 8.36441861e-01,\n",
              "        3.13087376e-01, 1.66551544e-01, 9.56854998e-01, 8.76448934e-01,\n",
              "        4.15226763e-02, 2.71849099e-01, 7.63520777e-02, 2.04285360e-01,\n",
              "        3.67882143e-01, 2.12163795e-01, 4.45073276e-01, 9.26021444e-01,\n",
              "        5.00756470e-01, 7.48084565e-01, 9.46548467e-01, 5.89598825e-01,\n",
              "        4.13488095e-01, 9.40106745e-01, 2.72101183e-01, 3.93843838e-01,\n",
              "        2.73266980e-01, 6.21426905e-01, 9.74190335e-01, 9.40219332e-01,\n",
              "        4.86918823e-01, 6.93553102e-01, 5.53425630e-01, 5.37811576e-01,\n",
              "        9.67404808e-01, 8.21774928e-02, 5.60381221e-01, 9.44739633e-01,\n",
              "        5.96228737e-01, 4.44096344e-01, 1.52481946e-01, 8.74534196e-01,\n",
              "        8.72832169e-01, 1.38428399e-01, 3.71582946e-02, 8.09527698e-01,\n",
              "        8.12556378e-01, 4.39871180e-01, 6.05159510e-02, 7.99760972e-01,\n",
              "        2.41165728e-01, 3.73904713e-01, 3.68348861e-01, 5.80200192e-01,\n",
              "        1.91645683e-01, 9.72206416e-01, 3.42280884e-01, 6.35285745e-02,\n",
              "        3.32858658e-02, 9.52451809e-01, 8.71716529e-01, 4.87478304e-01,\n",
              "        7.46664578e-01, 9.98976111e-02, 7.59934960e-01, 2.17814623e-01,\n",
              "        6.89908763e-01, 6.83522531e-02, 4.62889801e-01, 6.36338441e-02,\n",
              "        2.01443069e-01, 4.64963890e-01, 6.36076048e-01, 7.15380371e-01,\n",
              "        1.19487344e-01, 9.49348347e-01, 1.51357714e-01, 9.82231425e-01,\n",
              "        8.47239505e-01, 3.18602410e-01, 3.79378831e-01, 7.77900755e-01,\n",
              "        2.23482722e-01, 4.26766525e-01, 4.41390547e-01, 5.28020392e-01,\n",
              "        1.05459871e-01, 8.92303138e-01, 9.70816874e-01, 9.24698940e-01,\n",
              "        3.76986661e-01, 2.60610547e-01, 7.62089737e-01, 6.95503138e-01,\n",
              "        1.78697911e-01, 5.18704744e-01, 3.96237522e-01, 9.71073188e-01,\n",
              "        2.74513452e-02, 5.09162463e-02, 9.52614974e-01, 1.78674349e-01,\n",
              "        9.15853563e-01, 5.12151434e-01]])"
            ]
          },
          "metadata": {},
          "execution_count": 49
        }
      ]
    },
    {
      "cell_type": "code",
      "source": [
        "labels[:10]"
      ],
      "metadata": {
        "colab": {
          "base_uri": "https://localhost:8080/"
        },
        "id": "eYu6eFD9oW6v",
        "outputId": "a1e618bd-601d-48ff-c956-8d6d02d6ed86"
      },
      "execution_count": 50,
      "outputs": [
        {
          "output_type": "execute_result",
          "data": {
            "text/plain": [
              "array([40.83488963, 13.54614499,  9.82216082, 39.98487433, 35.23886242,\n",
              "       24.98660607, 24.12461553, 11.01770545, 42.80980729, 36.91008471])"
            ]
          },
          "metadata": {},
          "execution_count": 50
        }
      ]
    },
    {
      "cell_type": "code",
      "source": [
        "model = Sequential()\n",
        "model.add(Dense(units=32, activation='relu', input_shape=(150,)))\n",
        "model.add(Dense(units=1))\n",
        "\n",
        "model.compile(optimizer='rmsprop',\n",
        "              loss='mse')\n",
        "\n",
        "model.fit(data, labels, epochs=30, batch_size=32, validation_split=0.2)"
      ],
      "metadata": {
        "colab": {
          "base_uri": "https://localhost:8080/"
        },
        "id": "7rRBOPyCobEs",
        "outputId": "2f0ca2bb-7d68-4e06-83f3-e9c23e9d8e20"
      },
      "execution_count": 51,
      "outputs": [
        {
          "output_type": "stream",
          "name": "stdout",
          "text": [
            "Epoch 1/30\n"
          ]
        },
        {
          "output_type": "stream",
          "name": "stderr",
          "text": [
            "/usr/local/lib/python3.10/dist-packages/keras/src/layers/core/dense.py:87: UserWarning:\n",
            "\n",
            "Do not pass an `input_shape`/`input_dim` argument to a layer. When using Sequential models, prefer using an `Input(shape)` object as the first layer in the model instead.\n",
            "\n"
          ]
        },
        {
          "output_type": "stream",
          "name": "stdout",
          "text": [
            "\u001b[1m25/25\u001b[0m \u001b[32m━━━━━━━━━━━━━━━━━━━━\u001b[0m\u001b[37m\u001b[0m \u001b[1m1s\u001b[0m 8ms/step - loss: 627.2679 - val_loss: 415.8598\n",
            "Epoch 2/30\n",
            "\u001b[1m25/25\u001b[0m \u001b[32m━━━━━━━━━━━━━━━━━━━━\u001b[0m\u001b[37m\u001b[0m \u001b[1m0s\u001b[0m 3ms/step - loss: 355.8130 - val_loss: 245.6504\n",
            "Epoch 3/30\n",
            "\u001b[1m25/25\u001b[0m \u001b[32m━━━━━━━━━━━━━━━━━━━━\u001b[0m\u001b[37m\u001b[0m \u001b[1m0s\u001b[0m 3ms/step - loss: 222.9471 - val_loss: 189.2969\n",
            "Epoch 4/30\n",
            "\u001b[1m25/25\u001b[0m \u001b[32m━━━━━━━━━━━━━━━━━━━━\u001b[0m\u001b[37m\u001b[0m \u001b[1m0s\u001b[0m 3ms/step - loss: 196.9194 - val_loss: 185.9766\n",
            "Epoch 5/30\n",
            "\u001b[1m25/25\u001b[0m \u001b[32m━━━━━━━━━━━━━━━━━━━━\u001b[0m\u001b[37m\u001b[0m \u001b[1m0s\u001b[0m 3ms/step - loss: 186.8803 - val_loss: 185.2614\n",
            "Epoch 6/30\n",
            "\u001b[1m25/25\u001b[0m \u001b[32m━━━━━━━━━━━━━━━━━━━━\u001b[0m\u001b[37m\u001b[0m \u001b[1m0s\u001b[0m 3ms/step - loss: 183.8979 - val_loss: 185.4181\n",
            "Epoch 7/30\n",
            "\u001b[1m25/25\u001b[0m \u001b[32m━━━━━━━━━━━━━━━━━━━━\u001b[0m\u001b[37m\u001b[0m \u001b[1m0s\u001b[0m 3ms/step - loss: 193.7612 - val_loss: 185.6388\n",
            "Epoch 8/30\n",
            "\u001b[1m25/25\u001b[0m \u001b[32m━━━━━━━━━━━━━━━━━━━━\u001b[0m\u001b[37m\u001b[0m \u001b[1m0s\u001b[0m 3ms/step - loss: 195.6472 - val_loss: 186.4591\n",
            "Epoch 9/30\n",
            "\u001b[1m25/25\u001b[0m \u001b[32m━━━━━━━━━━━━━━━━━━━━\u001b[0m\u001b[37m\u001b[0m \u001b[1m0s\u001b[0m 3ms/step - loss: 196.5423 - val_loss: 185.8080\n",
            "Epoch 10/30\n",
            "\u001b[1m25/25\u001b[0m \u001b[32m━━━━━━━━━━━━━━━━━━━━\u001b[0m\u001b[37m\u001b[0m \u001b[1m0s\u001b[0m 3ms/step - loss: 182.4408 - val_loss: 185.7743\n",
            "Epoch 11/30\n",
            "\u001b[1m25/25\u001b[0m \u001b[32m━━━━━━━━━━━━━━━━━━━━\u001b[0m\u001b[37m\u001b[0m \u001b[1m0s\u001b[0m 3ms/step - loss: 196.1996 - val_loss: 185.9697\n",
            "Epoch 12/30\n",
            "\u001b[1m25/25\u001b[0m \u001b[32m━━━━━━━━━━━━━━━━━━━━\u001b[0m\u001b[37m\u001b[0m \u001b[1m0s\u001b[0m 3ms/step - loss: 189.7862 - val_loss: 186.0145\n",
            "Epoch 13/30\n",
            "\u001b[1m25/25\u001b[0m \u001b[32m━━━━━━━━━━━━━━━━━━━━\u001b[0m\u001b[37m\u001b[0m \u001b[1m0s\u001b[0m 3ms/step - loss: 182.2637 - val_loss: 187.1075\n",
            "Epoch 14/30\n",
            "\u001b[1m25/25\u001b[0m \u001b[32m━━━━━━━━━━━━━━━━━━━━\u001b[0m\u001b[37m\u001b[0m \u001b[1m0s\u001b[0m 4ms/step - loss: 193.0396 - val_loss: 186.1675\n",
            "Epoch 15/30\n",
            "\u001b[1m25/25\u001b[0m \u001b[32m━━━━━━━━━━━━━━━━━━━━\u001b[0m\u001b[37m\u001b[0m \u001b[1m0s\u001b[0m 3ms/step - loss: 180.8751 - val_loss: 187.0098\n",
            "Epoch 16/30\n",
            "\u001b[1m25/25\u001b[0m \u001b[32m━━━━━━━━━━━━━━━━━━━━\u001b[0m\u001b[37m\u001b[0m \u001b[1m0s\u001b[0m 3ms/step - loss: 188.2301 - val_loss: 186.3488\n",
            "Epoch 17/30\n",
            "\u001b[1m25/25\u001b[0m \u001b[32m━━━━━━━━━━━━━━━━━━━━\u001b[0m\u001b[37m\u001b[0m \u001b[1m0s\u001b[0m 3ms/step - loss: 182.6139 - val_loss: 187.3435\n",
            "Epoch 18/30\n",
            "\u001b[1m25/25\u001b[0m \u001b[32m━━━━━━━━━━━━━━━━━━━━\u001b[0m\u001b[37m\u001b[0m \u001b[1m0s\u001b[0m 3ms/step - loss: 179.7172 - val_loss: 186.5907\n",
            "Epoch 19/30\n",
            "\u001b[1m25/25\u001b[0m \u001b[32m━━━━━━━━━━━━━━━━━━━━\u001b[0m\u001b[37m\u001b[0m \u001b[1m0s\u001b[0m 3ms/step - loss: 192.4837 - val_loss: 186.8133\n",
            "Epoch 20/30\n",
            "\u001b[1m25/25\u001b[0m \u001b[32m━━━━━━━━━━━━━━━━━━━━\u001b[0m\u001b[37m\u001b[0m \u001b[1m0s\u001b[0m 3ms/step - loss: 176.2778 - val_loss: 186.7697\n",
            "Epoch 21/30\n",
            "\u001b[1m25/25\u001b[0m \u001b[32m━━━━━━━━━━━━━━━━━━━━\u001b[0m\u001b[37m\u001b[0m \u001b[1m0s\u001b[0m 4ms/step - loss: 173.8842 - val_loss: 188.2554\n",
            "Epoch 22/30\n",
            "\u001b[1m25/25\u001b[0m \u001b[32m━━━━━━━━━━━━━━━━━━━━\u001b[0m\u001b[37m\u001b[0m \u001b[1m0s\u001b[0m 3ms/step - loss: 180.0500 - val_loss: 187.1930\n",
            "Epoch 23/30\n",
            "\u001b[1m25/25\u001b[0m \u001b[32m━━━━━━━━━━━━━━━━━━━━\u001b[0m\u001b[37m\u001b[0m \u001b[1m0s\u001b[0m 3ms/step - loss: 175.0530 - val_loss: 187.6274\n",
            "Epoch 24/30\n",
            "\u001b[1m25/25\u001b[0m \u001b[32m━━━━━━━━━━━━━━━━━━━━\u001b[0m\u001b[37m\u001b[0m \u001b[1m0s\u001b[0m 3ms/step - loss: 176.4163 - val_loss: 187.3514\n",
            "Epoch 25/30\n",
            "\u001b[1m25/25\u001b[0m \u001b[32m━━━━━━━━━━━━━━━━━━━━\u001b[0m\u001b[37m\u001b[0m \u001b[1m0s\u001b[0m 3ms/step - loss: 188.8275 - val_loss: 187.5199\n",
            "Epoch 26/30\n",
            "\u001b[1m25/25\u001b[0m \u001b[32m━━━━━━━━━━━━━━━━━━━━\u001b[0m\u001b[37m\u001b[0m \u001b[1m0s\u001b[0m 3ms/step - loss: 171.3214 - val_loss: 187.4196\n",
            "Epoch 27/30\n",
            "\u001b[1m25/25\u001b[0m \u001b[32m━━━━━━━━━━━━━━━━━━━━\u001b[0m\u001b[37m\u001b[0m \u001b[1m0s\u001b[0m 3ms/step - loss: 182.8532 - val_loss: 187.7971\n",
            "Epoch 28/30\n",
            "\u001b[1m25/25\u001b[0m \u001b[32m━━━━━━━━━━━━━━━━━━━━\u001b[0m\u001b[37m\u001b[0m \u001b[1m0s\u001b[0m 3ms/step - loss: 175.2613 - val_loss: 187.8304\n",
            "Epoch 29/30\n",
            "\u001b[1m25/25\u001b[0m \u001b[32m━━━━━━━━━━━━━━━━━━━━\u001b[0m\u001b[37m\u001b[0m \u001b[1m0s\u001b[0m 3ms/step - loss: 179.5574 - val_loss: 188.0629\n",
            "Epoch 30/30\n",
            "\u001b[1m25/25\u001b[0m \u001b[32m━━━━━━━━━━━━━━━━━━━━\u001b[0m\u001b[37m\u001b[0m \u001b[1m0s\u001b[0m 4ms/step - loss: 173.7108 - val_loss: 188.6680\n"
          ]
        },
        {
          "output_type": "execute_result",
          "data": {
            "text/plain": [
              "<keras.src.callbacks.history.History at 0x7a182386fc10>"
            ]
          },
          "metadata": {},
          "execution_count": 51
        }
      ]
    },
    {
      "cell_type": "markdown",
      "source": [
        "Dlaczego w modelu regresji nie podajemy \"metrics\" do metody model.compile ?\n",
        "\n",
        "Gemini\n",
        "W modelu regresji nie podajemy \"metrics\" takich jak \"accuracy\" do metody model.compile, ponieważ \"accuracy\" nie jest odpowiednią miarą do oceny wydajności modeli regresji.\n",
        "\n",
        "Wyjaśnienie:\n",
        "\n",
        "Accuracy jest miarą używaną w klasyfikacji, gdzie liczy się odsetek poprawnie sklasyfikowanych próbek. W regresji natomiast przewidujemy ciągłe wartości, a nie kategorie.\n",
        "W regresji chcemy ocenić, jak blisko przewidywania są rzeczywistych wartości. Do tego celu używamy innych metryk, takich jak:\n",
        "Mean Squared Error (MSE): Średni kwadrat błędu między przewidywaniami a wartościami rzeczywistymi.\n",
        "Root Mean Squared Error (RMSE): Pierwiastek kwadratowy z MSE.\n",
        "Mean Absolute Error (MAE): Średnia wartość bezwzględna błędu między przewidywaniami a wartościami rzeczywistymi.\n",
        "R-squared: Współczynnik determinacji, który mierzy, jak dobrze model pasuje do danych.\n",
        "Przykład:\n",
        "\n",
        "\n",
        "from tensorflow import keras\n",
        "\n",
        "# ... definicja modelu ...\n",
        "\n",
        "model.compile(optimizer='adam',\n",
        "              loss='mse',  # Funkcja straty dla regresji\n",
        "              metrics=['mae', 'rmse']) # Metryki dla regresji\n",
        "Use code with caution\n",
        "W powyższym przykładzie używamy mse jako funkcji straty (loss function) i mae oraz rmse jako metryk do oceny modelu regresji.\n",
        "\n",
        "Podsumowanie:\n",
        "\n",
        "\"Accuracy\" nie jest odpowiednią miarą dla modeli regresji.\n",
        "W regresji używamy metryk takich jak MSE, RMSE, MAE i R-squared do oceny wydajności modelu.\n",
        "Metryki te mierzą, jak blisko przewidywania są rzeczywistych wartości."
      ],
      "metadata": {
        "id": "lD9t1iIKo-ma"
      }
    },
    {
      "cell_type": "code",
      "source": [
        "model = Sequential()\n",
        "model.add(Dense(units=32, activation='relu', input_shape=(150,)))\n",
        "model.add(Dense(units=1))\n",
        "\n",
        "model.compile(optimizer='rmsprop',\n",
        "              loss='mae',\n",
        "              metrics=['mse'])\n",
        "\n",
        "model.fit(data, labels, epochs=30, batch_size=32, validation_split=0.2)"
      ],
      "metadata": {
        "colab": {
          "base_uri": "https://localhost:8080/"
        },
        "id": "Nq4Hc0x-pBpx",
        "outputId": "042fc718-0641-43e1-8c22-6140f04b9573"
      },
      "execution_count": 52,
      "outputs": [
        {
          "output_type": "stream",
          "name": "stdout",
          "text": [
            "Epoch 1/30\n",
            "\u001b[1m25/25\u001b[0m \u001b[32m━━━━━━━━━━━━━━━━━━━━\u001b[0m\u001b[37m\u001b[0m \u001b[1m1s\u001b[0m 9ms/step - loss: 21.7881 - mse: 665.5618 - val_loss: 16.0227 - val_mse: 385.4216\n",
            "Epoch 2/30\n",
            "\u001b[1m25/25\u001b[0m \u001b[32m━━━━━━━━━━━━━━━━━━━━\u001b[0m\u001b[37m\u001b[0m \u001b[1m0s\u001b[0m 3ms/step - loss: 14.8458 - mse: 333.7926 - val_loss: 12.4518 - val_mse: 228.8550\n",
            "Epoch 3/30\n",
            "\u001b[1m25/25\u001b[0m \u001b[32m━━━━━━━━━━━━━━━━━━━━\u001b[0m\u001b[37m\u001b[0m \u001b[1m0s\u001b[0m 3ms/step - loss: 12.8425 - mse: 228.2542 - val_loss: 11.6057 - val_mse: 189.7400\n",
            "Epoch 4/30\n",
            "\u001b[1m25/25\u001b[0m \u001b[32m━━━━━━━━━━━━━━━━━━━━\u001b[0m\u001b[37m\u001b[0m \u001b[1m0s\u001b[0m 3ms/step - loss: 12.0196 - mse: 195.6732 - val_loss: 11.5603 - val_mse: 185.8077\n",
            "Epoch 5/30\n",
            "\u001b[1m25/25\u001b[0m \u001b[32m━━━━━━━━━━━━━━━━━━━━\u001b[0m\u001b[37m\u001b[0m \u001b[1m0s\u001b[0m 3ms/step - loss: 11.3427 - mse: 179.1329 - val_loss: 11.5529 - val_mse: 185.5551\n",
            "Epoch 6/30\n",
            "\u001b[1m25/25\u001b[0m \u001b[32m━━━━━━━━━━━━━━━━━━━━\u001b[0m\u001b[37m\u001b[0m \u001b[1m0s\u001b[0m 3ms/step - loss: 11.5430 - mse: 183.1139 - val_loss: 11.5540 - val_mse: 185.6346\n",
            "Epoch 7/30\n",
            "\u001b[1m25/25\u001b[0m \u001b[32m━━━━━━━━━━━━━━━━━━━━\u001b[0m\u001b[37m\u001b[0m \u001b[1m0s\u001b[0m 3ms/step - loss: 11.8524 - mse: 192.4002 - val_loss: 11.5547 - val_mse: 185.9528\n",
            "Epoch 8/30\n",
            "\u001b[1m25/25\u001b[0m \u001b[32m━━━━━━━━━━━━━━━━━━━━\u001b[0m\u001b[37m\u001b[0m \u001b[1m0s\u001b[0m 3ms/step - loss: 11.7361 - mse: 189.9537 - val_loss: 11.5588 - val_mse: 186.0735\n",
            "Epoch 9/30\n",
            "\u001b[1m25/25\u001b[0m \u001b[32m━━━━━━━━━━━━━━━━━━━━\u001b[0m\u001b[37m\u001b[0m \u001b[1m0s\u001b[0m 3ms/step - loss: 11.9134 - mse: 193.0723 - val_loss: 11.5520 - val_mse: 185.8654\n",
            "Epoch 10/30\n",
            "\u001b[1m25/25\u001b[0m \u001b[32m━━━━━━━━━━━━━━━━━━━━\u001b[0m\u001b[37m\u001b[0m \u001b[1m0s\u001b[0m 3ms/step - loss: 11.8845 - mse: 193.9680 - val_loss: 11.5524 - val_mse: 185.9829\n",
            "Epoch 11/30\n",
            "\u001b[1m25/25\u001b[0m \u001b[32m━━━━━━━━━━━━━━━━━━━━\u001b[0m\u001b[37m\u001b[0m \u001b[1m0s\u001b[0m 3ms/step - loss: 11.6839 - mse: 185.6425 - val_loss: 11.5435 - val_mse: 185.8676\n",
            "Epoch 12/30\n",
            "\u001b[1m25/25\u001b[0m \u001b[32m━━━━━━━━━━━━━━━━━━━━\u001b[0m\u001b[37m\u001b[0m \u001b[1m0s\u001b[0m 3ms/step - loss: 11.4496 - mse: 181.2990 - val_loss: 11.5440 - val_mse: 185.9175\n",
            "Epoch 13/30\n",
            "\u001b[1m25/25\u001b[0m \u001b[32m━━━━━━━━━━━━━━━━━━━━\u001b[0m\u001b[37m\u001b[0m \u001b[1m0s\u001b[0m 3ms/step - loss: 11.8105 - mse: 185.8265 - val_loss: 11.5632 - val_mse: 186.9689\n",
            "Epoch 14/30\n",
            "\u001b[1m25/25\u001b[0m \u001b[32m━━━━━━━━━━━━━━━━━━━━\u001b[0m\u001b[37m\u001b[0m \u001b[1m0s\u001b[0m 3ms/step - loss: 11.6171 - mse: 185.7269 - val_loss: 11.5471 - val_mse: 186.1792\n",
            "Epoch 15/30\n",
            "\u001b[1m25/25\u001b[0m \u001b[32m━━━━━━━━━━━━━━━━━━━━\u001b[0m\u001b[37m\u001b[0m \u001b[1m0s\u001b[0m 3ms/step - loss: 11.5781 - mse: 181.2117 - val_loss: 11.5499 - val_mse: 186.4671\n",
            "Epoch 16/30\n",
            "\u001b[1m25/25\u001b[0m \u001b[32m━━━━━━━━━━━━━━━━━━━━\u001b[0m\u001b[37m\u001b[0m \u001b[1m0s\u001b[0m 3ms/step - loss: 11.6651 - mse: 188.0099 - val_loss: 11.5810 - val_mse: 188.0134\n",
            "Epoch 17/30\n",
            "\u001b[1m25/25\u001b[0m \u001b[32m━━━━━━━━━━━━━━━━━━━━\u001b[0m\u001b[37m\u001b[0m \u001b[1m0s\u001b[0m 3ms/step - loss: 11.4122 - mse: 180.5475 - val_loss: 11.5401 - val_mse: 186.2701\n",
            "Epoch 18/30\n",
            "\u001b[1m25/25\u001b[0m \u001b[32m━━━━━━━━━━━━━━━━━━━━\u001b[0m\u001b[37m\u001b[0m \u001b[1m0s\u001b[0m 4ms/step - loss: 11.7687 - mse: 188.6948 - val_loss: 11.5438 - val_mse: 186.5133\n",
            "Epoch 19/30\n",
            "\u001b[1m25/25\u001b[0m \u001b[32m━━━━━━━━━━━━━━━━━━━━\u001b[0m\u001b[37m\u001b[0m \u001b[1m0s\u001b[0m 5ms/step - loss: 11.8107 - mse: 188.8030 - val_loss: 11.6056 - val_mse: 189.0651\n",
            "Epoch 20/30\n",
            "\u001b[1m25/25\u001b[0m \u001b[32m━━━━━━━━━━━━━━━━━━━━\u001b[0m\u001b[37m\u001b[0m \u001b[1m0s\u001b[0m 5ms/step - loss: 11.9643 - mse: 195.5257 - val_loss: 11.6361 - val_mse: 190.6659\n",
            "Epoch 21/30\n",
            "\u001b[1m25/25\u001b[0m \u001b[32m━━━━━━━━━━━━━━━━━━━━\u001b[0m\u001b[37m\u001b[0m \u001b[1m0s\u001b[0m 5ms/step - loss: 11.6096 - mse: 184.4373 - val_loss: 11.5770 - val_mse: 187.7347\n",
            "Epoch 22/30\n",
            "\u001b[1m25/25\u001b[0m \u001b[32m━━━━━━━━━━━━━━━━━━━━\u001b[0m\u001b[37m\u001b[0m \u001b[1m0s\u001b[0m 6ms/step - loss: 11.8388 - mse: 190.3215 - val_loss: 11.5613 - val_mse: 187.2579\n",
            "Epoch 23/30\n",
            "\u001b[1m25/25\u001b[0m \u001b[32m━━━━━━━━━━━━━━━━━━━━\u001b[0m\u001b[37m\u001b[0m \u001b[1m0s\u001b[0m 5ms/step - loss: 11.4931 - mse: 182.1524 - val_loss: 11.5672 - val_mse: 187.5819\n",
            "Epoch 24/30\n",
            "\u001b[1m25/25\u001b[0m \u001b[32m━━━━━━━━━━━━━━━━━━━━\u001b[0m\u001b[37m\u001b[0m \u001b[1m0s\u001b[0m 5ms/step - loss: 11.6533 - mse: 186.8768 - val_loss: 11.5585 - val_mse: 187.4602\n",
            "Epoch 25/30\n",
            "\u001b[1m25/25\u001b[0m \u001b[32m━━━━━━━━━━━━━━━━━━━━\u001b[0m\u001b[37m\u001b[0m \u001b[1m0s\u001b[0m 5ms/step - loss: 11.2531 - mse: 178.1881 - val_loss: 11.5733 - val_mse: 188.2770\n",
            "Epoch 26/30\n",
            "\u001b[1m25/25\u001b[0m \u001b[32m━━━━━━━━━━━━━━━━━━━━\u001b[0m\u001b[37m\u001b[0m \u001b[1m0s\u001b[0m 3ms/step - loss: 11.2998 - mse: 178.9449 - val_loss: 11.5795 - val_mse: 188.7248\n",
            "Epoch 27/30\n",
            "\u001b[1m25/25\u001b[0m \u001b[32m━━━━━━━━━━━━━━━━━━━━\u001b[0m\u001b[37m\u001b[0m \u001b[1m0s\u001b[0m 3ms/step - loss: 11.4068 - mse: 180.6413 - val_loss: 11.5642 - val_mse: 188.0556\n",
            "Epoch 28/30\n",
            "\u001b[1m25/25\u001b[0m \u001b[32m━━━━━━━━━━━━━━━━━━━━\u001b[0m\u001b[37m\u001b[0m \u001b[1m0s\u001b[0m 3ms/step - loss: 11.5760 - mse: 184.1648 - val_loss: 11.6018 - val_mse: 189.4079\n",
            "Epoch 29/30\n",
            "\u001b[1m25/25\u001b[0m \u001b[32m━━━━━━━━━━━━━━━━━━━━\u001b[0m\u001b[37m\u001b[0m \u001b[1m0s\u001b[0m 3ms/step - loss: 11.2064 - mse: 176.6638 - val_loss: 11.5706 - val_mse: 188.6116\n",
            "Epoch 30/30\n",
            "\u001b[1m25/25\u001b[0m \u001b[32m━━━━━━━━━━━━━━━━━━━━\u001b[0m\u001b[37m\u001b[0m \u001b[1m0s\u001b[0m 3ms/step - loss: 11.3782 - mse: 182.3357 - val_loss: 11.6170 - val_mse: 190.2237\n"
          ]
        },
        {
          "output_type": "execute_result",
          "data": {
            "text/plain": [
              "<keras.src.callbacks.history.History at 0x7a1821af8be0>"
            ]
          },
          "metadata": {},
          "execution_count": 52
        }
      ]
    },
    {
      "cell_type": "markdown",
      "source": [
        "co oznaczają te wratośći z outputu metody model.fit()\n",
        "\n",
        "9ms/step - loss: 21.7881 - mse: 665.5618 - val_loss: 16.0227 - val_mse: 385.4216\n",
        "\n",
        "Gemini\n",
        "Wartości, które widzisz w outputcie metody model.fit(), reprezentują różne metryki monitorowane podczas trenowania Twojego modelu. Oto ich znaczenie:\n",
        "\n",
        "loss: To wartość funkcji straty (loss function) obliczona dla danych treningowych. Wskazuje, jak dobrze model radzi sobie z przewidywaniem wartości dla danych, na których jest trenowany. Niższa wartość loss oznacza lepsze dopasowanie modelu do danych treningowych. W Twoim przypadku, loss wynosi 21.7881.\n",
        "\n",
        "mse: To Mean Squared Error (MSE) obliczony dla danych treningowych. MSE jest jedną z metryk używanych do oceny wydajności modeli regresji. Mierzy średni kwadrat błędu między przewidywaniami modelu a wartościami rzeczywistymi. Niższa wartość mse oznacza lepsze dopasowanie modelu. W Twoim przypadku, mse wynosi 665.5618.\n",
        "\n",
        "val_loss: To wartość funkcji straty obliczona dla danych walidacyjnych. Dane walidacyjne to oddzielny zestaw danych, który nie jest używany do trenowania modelu. Służy do monitorowania wydajności modelu na niewidzianych wcześniej danych. Niższa wartość val_loss oznacza lepsze uogólnienie modelu, czyli lepsze radzenie sobie z nowymi danymi. W Twoim przypadku, val_loss wynosi 16.0227.\n",
        "\n",
        "val_mse: To Mean Squared Error (MSE) obliczony dla danych walidacyjnych. Podobnie jak val_loss, niższa wartość val_mse oznacza lepsze uogólnienie modelu. W Twoim przypadku, val_mse wynosi 385.4216.\n",
        "\n",
        "9ms/step: To czas potrzebny na przetworzenie jednego kroku (batch) danych treningowych. W Twoim przypadku, jeden krok zajmuje 9 milisekund.\n",
        "\n",
        "Podsumowanie:\n",
        "\n",
        "Te wartości dają Ci wgląd w to, jak dobrze Twój model uczy się i uogólnia na niewidzianych wcześniej danych. Monitorowanie tych metryk podczas treningu pozwala na ocenę postępów modelu i ewentualną modyfikację hiperparametrów w celu poprawy jego wydajności.\n",
        "\n",
        "Zwróć uwagę na różnicę między metrykami obliczonymi dla danych treningowych (loss, mse) a metrykami obliczonymi dla danych walidacyjnych (val_loss, val_mse). Duża różnica między tymi wartościami może wskazywać na przeuczenie (overfitting) modelu, co oznacza, że model zbyt dobrze dopasował się do danych treningowych i słabo radzi sobie z nowymi danymi."
      ],
      "metadata": {
        "id": "pbGYMbiWprwy"
      }
    },
    {
      "cell_type": "code",
      "source": [
        "test_data = np.random.random((10, 150))\n",
        "\n",
        "model.predict(test_data)"
      ],
      "metadata": {
        "colab": {
          "base_uri": "https://localhost:8080/"
        },
        "id": "Dh5Y-IwHpFG3",
        "outputId": "00007b84-25f4-4a77-ee15-8ea4388f63ba"
      },
      "execution_count": 53,
      "outputs": [
        {
          "output_type": "stream",
          "name": "stdout",
          "text": [
            "\u001b[1m1/1\u001b[0m \u001b[32m━━━━━━━━━━━━━━━━━━━━\u001b[0m\u001b[37m\u001b[0m \u001b[1m0s\u001b[0m 71ms/step\n"
          ]
        },
        {
          "output_type": "execute_result",
          "data": {
            "text/plain": [
              "array([[23.995935],\n",
              "       [21.668957],\n",
              "       [23.033037],\n",
              "       [23.64813 ],\n",
              "       [21.178606],\n",
              "       [20.31038 ],\n",
              "       [25.928959],\n",
              "       [25.432278],\n",
              "       [20.9938  ],\n",
              "       [20.5799  ]], dtype=float32)"
            ]
          },
          "metadata": {},
          "execution_count": 53
        }
      ]
    }
  ]
}